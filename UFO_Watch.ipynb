{
 "cells": [
  {
   "cell_type": "markdown",
   "id": "09cc462d-8554-4301-9272-55d80981270a",
   "metadata": {
    "jp-MarkdownHeadingCollapsed": true
   },
   "source": [
    "## A data analysis of ufo sightings. <br><br>This data was obtained from Kaggle (https://www.kaggle.com/code/hakeemtfrank/ufo-sightings-data-exploration/input) which was in turn obtained from NUFORC."
   ]
  },
  {
   "cell_type": "markdown",
   "id": "c30cab76-3e6b-4baf-ad7d-97e473be4426",
   "metadata": {},
   "source": [
    "## Some questions to be asked:\n",
    "-  Where do the most UFO sightings occur.\n",
    "-  How do the number of sightings differ over the years.\n",
    "-  Any trends in the distribution of UFO shapes over the years.\n",
    "-  Any times of year, seasons especially rampant with aliens?\n",
    "-  Do different shapes prefer certain areas. Say do 50% of spheres hang over Seattle?"
   ]
  },
  {
   "cell_type": "code",
   "execution_count": 2,
   "id": "141eeaaa-306f-49b8-adf0-2f0b6b201728",
   "metadata": {},
   "outputs": [
    {
     "data": {
      "text/html": [
       "<div>\n",
       "<style scoped>\n",
       "    .dataframe tbody tr th:only-of-type {\n",
       "        vertical-align: middle;\n",
       "    }\n",
       "\n",
       "    .dataframe tbody tr th {\n",
       "        vertical-align: top;\n",
       "    }\n",
       "\n",
       "    .dataframe thead th {\n",
       "        text-align: right;\n",
       "    }\n",
       "</style>\n",
       "<table border=\"1\" class=\"dataframe\">\n",
       "  <thead>\n",
       "    <tr style=\"text-align: right;\">\n",
       "      <th></th>\n",
       "      <th>datetime</th>\n",
       "      <th>city</th>\n",
       "      <th>state</th>\n",
       "      <th>country</th>\n",
       "      <th>shape</th>\n",
       "      <th>duration (seconds)</th>\n",
       "      <th>duration (hours/min)</th>\n",
       "      <th>comments</th>\n",
       "      <th>date posted</th>\n",
       "      <th>latitude</th>\n",
       "      <th>longitude</th>\n",
       "    </tr>\n",
       "  </thead>\n",
       "  <tbody>\n",
       "    <tr>\n",
       "      <th>0</th>\n",
       "      <td>10/10/1949 20:30</td>\n",
       "      <td>san marcos</td>\n",
       "      <td>tx</td>\n",
       "      <td>us</td>\n",
       "      <td>cylinder</td>\n",
       "      <td>2700</td>\n",
       "      <td>45 minutes</td>\n",
       "      <td>This event took place in early fall around 194...</td>\n",
       "      <td>4/27/2004</td>\n",
       "      <td>29.8830556</td>\n",
       "      <td>-97.941111</td>\n",
       "    </tr>\n",
       "    <tr>\n",
       "      <th>1</th>\n",
       "      <td>10/10/1949 21:00</td>\n",
       "      <td>lackland afb</td>\n",
       "      <td>tx</td>\n",
       "      <td>NaN</td>\n",
       "      <td>light</td>\n",
       "      <td>7200</td>\n",
       "      <td>1-2 hrs</td>\n",
       "      <td>1949 Lackland AFB&amp;#44 TX.  Lights racing acros...</td>\n",
       "      <td>12/16/2005</td>\n",
       "      <td>29.38421</td>\n",
       "      <td>-98.581082</td>\n",
       "    </tr>\n",
       "    <tr>\n",
       "      <th>2</th>\n",
       "      <td>10/10/1955 17:00</td>\n",
       "      <td>chester (uk/england)</td>\n",
       "      <td>NaN</td>\n",
       "      <td>gb</td>\n",
       "      <td>circle</td>\n",
       "      <td>20</td>\n",
       "      <td>20 seconds</td>\n",
       "      <td>Green/Orange circular disc over Chester&amp;#44 En...</td>\n",
       "      <td>1/21/2008</td>\n",
       "      <td>53.2</td>\n",
       "      <td>-2.916667</td>\n",
       "    </tr>\n",
       "    <tr>\n",
       "      <th>3</th>\n",
       "      <td>10/10/1956 21:00</td>\n",
       "      <td>edna</td>\n",
       "      <td>tx</td>\n",
       "      <td>us</td>\n",
       "      <td>circle</td>\n",
       "      <td>20</td>\n",
       "      <td>1/2 hour</td>\n",
       "      <td>My older brother and twin sister were leaving ...</td>\n",
       "      <td>1/17/2004</td>\n",
       "      <td>28.9783333</td>\n",
       "      <td>-96.645833</td>\n",
       "    </tr>\n",
       "    <tr>\n",
       "      <th>4</th>\n",
       "      <td>10/10/1960 20:00</td>\n",
       "      <td>kaneohe</td>\n",
       "      <td>hi</td>\n",
       "      <td>us</td>\n",
       "      <td>light</td>\n",
       "      <td>900</td>\n",
       "      <td>15 minutes</td>\n",
       "      <td>AS a Marine 1st Lt. flying an FJ4B fighter/att...</td>\n",
       "      <td>1/22/2004</td>\n",
       "      <td>21.4180556</td>\n",
       "      <td>-157.803611</td>\n",
       "    </tr>\n",
       "  </tbody>\n",
       "</table>\n",
       "</div>"
      ],
      "text/plain": [
       "           datetime                  city state country     shape  \\\n",
       "0  10/10/1949 20:30            san marcos    tx      us  cylinder   \n",
       "1  10/10/1949 21:00          lackland afb    tx     NaN     light   \n",
       "2  10/10/1955 17:00  chester (uk/england)   NaN      gb    circle   \n",
       "3  10/10/1956 21:00                  edna    tx      us    circle   \n",
       "4  10/10/1960 20:00               kaneohe    hi      us     light   \n",
       "\n",
       "  duration (seconds) duration (hours/min)  \\\n",
       "0               2700           45 minutes   \n",
       "1               7200              1-2 hrs   \n",
       "2                 20           20 seconds   \n",
       "3                 20             1/2 hour   \n",
       "4                900           15 minutes   \n",
       "\n",
       "                                            comments date posted    latitude  \\\n",
       "0  This event took place in early fall around 194...   4/27/2004  29.8830556   \n",
       "1  1949 Lackland AFB&#44 TX.  Lights racing acros...  12/16/2005    29.38421   \n",
       "2  Green/Orange circular disc over Chester&#44 En...   1/21/2008        53.2   \n",
       "3  My older brother and twin sister were leaving ...   1/17/2004  28.9783333   \n",
       "4  AS a Marine 1st Lt. flying an FJ4B fighter/att...   1/22/2004  21.4180556   \n",
       "\n",
       "    longitude  \n",
       "0  -97.941111  \n",
       "1  -98.581082  \n",
       "2   -2.916667  \n",
       "3  -96.645833  \n",
       "4 -157.803611  "
      ]
     },
     "execution_count": 2,
     "metadata": {},
     "output_type": "execute_result"
    }
   ],
   "source": [
    "# Import useful libraries\n",
    "\n",
    "import pandas as pd\n",
    "import numpy as np\n",
    "import matplotlib.pyplot as plt\n",
    "import re\n",
    "import seaborn as sns\n",
    "import datetime as dt\n",
    "\n",
    "import geopandas as gpd\n",
    "from shapely.geometry import Point\n",
    "\n",
    "import warnings\n",
    "warnings.filterwarnings('ignore')\n",
    "\n",
    "%matplotlib inline\n",
    "\n",
    "# Read in the source data and display top 5 rows.\n",
    "axdf=pd.read_csv('complete_v3.csv', on_bad_lines='skip',low_memory = False)\n",
    "axdf.head(5)\n"
   ]
  },
  {
   "cell_type": "code",
   "execution_count": 7,
   "id": "96c91630-4eda-47f4-8b6b-49b3e039af5c",
   "metadata": {},
   "outputs": [
    {
     "data": {
      "text/html": [
       "<div>\n",
       "<style scoped>\n",
       "    .dataframe tbody tr th:only-of-type {\n",
       "        vertical-align: middle;\n",
       "    }\n",
       "\n",
       "    .dataframe tbody tr th {\n",
       "        vertical-align: top;\n",
       "    }\n",
       "\n",
       "    .dataframe thead th {\n",
       "        text-align: right;\n",
       "    }\n",
       "</style>\n",
       "<table border=\"1\" class=\"dataframe\">\n",
       "  <thead>\n",
       "    <tr style=\"text-align: right;\">\n",
       "      <th></th>\n",
       "      <th>datetime</th>\n",
       "      <th>city</th>\n",
       "      <th>state</th>\n",
       "      <th>country</th>\n",
       "      <th>shape</th>\n",
       "      <th>duration (seconds)</th>\n",
       "      <th>duration (hours/min)</th>\n",
       "      <th>comments</th>\n",
       "      <th>date posted</th>\n",
       "      <th>latitude</th>\n",
       "      <th>longitude</th>\n",
       "    </tr>\n",
       "  </thead>\n",
       "  <tbody>\n",
       "    <tr>\n",
       "      <th>88674</th>\n",
       "      <td>9/9/2013 22:00</td>\n",
       "      <td>napa</td>\n",
       "      <td>ca</td>\n",
       "      <td>us</td>\n",
       "      <td>other</td>\n",
       "      <td>1200</td>\n",
       "      <td>hour</td>\n",
       "      <td>Napa UFO&amp;#44</td>\n",
       "      <td>9/30/2013</td>\n",
       "      <td>38.2972222</td>\n",
       "      <td>-122.284444</td>\n",
       "    </tr>\n",
       "    <tr>\n",
       "      <th>88675</th>\n",
       "      <td>9/9/2013 22:20</td>\n",
       "      <td>vienna</td>\n",
       "      <td>va</td>\n",
       "      <td>us</td>\n",
       "      <td>circle</td>\n",
       "      <td>5</td>\n",
       "      <td>5 seconds</td>\n",
       "      <td>Saw a five gold lit cicular craft moving fastl...</td>\n",
       "      <td>9/30/2013</td>\n",
       "      <td>38.9011111</td>\n",
       "      <td>-77.265556</td>\n",
       "    </tr>\n",
       "    <tr>\n",
       "      <th>88677</th>\n",
       "      <td>9/9/2013 23:00</td>\n",
       "      <td>starr</td>\n",
       "      <td>sc</td>\n",
       "      <td>us</td>\n",
       "      <td>diamond</td>\n",
       "      <td>0</td>\n",
       "      <td>2 nights</td>\n",
       "      <td>On September ninth my wife and i noticed stran...</td>\n",
       "      <td>9/30/2013</td>\n",
       "      <td>34.3769444</td>\n",
       "      <td>-82.695833</td>\n",
       "    </tr>\n",
       "    <tr>\n",
       "      <th>88676</th>\n",
       "      <td>9/9/2013 23:00</td>\n",
       "      <td>edmond</td>\n",
       "      <td>ok</td>\n",
       "      <td>us</td>\n",
       "      <td>cigar</td>\n",
       "      <td>1020</td>\n",
       "      <td>17 minutes</td>\n",
       "      <td>2 witnesses 2  miles apart&amp;#44 Red &amp;amp; White...</td>\n",
       "      <td>9/30/2013</td>\n",
       "      <td>35.6527778</td>\n",
       "      <td>-97.477778</td>\n",
       "    </tr>\n",
       "    <tr>\n",
       "      <th>88678</th>\n",
       "      <td>9/9/2013 23:30</td>\n",
       "      <td>ft. lauderdale</td>\n",
       "      <td>fl</td>\n",
       "      <td>us</td>\n",
       "      <td>oval</td>\n",
       "      <td>0</td>\n",
       "      <td>still occuring</td>\n",
       "      <td>Hovering object lit with red and white lights&amp;...</td>\n",
       "      <td>9/30/2013</td>\n",
       "      <td>26.1219444</td>\n",
       "      <td>-80.143611</td>\n",
       "    </tr>\n",
       "  </tbody>\n",
       "</table>\n",
       "</div>"
      ],
      "text/plain": [
       "             datetime            city state country    shape  \\\n",
       "88674  9/9/2013 22:00            napa    ca      us    other   \n",
       "88675  9/9/2013 22:20          vienna    va      us   circle   \n",
       "88677  9/9/2013 23:00           starr    sc      us  diamond   \n",
       "88676  9/9/2013 23:00          edmond    ok      us    cigar   \n",
       "88678  9/9/2013 23:30  ft. lauderdale    fl      us     oval   \n",
       "\n",
       "      duration (seconds) duration (hours/min)  \\\n",
       "88674               1200                 hour   \n",
       "88675                  5            5 seconds   \n",
       "88677                  0             2 nights   \n",
       "88676               1020           17 minutes   \n",
       "88678                  0       still occuring   \n",
       "\n",
       "                                                comments date posted  \\\n",
       "88674                                       Napa UFO&#44   9/30/2013   \n",
       "88675  Saw a five gold lit cicular craft moving fastl...   9/30/2013   \n",
       "88677  On September ninth my wife and i noticed stran...   9/30/2013   \n",
       "88676  2 witnesses 2  miles apart&#44 Red &amp; White...   9/30/2013   \n",
       "88678  Hovering object lit with red and white lights&...   9/30/2013   \n",
       "\n",
       "         latitude   longitude  \n",
       "88674  38.2972222 -122.284444  \n",
       "88675  38.9011111  -77.265556  \n",
       "88677  34.3769444  -82.695833  \n",
       "88676  35.6527778  -97.477778  \n",
       "88678  26.1219444  -80.143611  "
      ]
     },
     "execution_count": 7,
     "metadata": {},
     "output_type": "execute_result"
    }
   ],
   "source": [
    "df = axdf.sort_values('datetime')\n",
    "df.tail()"
   ]
  },
  {
   "cell_type": "markdown",
   "id": "87d94075-9864-40aa-9933-93bf166a0476",
   "metadata": {},
   "source": [
    "## So lets have a look at what we have and try to clean up a little"
   ]
  },
  {
   "cell_type": "code",
   "execution_count": 2,
   "id": "714cd202-a8a3-4811-9305-3a0fda1314ad",
   "metadata": {
    "scrolled": true
   },
   "outputs": [
    {
     "name": "stdout",
     "output_type": "stream",
     "text": [
      "<class 'pandas.core.frame.DataFrame'>\n",
      "RangeIndex: 88679 entries, 0 to 88678\n",
      "Data columns (total 11 columns):\n",
      " #   Column                Non-Null Count  Dtype  \n",
      "---  ------                --------------  -----  \n",
      " 0   datetime              88679 non-null  object \n",
      " 1   city                  88679 non-null  object \n",
      " 2   state                 81270 non-null  object \n",
      " 3   country               76314 non-null  object \n",
      " 4   shape                 85757 non-null  object \n",
      " 5   duration (seconds)    88677 non-null  object \n",
      " 6   duration (hours/min)  85660 non-null  object \n",
      " 7   comments              88644 non-null  object \n",
      " 8   date posted           88679 non-null  object \n",
      " 9   latitude              88679 non-null  object \n",
      " 10  longitude             88679 non-null  float64\n",
      "dtypes: float64(1), object(10)\n",
      "memory usage: 7.4+ MB\n"
     ]
    }
   ],
   "source": [
    "axdf.info()"
   ]
  },
  {
   "cell_type": "code",
   "execution_count": 3,
   "id": "b0e4d283-7a1f-4cc2-a959-bc1d4d2d6f2f",
   "metadata": {},
   "outputs": [
    {
     "data": {
      "text/plain": [
       "(88679, 11)"
      ]
     },
     "execution_count": 3,
     "metadata": {},
     "output_type": "execute_result"
    }
   ],
   "source": [
    "axdf.shape"
   ]
  },
  {
   "cell_type": "markdown",
   "id": "27f9ff71-04d3-46e5-ba83-08cb67fa7e29",
   "metadata": {},
   "source": [
    "## I'm going to get rid of the duration columns because I will not be using that as a part of this analysis."
   ]
  },
  {
   "cell_type": "code",
   "execution_count": 4,
   "id": "319ed65e-48d0-4ef6-afea-9f58d8246f5a",
   "metadata": {},
   "outputs": [],
   "source": [
    "axdf.drop(columns=['duration (hours/min)', 'duration (seconds)'], inplace = True)"
   ]
  },
  {
   "cell_type": "markdown",
   "id": "9679714c-181b-4702-a820-9ff4340def3d",
   "metadata": {},
   "source": [
    "## Now lets check for duplicates and drop any."
   ]
  },
  {
   "cell_type": "code",
   "execution_count": 5,
   "id": "a6aba27e-6212-4759-a2fc-92c5ed6f12ff",
   "metadata": {},
   "outputs": [
    {
     "name": "stdout",
     "output_type": "stream",
     "text": [
      "              datetime       city state country  shape            comments  \\\n",
      "69419   7/4/2013 22:00   shakopee    mn      us  light   Orange fast orbs.   \n",
      "78211  8/30/2013 21:45  haymarket    va      us  light  2 bright lights...   \n",
      "\n",
      "      date posted    latitude  longitude  \n",
      "69419    7/5/2013  44.7980556 -93.526667  \n",
      "78211    9/9/2013  38.8119444 -77.636667  \n"
     ]
    }
   ],
   "source": [
    "duplicates = axdf.duplicated()\n",
    "print(axdf[duplicates])"
   ]
  },
  {
   "cell_type": "code",
   "execution_count": 6,
   "id": "0e927127-1f11-4de1-9b84-d2b95eb19293",
   "metadata": {},
   "outputs": [],
   "source": [
    "axdf.drop_duplicates(inplace = True)"
   ]
  },
  {
   "cell_type": "markdown",
   "id": "36ce15d5-5bb4-453e-8007-0d57d14840dd",
   "metadata": {},
   "source": [
    "## I should probably change the latitude and duration (seconds) columns to be numeric. I'll remove any (and there are) alpha characters first."
   ]
  },
  {
   "cell_type": "code",
   "execution_count": 7,
   "id": "0eee9fa6-ff0c-4ef3-9b1b-6099df3d28f6",
   "metadata": {},
   "outputs": [],
   "source": [
    "axdf['latitude'] = axdf['latitude'].str.replace(\"[a-zA-Z]\",'', regex = True)\n",
    "axdf['latitude'] = axdf['latitude'].astype(float)"
   ]
  },
  {
   "cell_type": "markdown",
   "id": "c68532ef-f63b-4dc5-a855-9296d342a4ad",
   "metadata": {},
   "source": [
    "## I want to remove leading and trailing spaces."
   ]
  },
  {
   "cell_type": "code",
   "execution_count": 8,
   "id": "7f68af8d-6a85-45d7-899f-5ed9d1471c6d",
   "metadata": {},
   "outputs": [],
   "source": [
    "axdf['city'] = axdf['city'].str.strip()\n",
    "axdf['country'] = axdf['country'].str.strip()\n",
    "axdf['state'] = axdf['state'].str.strip()\n",
    "axdf['shape'] = axdf['shape'].str.strip()"
   ]
  },
  {
   "cell_type": "markdown",
   "id": "c931579c-3bdc-407c-b61b-17767574925a",
   "metadata": {},
   "source": [
    "## Lets see some stats on the data."
   ]
  },
  {
   "cell_type": "code",
   "execution_count": 9,
   "id": "a2849c60-dfec-46bd-bc2a-4ba595cdf1fe",
   "metadata": {},
   "outputs": [
    {
     "data": {
      "text/html": [
       "<div>\n",
       "<style scoped>\n",
       "    .dataframe tbody tr th:only-of-type {\n",
       "        vertical-align: middle;\n",
       "    }\n",
       "\n",
       "    .dataframe tbody tr th {\n",
       "        vertical-align: top;\n",
       "    }\n",
       "\n",
       "    .dataframe thead th {\n",
       "        text-align: right;\n",
       "    }\n",
       "</style>\n",
       "<table border=\"1\" class=\"dataframe\">\n",
       "  <thead>\n",
       "    <tr style=\"text-align: right;\">\n",
       "      <th></th>\n",
       "      <th>count</th>\n",
       "      <th>mean</th>\n",
       "      <th>std</th>\n",
       "      <th>min</th>\n",
       "      <th>25%</th>\n",
       "      <th>50%</th>\n",
       "      <th>75%</th>\n",
       "      <th>max</th>\n",
       "    </tr>\n",
       "  </thead>\n",
       "  <tbody>\n",
       "    <tr>\n",
       "      <th>latitude</th>\n",
       "      <td>88677.0</td>\n",
       "      <td>37.452935</td>\n",
       "      <td>11.572543</td>\n",
       "      <td>-82.862752</td>\n",
       "      <td>34.035000</td>\n",
       "      <td>39.233333</td>\n",
       "      <td>42.717778</td>\n",
       "      <td>72.7000</td>\n",
       "    </tr>\n",
       "    <tr>\n",
       "      <th>longitude</th>\n",
       "      <td>88677.0</td>\n",
       "      <td>-85.021824</td>\n",
       "      <td>41.422194</td>\n",
       "      <td>-176.658056</td>\n",
       "      <td>-112.073333</td>\n",
       "      <td>-87.650000</td>\n",
       "      <td>-77.770000</td>\n",
       "      <td>178.4419</td>\n",
       "    </tr>\n",
       "  </tbody>\n",
       "</table>\n",
       "</div>"
      ],
      "text/plain": [
       "             count       mean        std         min         25%        50%  \\\n",
       "latitude   88677.0  37.452935  11.572543  -82.862752   34.035000  39.233333   \n",
       "longitude  88677.0 -85.021824  41.422194 -176.658056 -112.073333 -87.650000   \n",
       "\n",
       "                 75%       max  \n",
       "latitude   42.717778   72.7000  \n",
       "longitude -77.770000  178.4419  "
      ]
     },
     "execution_count": 9,
     "metadata": {},
     "output_type": "execute_result"
    }
   ],
   "source": [
    "axdf.describe().T"
   ]
  },
  {
   "cell_type": "markdown",
   "id": "1b454c58-fe29-4619-bba0-2b732537b3a3",
   "metadata": {},
   "source": [
    "## Lets see how many null and nan values we have"
   ]
  },
  {
   "cell_type": "code",
   "execution_count": 10,
   "id": "ce1c0720-61fc-4c9e-b224-2a560c8502ea",
   "metadata": {},
   "outputs": [
    {
     "data": {
      "text/plain": [
       "datetime           0\n",
       "city               0\n",
       "state           7409\n",
       "country        12365\n",
       "shape           2922\n",
       "comments          35\n",
       "date posted        0\n",
       "latitude           0\n",
       "longitude          0\n",
       "dtype: int64"
      ]
     },
     "execution_count": 10,
     "metadata": {},
     "output_type": "execute_result"
    }
   ],
   "source": [
    "axdf.isnull().sum()"
   ]
  },
  {
   "cell_type": "markdown",
   "id": "816c3f8e-0da3-43e4-ac22-b06fe4343c66",
   "metadata": {},
   "source": [
    "## And what percentage do they make up?"
   ]
  },
  {
   "cell_type": "code",
   "execution_count": 11,
   "id": "b2b025c1-09dc-4e3c-bc86-472973e51dcc",
   "metadata": {},
   "outputs": [
    {
     "name": "stdout",
     "output_type": "stream",
     "text": [
      " Null Values (% of entries):\n",
      "country        13.94\n",
      "state           8.36\n",
      "shape           3.30\n",
      "comments        0.04\n",
      "datetime        0.00\n",
      "city            0.00\n",
      "date posted     0.00\n",
      "latitude        0.00\n",
      "longitude       0.00\n",
      "dtype: float64\n"
     ]
    }
   ],
   "source": [
    "allnulls = axdf.isnull().sum()\n",
    "pctOfNulls = (allnulls / len(axdf))*100\n",
    "print(' Null Values (% of entries):')\n",
    "print(round(pctOfNulls.sort_values(ascending=False),2))"
   ]
  },
  {
   "cell_type": "markdown",
   "id": "b0fd1d1f-5c48-41eb-b6db-6454a396bec1",
   "metadata": {
    "jp-MarkdownHeadingCollapsed": true
   },
   "source": [
    "## Seems like a fair amount of absent countries that I will try to account for. I mean the observer had to be somewhere."
   ]
  },
  {
   "cell_type": "markdown",
   "id": "a2e83f5a-f0a4-4208-ac96-91f78486196e",
   "metadata": {},
   "source": [
    "## To try and add missing countries I tried using the latitude and longitude I got from an online search for the U.S. but got a lot of Canadian locales popping up, and also it didn't include American territories outside of the U.S. so I will use a list of valid states and territories and create a new column based on the results. <br><br> First I'll make the state column upper case."
   ]
  },
  {
   "cell_type": "code",
   "execution_count": 12,
   "id": "98d367fb-f50f-4b53-913d-65d86cc28816",
   "metadata": {},
   "outputs": [],
   "source": [
    "axdf['state'] = axdf['state'].str.upper()"
   ]
  },
  {
   "cell_type": "markdown",
   "id": "d391c7b3-6ca7-411b-b4b5-f85e9a3d152f",
   "metadata": {},
   "source": [
    "## Create a holding column to store our country."
   ]
  },
  {
   "cell_type": "code",
   "execution_count": 13,
   "id": "a8bda26c-7110-45e5-a8a9-b4f592ad88d7",
   "metadata": {},
   "outputs": [],
   "source": [
    "axdf['temp_country'] = ''"
   ]
  },
  {
   "cell_type": "markdown",
   "id": "109ffa3a-0540-4b91-848c-396e79f57d5b",
   "metadata": {},
   "source": [
    "## I'm also going to try using geopandas to get the country from the latitude and longitude columns."
   ]
  },
  {
   "cell_type": "code",
   "execution_count": 14,
   "id": "02901a59-789b-4899-b089-3e36234e24ac",
   "metadata": {},
   "outputs": [],
   "source": [
    "axdf['geopandas_country'] = ''"
   ]
  },
  {
   "cell_type": "markdown",
   "id": "401abc22-6ba8-4d5a-94da-75b0b1389d2c",
   "metadata": {},
   "source": [
    "## Before I use geopandas I'm going to try and identify countries based on available data starting with the USA. <br>  Create our list of U.S. states including American territories. Then put 'US' in the temp_country column if the value in the state column is in this list."
   ]
  },
  {
   "cell_type": "code",
   "execution_count": 15,
   "id": "953b866a-07e8-4db8-8c77-850220648bfb",
   "metadata": {},
   "outputs": [],
   "source": [
    "statelist = [\"AK\", \"AL\", \"AR\", \"AZ\", \"CA\", \"CO\", \"CT\", \"DE\", \"FL\", \"GA\", \"HI\", \"IA\",\n",
    "    \"ID\", \"IL\", \"IN\", \"KS\", \"KY\", \"LA\", \"MA\", \"MD\", \"ME\", \"MI\", \"MN\", \"MO\",\n",
    "    \"MS\", \"MT\", \"NC\", \"ND\", \"NE\", \"NH\", \"NJ\", \"NM\", \"NV\", \"NY\", \"OH\", \"OK\",\n",
    "    \"OR\", \"PA\", \"RI\", \"SC\", \"SD\", \"TN\", \"TX\", \"UT\", \"VA\", \"VT\", \"WA\", \"WI\",\n",
    "    \"WV\", \"WY\", \"DC\", \"AS\", \"GU\", \"MP\", \"PR\", \"VI\"]"
   ]
  },
  {
   "cell_type": "code",
   "execution_count": 16,
   "id": "8275ed6e-7106-4512-b567-6ad279d99805",
   "metadata": {},
   "outputs": [],
   "source": [
    "axdf['temp_country'] = np.where((axdf['state'].isin(statelist)), 'United States of America', axdf['temp_country'])"
   ]
  },
  {
   "cell_type": "code",
   "execution_count": 17,
   "id": "79d6106f-f39f-4ac6-9c3d-6398c21d0c7c",
   "metadata": {},
   "outputs": [
    {
     "data": {
      "text/html": [
       "<div>\n",
       "<style scoped>\n",
       "    .dataframe tbody tr th:only-of-type {\n",
       "        vertical-align: middle;\n",
       "    }\n",
       "\n",
       "    .dataframe tbody tr th {\n",
       "        vertical-align: top;\n",
       "    }\n",
       "\n",
       "    .dataframe thead th {\n",
       "        text-align: right;\n",
       "    }\n",
       "</style>\n",
       "<table border=\"1\" class=\"dataframe\">\n",
       "  <thead>\n",
       "    <tr style=\"text-align: right;\">\n",
       "      <th></th>\n",
       "      <th>datetime</th>\n",
       "      <th>city</th>\n",
       "      <th>state</th>\n",
       "      <th>country</th>\n",
       "      <th>shape</th>\n",
       "      <th>comments</th>\n",
       "      <th>date posted</th>\n",
       "      <th>latitude</th>\n",
       "      <th>longitude</th>\n",
       "      <th>temp_country</th>\n",
       "      <th>geopandas_country</th>\n",
       "    </tr>\n",
       "  </thead>\n",
       "  <tbody>\n",
       "    <tr>\n",
       "      <th>0</th>\n",
       "      <td>10/10/1949 20:30</td>\n",
       "      <td>san marcos</td>\n",
       "      <td>TX</td>\n",
       "      <td>us</td>\n",
       "      <td>cylinder</td>\n",
       "      <td>This event took place in early fall around 194...</td>\n",
       "      <td>4/27/2004</td>\n",
       "      <td>29.883056</td>\n",
       "      <td>-97.941111</td>\n",
       "      <td>United States of America</td>\n",
       "      <td></td>\n",
       "    </tr>\n",
       "    <tr>\n",
       "      <th>1</th>\n",
       "      <td>10/10/1949 21:00</td>\n",
       "      <td>lackland afb</td>\n",
       "      <td>TX</td>\n",
       "      <td>NaN</td>\n",
       "      <td>light</td>\n",
       "      <td>1949 Lackland AFB&amp;#44 TX.  Lights racing acros...</td>\n",
       "      <td>12/16/2005</td>\n",
       "      <td>29.384210</td>\n",
       "      <td>-98.581082</td>\n",
       "      <td>United States of America</td>\n",
       "      <td></td>\n",
       "    </tr>\n",
       "    <tr>\n",
       "      <th>2</th>\n",
       "      <td>10/10/1955 17:00</td>\n",
       "      <td>chester (uk/england)</td>\n",
       "      <td>NaN</td>\n",
       "      <td>gb</td>\n",
       "      <td>circle</td>\n",
       "      <td>Green/Orange circular disc over Chester&amp;#44 En...</td>\n",
       "      <td>1/21/2008</td>\n",
       "      <td>53.200000</td>\n",
       "      <td>-2.916667</td>\n",
       "      <td></td>\n",
       "      <td></td>\n",
       "    </tr>\n",
       "    <tr>\n",
       "      <th>3</th>\n",
       "      <td>10/10/1956 21:00</td>\n",
       "      <td>edna</td>\n",
       "      <td>TX</td>\n",
       "      <td>us</td>\n",
       "      <td>circle</td>\n",
       "      <td>My older brother and twin sister were leaving ...</td>\n",
       "      <td>1/17/2004</td>\n",
       "      <td>28.978333</td>\n",
       "      <td>-96.645833</td>\n",
       "      <td>United States of America</td>\n",
       "      <td></td>\n",
       "    </tr>\n",
       "    <tr>\n",
       "      <th>4</th>\n",
       "      <td>10/10/1960 20:00</td>\n",
       "      <td>kaneohe</td>\n",
       "      <td>HI</td>\n",
       "      <td>us</td>\n",
       "      <td>light</td>\n",
       "      <td>AS a Marine 1st Lt. flying an FJ4B fighter/att...</td>\n",
       "      <td>1/22/2004</td>\n",
       "      <td>21.418056</td>\n",
       "      <td>-157.803611</td>\n",
       "      <td>United States of America</td>\n",
       "      <td></td>\n",
       "    </tr>\n",
       "  </tbody>\n",
       "</table>\n",
       "</div>"
      ],
      "text/plain": [
       "           datetime                  city state country     shape  \\\n",
       "0  10/10/1949 20:30            san marcos    TX      us  cylinder   \n",
       "1  10/10/1949 21:00          lackland afb    TX     NaN     light   \n",
       "2  10/10/1955 17:00  chester (uk/england)   NaN      gb    circle   \n",
       "3  10/10/1956 21:00                  edna    TX      us    circle   \n",
       "4  10/10/1960 20:00               kaneohe    HI      us     light   \n",
       "\n",
       "                                            comments date posted   latitude  \\\n",
       "0  This event took place in early fall around 194...   4/27/2004  29.883056   \n",
       "1  1949 Lackland AFB&#44 TX.  Lights racing acros...  12/16/2005  29.384210   \n",
       "2  Green/Orange circular disc over Chester&#44 En...   1/21/2008  53.200000   \n",
       "3  My older brother and twin sister were leaving ...   1/17/2004  28.978333   \n",
       "4  AS a Marine 1st Lt. flying an FJ4B fighter/att...   1/22/2004  21.418056   \n",
       "\n",
       "    longitude              temp_country geopandas_country  \n",
       "0  -97.941111  United States of America                    \n",
       "1  -98.581082  United States of America                    \n",
       "2   -2.916667                                              \n",
       "3  -96.645833  United States of America                    \n",
       "4 -157.803611  United States of America                    "
      ]
     },
     "execution_count": 17,
     "metadata": {},
     "output_type": "execute_result"
    }
   ],
   "source": [
    "axdf.head()"
   ]
  },
  {
   "cell_type": "markdown",
   "id": "3ee23758-ab74-454d-b19f-92e8958a3cb0",
   "metadata": {
    "jp-MarkdownHeadingCollapsed": true
   },
   "source": [
    "## I want to take a look at my own country, so lets take a peek at rows with co-ordinates that place the location in Great Britain. I know this does not reflect the United Kingdom as I have not included Northern Ireland, only because using the latitude and longitude would be tricky given the geography of the two."
   ]
  },
  {
   "cell_type": "markdown",
   "id": "04ad7114-a4d2-4044-b6d1-a7a9cd7e1bf3",
   "metadata": {},
   "source": [
    "## I will use the latitude and longitude to add GB to the temp_country column"
   ]
  },
  {
   "cell_type": "code",
   "execution_count": 18,
   "id": "dae445c5-3119-4fe3-bf21-a7b2c752c0b0",
   "metadata": {},
   "outputs": [],
   "source": [
    "for idx, lat, long in zip(axdf.index, axdf['latitude'], axdf['longitude']):\n",
    "    if (lat >= 49 and lat <= 59) and (long >= -8 and long <= 2):\n",
    "        axdf.at[idx, 'temp_country'] = 'GB'\n"
   ]
  },
  {
   "cell_type": "code",
   "execution_count": 19,
   "id": "e7b29446-1f7d-42b4-839b-43bff61a52e5",
   "metadata": {},
   "outputs": [
    {
     "data": {
      "text/html": [
       "<div>\n",
       "<style scoped>\n",
       "    .dataframe tbody tr th:only-of-type {\n",
       "        vertical-align: middle;\n",
       "    }\n",
       "\n",
       "    .dataframe tbody tr th {\n",
       "        vertical-align: top;\n",
       "    }\n",
       "\n",
       "    .dataframe thead th {\n",
       "        text-align: right;\n",
       "    }\n",
       "</style>\n",
       "<table border=\"1\" class=\"dataframe\">\n",
       "  <thead>\n",
       "    <tr style=\"text-align: right;\">\n",
       "      <th></th>\n",
       "      <th>datetime</th>\n",
       "      <th>city</th>\n",
       "      <th>state</th>\n",
       "      <th>country</th>\n",
       "      <th>shape</th>\n",
       "      <th>comments</th>\n",
       "      <th>date posted</th>\n",
       "      <th>latitude</th>\n",
       "      <th>longitude</th>\n",
       "      <th>temp_country</th>\n",
       "      <th>geopandas_country</th>\n",
       "    </tr>\n",
       "  </thead>\n",
       "  <tbody>\n",
       "    <tr>\n",
       "      <th>0</th>\n",
       "      <td>10/10/1949 20:30</td>\n",
       "      <td>san marcos</td>\n",
       "      <td>TX</td>\n",
       "      <td>us</td>\n",
       "      <td>cylinder</td>\n",
       "      <td>This event took place in early fall around 194...</td>\n",
       "      <td>4/27/2004</td>\n",
       "      <td>29.883056</td>\n",
       "      <td>-97.941111</td>\n",
       "      <td>United States of America</td>\n",
       "      <td></td>\n",
       "    </tr>\n",
       "    <tr>\n",
       "      <th>1</th>\n",
       "      <td>10/10/1949 21:00</td>\n",
       "      <td>lackland afb</td>\n",
       "      <td>TX</td>\n",
       "      <td>NaN</td>\n",
       "      <td>light</td>\n",
       "      <td>1949 Lackland AFB&amp;#44 TX.  Lights racing acros...</td>\n",
       "      <td>12/16/2005</td>\n",
       "      <td>29.384210</td>\n",
       "      <td>-98.581082</td>\n",
       "      <td>United States of America</td>\n",
       "      <td></td>\n",
       "    </tr>\n",
       "    <tr>\n",
       "      <th>2</th>\n",
       "      <td>10/10/1955 17:00</td>\n",
       "      <td>chester (uk/england)</td>\n",
       "      <td>NaN</td>\n",
       "      <td>gb</td>\n",
       "      <td>circle</td>\n",
       "      <td>Green/Orange circular disc over Chester&amp;#44 En...</td>\n",
       "      <td>1/21/2008</td>\n",
       "      <td>53.200000</td>\n",
       "      <td>-2.916667</td>\n",
       "      <td>GB</td>\n",
       "      <td></td>\n",
       "    </tr>\n",
       "    <tr>\n",
       "      <th>3</th>\n",
       "      <td>10/10/1956 21:00</td>\n",
       "      <td>edna</td>\n",
       "      <td>TX</td>\n",
       "      <td>us</td>\n",
       "      <td>circle</td>\n",
       "      <td>My older brother and twin sister were leaving ...</td>\n",
       "      <td>1/17/2004</td>\n",
       "      <td>28.978333</td>\n",
       "      <td>-96.645833</td>\n",
       "      <td>United States of America</td>\n",
       "      <td></td>\n",
       "    </tr>\n",
       "    <tr>\n",
       "      <th>4</th>\n",
       "      <td>10/10/1960 20:00</td>\n",
       "      <td>kaneohe</td>\n",
       "      <td>HI</td>\n",
       "      <td>us</td>\n",
       "      <td>light</td>\n",
       "      <td>AS a Marine 1st Lt. flying an FJ4B fighter/att...</td>\n",
       "      <td>1/22/2004</td>\n",
       "      <td>21.418056</td>\n",
       "      <td>-157.803611</td>\n",
       "      <td>United States of America</td>\n",
       "      <td></td>\n",
       "    </tr>\n",
       "  </tbody>\n",
       "</table>\n",
       "</div>"
      ],
      "text/plain": [
       "           datetime                  city state country     shape  \\\n",
       "0  10/10/1949 20:30            san marcos    TX      us  cylinder   \n",
       "1  10/10/1949 21:00          lackland afb    TX     NaN     light   \n",
       "2  10/10/1955 17:00  chester (uk/england)   NaN      gb    circle   \n",
       "3  10/10/1956 21:00                  edna    TX      us    circle   \n",
       "4  10/10/1960 20:00               kaneohe    HI      us     light   \n",
       "\n",
       "                                            comments date posted   latitude  \\\n",
       "0  This event took place in early fall around 194...   4/27/2004  29.883056   \n",
       "1  1949 Lackland AFB&#44 TX.  Lights racing acros...  12/16/2005  29.384210   \n",
       "2  Green/Orange circular disc over Chester&#44 En...   1/21/2008  53.200000   \n",
       "3  My older brother and twin sister were leaving ...   1/17/2004  28.978333   \n",
       "4  AS a Marine 1st Lt. flying an FJ4B fighter/att...   1/22/2004  21.418056   \n",
       "\n",
       "    longitude              temp_country geopandas_country  \n",
       "0  -97.941111  United States of America                    \n",
       "1  -98.581082  United States of America                    \n",
       "2   -2.916667                        GB                    \n",
       "3  -96.645833  United States of America                    \n",
       "4 -157.803611  United States of America                    "
      ]
     },
     "execution_count": 19,
     "metadata": {},
     "output_type": "execute_result"
    }
   ],
   "source": [
    "axdf.head(5)"
   ]
  },
  {
   "cell_type": "markdown",
   "id": "0c1264f2-e2b2-4db0-8dd1-6b6ce3db0eb3",
   "metadata": {},
   "source": [
    "## I would now like to look for Canadian provinces in the state column using the same method as I used when looking for U,S, states and territories. <br>A few rows have 'ca' as country and the text '(canada)' in the city column but no state. I will update the new 'canada' column for these rows too."
   ]
  },
  {
   "cell_type": "code",
   "execution_count": 20,
   "id": "5352dc85-4f0e-4dfe-a403-bc2c55ba8889",
   "metadata": {},
   "outputs": [],
   "source": [
    "canada_list = ['AB', 'BC', 'MB', 'NB', 'NL', 'NT', 'NS', 'NU', 'ON', 'PE', 'QC', 'SK', 'YT', 'PQ', 'SA', 'NF', 'YK']\n",
    "axdf['temp_country'] = np.where((axdf['state'].isin(canada_list)), 'Canada', axdf['temp_country'])"
   ]
  },
  {
   "cell_type": "code",
   "execution_count": 21,
   "id": "2877729e-29fe-46be-b4ff-948ebad033d6",
   "metadata": {},
   "outputs": [],
   "source": [
    "axdf['temp_country'] = np.where((axdf['city'].str.contains(\"(canada)\")) & (axdf['country'] == 'ca'), 'Canada', axdf['temp_country'])"
   ]
  },
  {
   "cell_type": "code",
   "execution_count": 22,
   "id": "db8e284f-be05-4651-b9a3-458dc2a9dfaf",
   "metadata": {},
   "outputs": [
    {
     "data": {
      "text/html": [
       "<div>\n",
       "<style scoped>\n",
       "    .dataframe tbody tr th:only-of-type {\n",
       "        vertical-align: middle;\n",
       "    }\n",
       "\n",
       "    .dataframe tbody tr th {\n",
       "        vertical-align: top;\n",
       "    }\n",
       "\n",
       "    .dataframe thead th {\n",
       "        text-align: right;\n",
       "    }\n",
       "</style>\n",
       "<table border=\"1\" class=\"dataframe\">\n",
       "  <thead>\n",
       "    <tr style=\"text-align: right;\">\n",
       "      <th></th>\n",
       "      <th>datetime</th>\n",
       "      <th>city</th>\n",
       "      <th>state</th>\n",
       "      <th>country</th>\n",
       "      <th>shape</th>\n",
       "      <th>comments</th>\n",
       "      <th>date posted</th>\n",
       "      <th>latitude</th>\n",
       "      <th>longitude</th>\n",
       "      <th>temp_country</th>\n",
       "      <th>geopandas_country</th>\n",
       "    </tr>\n",
       "  </thead>\n",
       "  <tbody>\n",
       "    <tr>\n",
       "      <th>64</th>\n",
       "      <td>10/10/1994 23:00</td>\n",
       "      <td>toronto (greater toronto area) (canada)</td>\n",
       "      <td>ON</td>\n",
       "      <td>ca</td>\n",
       "      <td>sphere</td>\n",
       "      <td>Large rusty sphere</td>\n",
       "      <td>7/3/2013</td>\n",
       "      <td>43.666667</td>\n",
       "      <td>-79.416667</td>\n",
       "      <td>Canada</td>\n",
       "      <td></td>\n",
       "    </tr>\n",
       "    <tr>\n",
       "      <th>85</th>\n",
       "      <td>10/10/1998 22:30</td>\n",
       "      <td>st. john&amp;#39s (canada)</td>\n",
       "      <td>NF</td>\n",
       "      <td>ca</td>\n",
       "      <td>egg</td>\n",
       "      <td>Started off as 3 points of intense yellow ligh...</td>\n",
       "      <td>12/2/2000</td>\n",
       "      <td>47.550000</td>\n",
       "      <td>-52.666667</td>\n",
       "      <td>Canada</td>\n",
       "      <td></td>\n",
       "    </tr>\n",
       "    <tr>\n",
       "      <th>104</th>\n",
       "      <td>10/10/2000 07:30</td>\n",
       "      <td>victoria (canada)</td>\n",
       "      <td>BC</td>\n",
       "      <td>ca</td>\n",
       "      <td>cylinder</td>\n",
       "      <td>Smooth Shiny Cylinder</td>\n",
       "      <td>12/2/2000</td>\n",
       "      <td>46.216667</td>\n",
       "      <td>-63.483333</td>\n",
       "      <td>Canada</td>\n",
       "      <td></td>\n",
       "    </tr>\n",
       "    <tr>\n",
       "      <th>113</th>\n",
       "      <td>10/10/2001 20:10</td>\n",
       "      <td>vancouver (canada)</td>\n",
       "      <td>BC</td>\n",
       "      <td>ca</td>\n",
       "      <td>other</td>\n",
       "      <td>I observed an green object significantly above...</td>\n",
       "      <td>5/12/2011</td>\n",
       "      <td>49.250000</td>\n",
       "      <td>-123.133333</td>\n",
       "      <td>Canada</td>\n",
       "      <td></td>\n",
       "    </tr>\n",
       "    <tr>\n",
       "      <th>123</th>\n",
       "      <td>10/10/2002 19:45</td>\n",
       "      <td>victoria (canada)</td>\n",
       "      <td>BC</td>\n",
       "      <td>ca</td>\n",
       "      <td>unknown</td>\n",
       "      <td>bright white light with black outline around i...</td>\n",
       "      <td>10/15/2002</td>\n",
       "      <td>46.216667</td>\n",
       "      <td>-63.483333</td>\n",
       "      <td>Canada</td>\n",
       "      <td></td>\n",
       "    </tr>\n",
       "  </tbody>\n",
       "</table>\n",
       "</div>"
      ],
      "text/plain": [
       "             datetime                                     city state country  \\\n",
       "64   10/10/1994 23:00  toronto (greater toronto area) (canada)    ON      ca   \n",
       "85   10/10/1998 22:30                   st. john&#39s (canada)    NF      ca   \n",
       "104  10/10/2000 07:30                        victoria (canada)    BC      ca   \n",
       "113  10/10/2001 20:10                       vancouver (canada)    BC      ca   \n",
       "123  10/10/2002 19:45                        victoria (canada)    BC      ca   \n",
       "\n",
       "        shape                                           comments date posted  \\\n",
       "64     sphere                                 Large rusty sphere    7/3/2013   \n",
       "85        egg  Started off as 3 points of intense yellow ligh...   12/2/2000   \n",
       "104  cylinder                              Smooth Shiny Cylinder   12/2/2000   \n",
       "113     other  I observed an green object significantly above...   5/12/2011   \n",
       "123   unknown  bright white light with black outline around i...  10/15/2002   \n",
       "\n",
       "      latitude   longitude temp_country geopandas_country  \n",
       "64   43.666667  -79.416667       Canada                    \n",
       "85   47.550000  -52.666667       Canada                    \n",
       "104  46.216667  -63.483333       Canada                    \n",
       "113  49.250000 -123.133333       Canada                    \n",
       "123  46.216667  -63.483333       Canada                    "
      ]
     },
     "execution_count": 22,
     "metadata": {},
     "output_type": "execute_result"
    }
   ],
   "source": [
    "axdf.loc[(axdf['country'] == 'ca')].head(5)"
   ]
  },
  {
   "cell_type": "markdown",
   "id": "a77421c5-ba2d-4098-adbb-0fd5a534342b",
   "metadata": {},
   "source": [
    "## Just to see, lets look how many different countries there are"
   ]
  },
  {
   "cell_type": "code",
   "execution_count": 23,
   "id": "a26e3f79-b5f1-4ba9-b48a-32703e321d44",
   "metadata": {},
   "outputs": [
    {
     "name": "stdout",
     "output_type": "stream",
     "text": [
      "us\n",
      "nan\n",
      "gb\n",
      "ca\n",
      "au\n",
      "de\n"
     ]
    }
   ],
   "source": [
    "for i in axdf['country'].unique():\n",
    "    print(i)"
   ]
  },
  {
   "cell_type": "markdown",
   "id": "dffb201d-e028-4716-a188-ba3fd2d394b9",
   "metadata": {},
   "source": [
    "## So not counting the NaN rows that just leaves Germany and Australia in the country column. I'm sure other countries are visited by aliens too though. I will modify the temp_country column values to reflect Germany and Australia."
   ]
  },
  {
   "cell_type": "code",
   "execution_count": 24,
   "id": "85c6641d-a96c-4ca7-93f4-f78dc16140ea",
   "metadata": {},
   "outputs": [],
   "source": [
    "axdf['temp_country'] = np.where(axdf['country'] == 'au', 'Australia', axdf['temp_country'])\n",
    "axdf['temp_country'] = np.where(axdf['country'] == 'de', 'Germany', axdf['temp_country'])"
   ]
  },
  {
   "cell_type": "markdown",
   "id": "5c344047-b14f-4688-8e61-ea02f26fdac8",
   "metadata": {},
   "source": [
    "## As you can see below that still leaves a fair few rows with no identified country, so for the purpose of this exercise I will mark them as 'Unable To Verify'"
   ]
  },
  {
   "cell_type": "code",
   "execution_count": 25,
   "id": "b429831b-eb28-4f47-9c8b-a74e9d830c1e",
   "metadata": {},
   "outputs": [
    {
     "name": "stdout",
     "output_type": "stream",
     "text": [
      "Number of rows with missing country before analysis\n",
      "12365\n",
      "Number of rows with unidentified countries afterwards\n",
      "4091\n"
     ]
    }
   ],
   "source": [
    "print('Number of rows with missing country before analysis')\n",
    "print(axdf.loc[axdf['country'].isnull()].shape[0])\n",
    "print('Number of rows with unidentified countries afterwards')\n",
    "print(axdf[axdf['temp_country'] == ''].shape[0])\n"
   ]
  },
  {
   "cell_type": "code",
   "execution_count": 26,
   "id": "b2dafeff-c557-4297-9a24-7040618866aa",
   "metadata": {},
   "outputs": [],
   "source": [
    "axdf['temp_country'] = np.where(axdf['temp_country'] == '', 'Unable To Verify', axdf['temp_country'])"
   ]
  },
  {
   "cell_type": "markdown",
   "id": "ca98abfc-11a2-4f9e-8c1c-cc273a694344",
   "metadata": {},
   "source": [
    "## Now I'm going to try geopandas to check for countries"
   ]
  },
  {
   "cell_type": "code",
   "execution_count": 27,
   "id": "8fa7f3d7-dfdd-4547-9032-225794b465c6",
   "metadata": {},
   "outputs": [
    {
     "name": "stdout",
     "output_type": "stream",
     "text": [
      "ok\n"
     ]
    }
   ],
   "source": [
    "\n",
    "# Load country boundaries shapefile (or GeoJSON)\n",
    "world = gpd.read_file(\"ne_110m_admin_0_countries.shp\")\n",
    "\n",
    "# Create GeoDataFrame using WGS 84 coordinate system (EPSG:4326)\n",
    "gdf = gpd.GeoDataFrame(axdf, geometry=gpd.points_from_xy(axdf.longitude, axdf.latitude), crs=\"EPSG:4326\")\n",
    "print('ok')"
   ]
  },
  {
   "cell_type": "code",
   "execution_count": 28,
   "id": "23e0c83b-b51b-4b79-bd0e-41c5e1004e74",
   "metadata": {},
   "outputs": [
    {
     "name": "stdout",
     "output_type": "stream",
     "text": [
      "tovser\n"
     ]
    }
   ],
   "source": [
    "# Use a spatial join to match each point with a geopandas country polygon\n",
    "gdf = gpd.sjoin(gdf, world[['ADMIN', 'geometry']], how=\"left\", predicate=\"within\")\n",
    "axdf['geopandas_country'] = gdf['ADMIN']\n",
    "print('tovser')"
   ]
  },
  {
   "cell_type": "markdown",
   "id": "537c1ed4-a07d-47fe-a253-f83259b5a243",
   "metadata": {},
   "source": [
    "## And lets see what we got."
   ]
  },
  {
   "cell_type": "code",
   "execution_count": 29,
   "id": "7f47f161-d72e-45c7-b739-c3067a66f3a0",
   "metadata": {},
   "outputs": [
    {
     "data": {
      "text/plain": [
       "array(['United States of America', 'United Kingdom', nan, 'Canada',\n",
       "       'New Zealand', 'Russia', 'Puerto Rico', 'Australia', 'Lithuania',\n",
       "       'Norway', 'Iceland', 'Mexico', 'Austria', 'Japan', 'Vietnam',\n",
       "       'Turkey', 'China', 'Peru', 'Greece', 'Iraq', 'Malaysia', 'Armenia',\n",
       "       'France', 'Chile', 'Indonesia', 'India', 'Portugal', 'Hungary',\n",
       "       'Germany', 'Sweden', 'Philippines', 'Venezuela', 'Pakistan',\n",
       "       'Iran', 'Afghanistan', 'Morocco', 'Taiwan', 'Saudi Arabia',\n",
       "       'eSwatini', 'Croatia', 'Colombia', 'Palestine', 'Romania', 'Egypt',\n",
       "       'Brazil', 'Poland', 'Republic of Serbia', 'South Africa', 'Panama',\n",
       "       'Belgium', 'South Korea', 'Honduras', 'Italy', 'Netherlands',\n",
       "       'Ireland', 'Dominican Republic', 'Albania', 'North Macedonia',\n",
       "       'Finland', 'Argentina', 'Northern Cyprus', 'Namibia', 'Bangladesh',\n",
       "       'Jamaica', 'Syria', 'United Arab Emirates', 'Thailand', 'Spain',\n",
       "       'Sri Lanka', 'Greenland', 'Kuwait', 'Ukraine', 'Bulgaria',\n",
       "       'Slovakia', 'Tunisia', 'Algeria', 'Trinidad and Tobago', 'Israel',\n",
       "       'Kosovo', 'Lebanon', 'Libya', 'Costa Rica',\n",
       "       'Bosnia and Herzegovina', 'Latvia', 'Suriname', 'Guatemala',\n",
       "       'Uzbekistan', 'Ghana', 'Nepal', 'Bolivia', 'Denmark', 'Cyprus',\n",
       "       'Jordan', 'Myanmar', 'Slovenia', 'Luxembourg', 'Brunei', 'Fiji',\n",
       "       'Cuba', 'Zimbabwe', 'Azerbaijan', 'Kenya', 'Solomon Islands',\n",
       "       'Papua New Guinea', 'Paraguay', 'Estonia', 'Oman', 'Lesotho',\n",
       "       'Nigeria', 'Switzerland', 'Nicaragua', 'Guyana', 'Ecuador',\n",
       "       'Belarus', 'Czechia', 'Kyrgyzstan', 'Belize', 'El Salvador',\n",
       "       'United Republic of Tanzania', 'Zambia', 'Cambodia', 'Ethiopia',\n",
       "       'Cameroon', 'East Timor', 'Senegal', 'Botswana', 'Uruguay',\n",
       "       'Antarctica', 'Georgia', 'Uganda', 'Qatar', 'The Bahamas',\n",
       "       'Kazakhstan', 'Haiti', 'Democratic Republic of the Congo',\n",
       "       'Mongolia', 'Laos'], dtype=object)"
      ]
     },
     "execution_count": 29,
     "metadata": {},
     "output_type": "execute_result"
    }
   ],
   "source": [
    "axdf['geopandas_country'].unique()"
   ]
  },
  {
   "cell_type": "code",
   "execution_count": 30,
   "id": "5ebb4d6d-094b-4fae-812e-e17b78620caa",
   "metadata": {},
   "outputs": [
    {
     "name": "stdout",
     "output_type": "stream",
     "text": [
      "uhuh\n"
     ]
    }
   ],
   "source": [
    "print('uhuh')"
   ]
  },
  {
   "cell_type": "markdown",
   "id": "9711b329-7974-4423-9d52-71d9f140723e",
   "metadata": {},
   "source": [
    "## replace GB with United Kingdom"
   ]
  },
  {
   "cell_type": "code",
   "execution_count": 31,
   "id": "72317013-cd2f-4338-b990-e59b15dc2a9b",
   "metadata": {},
   "outputs": [],
   "source": [
    "axdf[\"temp_country\"] = np.where(axdf[\"temp_country\"] == \"GB\", 'United Kingdom', axdf[\"temp_country\"])"
   ]
  },
  {
   "cell_type": "code",
   "execution_count": null,
   "id": "3f2bfa95-6055-4d8d-944b-566c9454e69c",
   "metadata": {},
   "outputs": [],
   "source": []
  },
  {
   "cell_type": "markdown",
   "id": "f84e0a32-6ed2-46fe-ba5e-2974d3344c71",
   "metadata": {},
   "source": [
    "## Just to see. I want to find any rows with countries I have identified that geopandas hasn't."
   ]
  },
  {
   "cell_type": "code",
   "execution_count": 32,
   "id": "e44f638d-93a9-4026-beda-cb0748b7134c",
   "metadata": {},
   "outputs": [
    {
     "data": {
      "text/html": [
       "<div>\n",
       "<style scoped>\n",
       "    .dataframe tbody tr th:only-of-type {\n",
       "        vertical-align: middle;\n",
       "    }\n",
       "\n",
       "    .dataframe tbody tr th {\n",
       "        vertical-align: top;\n",
       "    }\n",
       "\n",
       "    .dataframe thead th {\n",
       "        text-align: right;\n",
       "    }\n",
       "</style>\n",
       "<table border=\"1\" class=\"dataframe\">\n",
       "  <thead>\n",
       "    <tr style=\"text-align: right;\">\n",
       "      <th></th>\n",
       "      <th>datetime</th>\n",
       "      <th>city</th>\n",
       "      <th>state</th>\n",
       "      <th>country</th>\n",
       "      <th>shape</th>\n",
       "      <th>comments</th>\n",
       "      <th>date posted</th>\n",
       "      <th>latitude</th>\n",
       "      <th>longitude</th>\n",
       "      <th>temp_country</th>\n",
       "      <th>geopandas_country</th>\n",
       "    </tr>\n",
       "  </thead>\n",
       "  <tbody>\n",
       "    <tr>\n",
       "      <th>19</th>\n",
       "      <td>10/10/1974 17:00</td>\n",
       "      <td>willow beach</td>\n",
       "      <td>AZ</td>\n",
       "      <td>NaN</td>\n",
       "      <td>light</td>\n",
       "      <td>The object was a brillant white light standing...</td>\n",
       "      <td>2/18/2001</td>\n",
       "      <td>0.000000</td>\n",
       "      <td>0.000000</td>\n",
       "      <td>United States of America</td>\n",
       "      <td>NaN</td>\n",
       "    </tr>\n",
       "    <tr>\n",
       "      <th>42</th>\n",
       "      <td>10/10/1987 20:00</td>\n",
       "      <td>manilla (rr#1) (canada)</td>\n",
       "      <td>ON</td>\n",
       "      <td>NaN</td>\n",
       "      <td>disk</td>\n",
       "      <td>We could clearly see the craft and observed in...</td>\n",
       "      <td>8/5/2001</td>\n",
       "      <td>0.000000</td>\n",
       "      <td>0.000000</td>\n",
       "      <td>Canada</td>\n",
       "      <td>NaN</td>\n",
       "    </tr>\n",
       "    <tr>\n",
       "      <th>50</th>\n",
       "      <td>10/10/1990 20:00</td>\n",
       "      <td>pense (canada)</td>\n",
       "      <td>SA</td>\n",
       "      <td>NaN</td>\n",
       "      <td>unknown</td>\n",
       "      <td>i saw something one rainy night&amp;#44 and i&amp;#39l...</td>\n",
       "      <td>10/12/2001</td>\n",
       "      <td>0.000000</td>\n",
       "      <td>0.000000</td>\n",
       "      <td>Canada</td>\n",
       "      <td>NaN</td>\n",
       "    </tr>\n",
       "    <tr>\n",
       "      <th>52</th>\n",
       "      <td>10/10/1991 22:00</td>\n",
       "      <td>frisco</td>\n",
       "      <td>NC</td>\n",
       "      <td>us</td>\n",
       "      <td>unknown</td>\n",
       "      <td>A friend and myself were standing on the shore...</td>\n",
       "      <td>1/28/1999</td>\n",
       "      <td>35.235000</td>\n",
       "      <td>-75.628889</td>\n",
       "      <td>United States of America</td>\n",
       "      <td>NaN</td>\n",
       "    </tr>\n",
       "    <tr>\n",
       "      <th>88</th>\n",
       "      <td>10/10/1999 03:00</td>\n",
       "      <td>st. agnes de dundee (canada)</td>\n",
       "      <td>PQ</td>\n",
       "      <td>NaN</td>\n",
       "      <td>egg</td>\n",
       "      <td>early morning bright object egg shape fully co...</td>\n",
       "      <td>12/2/2000</td>\n",
       "      <td>0.000000</td>\n",
       "      <td>0.000000</td>\n",
       "      <td>Canada</td>\n",
       "      <td>NaN</td>\n",
       "    </tr>\n",
       "    <tr>\n",
       "      <th>103</th>\n",
       "      <td>10/10/2000 06:15</td>\n",
       "      <td>boynton beach</td>\n",
       "      <td>FL</td>\n",
       "      <td>us</td>\n",
       "      <td>other</td>\n",
       "      <td>Unusual light formation moving extremely fast ...</td>\n",
       "      <td>12/2/2000</td>\n",
       "      <td>26.525000</td>\n",
       "      <td>-80.066667</td>\n",
       "      <td>United States of America</td>\n",
       "      <td>NaN</td>\n",
       "    </tr>\n",
       "    <tr>\n",
       "      <th>110</th>\n",
       "      <td>10/10/2000 22:00</td>\n",
       "      <td>port orchard</td>\n",
       "      <td>WA</td>\n",
       "      <td>us</td>\n",
       "      <td>diamond</td>\n",
       "      <td>One night my window started to flash</td>\n",
       "      <td>5/12/2009</td>\n",
       "      <td>47.540556</td>\n",
       "      <td>-122.635000</td>\n",
       "      <td>United States of America</td>\n",
       "      <td>NaN</td>\n",
       "    </tr>\n",
       "    <tr>\n",
       "      <th>189</th>\n",
       "      <td>10/10/2007 20:24</td>\n",
       "      <td>west palm beach florida</td>\n",
       "      <td>FL</td>\n",
       "      <td>NaN</td>\n",
       "      <td>fireball</td>\n",
       "      <td>Burning ball across the sky over central/south...</td>\n",
       "      <td>11/28/2007</td>\n",
       "      <td>26.705621</td>\n",
       "      <td>-80.036430</td>\n",
       "      <td>United States of America</td>\n",
       "      <td>NaN</td>\n",
       "    </tr>\n",
       "    <tr>\n",
       "      <th>386</th>\n",
       "      <td>10/11/2004 22:30</td>\n",
       "      <td>eastsound</td>\n",
       "      <td>WA</td>\n",
       "      <td>us</td>\n",
       "      <td>sphere</td>\n",
       "      <td>like a bright star&amp;#44 only spins  slowly and ...</td>\n",
       "      <td>10/27/2004</td>\n",
       "      <td>48.696944</td>\n",
       "      <td>-122.904167</td>\n",
       "      <td>United States of America</td>\n",
       "      <td>NaN</td>\n",
       "    </tr>\n",
       "    <tr>\n",
       "      <th>387</th>\n",
       "      <td>10/11/2004 23:00</td>\n",
       "      <td>lake worth</td>\n",
       "      <td>FL</td>\n",
       "      <td>us</td>\n",
       "      <td>formation</td>\n",
       "      <td>Multiple formations viewed by three witnesses.</td>\n",
       "      <td>10/27/2004</td>\n",
       "      <td>26.615556</td>\n",
       "      <td>-80.057222</td>\n",
       "      <td>United States of America</td>\n",
       "      <td>NaN</td>\n",
       "    </tr>\n",
       "  </tbody>\n",
       "</table>\n",
       "</div>"
      ],
      "text/plain": [
       "             datetime                          city state country      shape  \\\n",
       "19   10/10/1974 17:00                  willow beach    AZ     NaN      light   \n",
       "42   10/10/1987 20:00       manilla (rr#1) (canada)    ON     NaN       disk   \n",
       "50   10/10/1990 20:00                pense (canada)    SA     NaN    unknown   \n",
       "52   10/10/1991 22:00                        frisco    NC      us    unknown   \n",
       "88   10/10/1999 03:00  st. agnes de dundee (canada)    PQ     NaN        egg   \n",
       "103  10/10/2000 06:15                 boynton beach    FL      us      other   \n",
       "110  10/10/2000 22:00                  port orchard    WA      us    diamond   \n",
       "189  10/10/2007 20:24       west palm beach florida    FL     NaN   fireball   \n",
       "386  10/11/2004 22:30                     eastsound    WA      us     sphere   \n",
       "387  10/11/2004 23:00                    lake worth    FL      us  formation   \n",
       "\n",
       "                                              comments date posted   latitude  \\\n",
       "19   The object was a brillant white light standing...   2/18/2001   0.000000   \n",
       "42   We could clearly see the craft and observed in...    8/5/2001   0.000000   \n",
       "50   i saw something one rainy night&#44 and i&#39l...  10/12/2001   0.000000   \n",
       "52   A friend and myself were standing on the shore...   1/28/1999  35.235000   \n",
       "88   early morning bright object egg shape fully co...   12/2/2000   0.000000   \n",
       "103  Unusual light formation moving extremely fast ...   12/2/2000  26.525000   \n",
       "110               One night my window started to flash   5/12/2009  47.540556   \n",
       "189  Burning ball across the sky over central/south...  11/28/2007  26.705621   \n",
       "386  like a bright star&#44 only spins  slowly and ...  10/27/2004  48.696944   \n",
       "387     Multiple formations viewed by three witnesses.  10/27/2004  26.615556   \n",
       "\n",
       "      longitude              temp_country geopandas_country  \n",
       "19     0.000000  United States of America               NaN  \n",
       "42     0.000000                    Canada               NaN  \n",
       "50     0.000000                    Canada               NaN  \n",
       "52   -75.628889  United States of America               NaN  \n",
       "88     0.000000                    Canada               NaN  \n",
       "103  -80.066667  United States of America               NaN  \n",
       "110 -122.635000  United States of America               NaN  \n",
       "189  -80.036430  United States of America               NaN  \n",
       "386 -122.904167  United States of America               NaN  \n",
       "387  -80.057222  United States of America               NaN  "
      ]
     },
     "execution_count": 32,
     "metadata": {},
     "output_type": "execute_result"
    }
   ],
   "source": [
    "axdf.loc[(~(axdf['temp_country']== 'Unable To Verify') & (axdf['geopandas_country'].isnull()))].head(10)"
   ]
  },
  {
   "cell_type": "markdown",
   "id": "8c5c2950-0eb0-4c93-b53c-1940bc7c57b4",
   "metadata": {},
   "source": [
    "## And any rows with countries I couldn't identify that geopandas has."
   ]
  },
  {
   "cell_type": "code",
   "execution_count": 33,
   "id": "f852427e-12eb-4011-84ca-3e388e45ae87",
   "metadata": {},
   "outputs": [
    {
     "data": {
      "text/html": [
       "<div>\n",
       "<style scoped>\n",
       "    .dataframe tbody tr th:only-of-type {\n",
       "        vertical-align: middle;\n",
       "    }\n",
       "\n",
       "    .dataframe tbody tr th {\n",
       "        vertical-align: top;\n",
       "    }\n",
       "\n",
       "    .dataframe thead th {\n",
       "        text-align: right;\n",
       "    }\n",
       "</style>\n",
       "<table border=\"1\" class=\"dataframe\">\n",
       "  <thead>\n",
       "    <tr style=\"text-align: right;\">\n",
       "      <th></th>\n",
       "      <th>datetime</th>\n",
       "      <th>city</th>\n",
       "      <th>state</th>\n",
       "      <th>country</th>\n",
       "      <th>shape</th>\n",
       "      <th>comments</th>\n",
       "      <th>date posted</th>\n",
       "      <th>latitude</th>\n",
       "      <th>longitude</th>\n",
       "      <th>temp_country</th>\n",
       "      <th>geopandas_country</th>\n",
       "    </tr>\n",
       "  </thead>\n",
       "  <tbody>\n",
       "    <tr>\n",
       "      <th>36</th>\n",
       "      <td>10/10/1982 07:00</td>\n",
       "      <td>gisborne (new zealand)</td>\n",
       "      <td>NaN</td>\n",
       "      <td>NaN</td>\n",
       "      <td>disk</td>\n",
       "      <td>gisborne nz 1982 wainui beach to sponge bay</td>\n",
       "      <td>1/11/2002</td>\n",
       "      <td>-38.662334</td>\n",
       "      <td>178.017649</td>\n",
       "      <td>Unable To Verify</td>\n",
       "      <td>New Zealand</td>\n",
       "    </tr>\n",
       "    <tr>\n",
       "      <th>58</th>\n",
       "      <td>10/10/1993 03:00</td>\n",
       "      <td>zlatoust (russia)</td>\n",
       "      <td>NaN</td>\n",
       "      <td>NaN</td>\n",
       "      <td>sphere</td>\n",
       "      <td>I woke up at night and looked out the window n...</td>\n",
       "      <td>12/14/2004</td>\n",
       "      <td>55.183333</td>\n",
       "      <td>59.650000</td>\n",
       "      <td>Unable To Verify</td>\n",
       "      <td>Russia</td>\n",
       "    </tr>\n",
       "    <tr>\n",
       "      <th>69</th>\n",
       "      <td>10/10/1996 20:00</td>\n",
       "      <td>lake macquarie (nsw&amp;#44 australia)</td>\n",
       "      <td>NaN</td>\n",
       "      <td>NaN</td>\n",
       "      <td>light</td>\n",
       "      <td>RED LIGHT WITH OTHER RED FLASHING LIGHT&amp;#44 ON...</td>\n",
       "      <td>5/24/1999</td>\n",
       "      <td>-33.093373</td>\n",
       "      <td>151.588982</td>\n",
       "      <td>Unable To Verify</td>\n",
       "      <td>Australia</td>\n",
       "    </tr>\n",
       "    <tr>\n",
       "      <th>147</th>\n",
       "      <td>10/10/2004 15:20</td>\n",
       "      <td>kedainiai (lithuania)</td>\n",
       "      <td>NaN</td>\n",
       "      <td>NaN</td>\n",
       "      <td>oval</td>\n",
       "      <td>6 oval light objects very quickly rounded unde...</td>\n",
       "      <td>10/27/2004</td>\n",
       "      <td>55.288131</td>\n",
       "      <td>23.957728</td>\n",
       "      <td>Unable To Verify</td>\n",
       "      <td>Lithuania</td>\n",
       "    </tr>\n",
       "    <tr>\n",
       "      <th>199</th>\n",
       "      <td>10/10/2007 23:20</td>\n",
       "      <td>stord (norway)</td>\n",
       "      <td>NaN</td>\n",
       "      <td>NaN</td>\n",
       "      <td>light</td>\n",
       "      <td>Thise could be an ETV case&amp;#44 but it could al...</td>\n",
       "      <td>1/21/2008</td>\n",
       "      <td>59.900209</td>\n",
       "      <td>5.282347</td>\n",
       "      <td>Unable To Verify</td>\n",
       "      <td>Norway</td>\n",
       "    </tr>\n",
       "    <tr>\n",
       "      <th>321</th>\n",
       "      <td>10/11/1997 22:00</td>\n",
       "      <td>hafnarfjordur (iceland)</td>\n",
       "      <td>NaN</td>\n",
       "      <td>NaN</td>\n",
       "      <td>sphere</td>\n",
       "      <td>playing with a jet</td>\n",
       "      <td>6/12/2008</td>\n",
       "      <td>64.066667</td>\n",
       "      <td>-21.950000</td>\n",
       "      <td>Unable To Verify</td>\n",
       "      <td>Iceland</td>\n",
       "    </tr>\n",
       "    <tr>\n",
       "      <th>380</th>\n",
       "      <td>10/11/2004 10:00</td>\n",
       "      <td>nuevo laredo (mexico)</td>\n",
       "      <td>NaN</td>\n",
       "      <td>NaN</td>\n",
       "      <td>light</td>\n",
       "      <td>While I was driving I stopped at a traffic lig...</td>\n",
       "      <td>7/16/2006</td>\n",
       "      <td>27.477936</td>\n",
       "      <td>-99.549573</td>\n",
       "      <td>Unable To Verify</td>\n",
       "      <td>Mexico</td>\n",
       "    </tr>\n",
       "    <tr>\n",
       "      <th>421</th>\n",
       "      <td>10/11/2007 19:28</td>\n",
       "      <td>brassall (australia)</td>\n",
       "      <td>NaN</td>\n",
       "      <td>NaN</td>\n",
       "      <td>unknown</td>\n",
       "      <td>Accidentally photographed very strange UFO</td>\n",
       "      <td>11/28/2007</td>\n",
       "      <td>-27.597553</td>\n",
       "      <td>152.745500</td>\n",
       "      <td>Unable To Verify</td>\n",
       "      <td>Australia</td>\n",
       "    </tr>\n",
       "    <tr>\n",
       "      <th>427</th>\n",
       "      <td>10/11/2008 00:00</td>\n",
       "      <td>klagenfurt (austria)</td>\n",
       "      <td>NaN</td>\n",
       "      <td>NaN</td>\n",
       "      <td>chevron</td>\n",
       "      <td>It came from the direction of the city&amp;#44 whe...</td>\n",
       "      <td>3/19/2009</td>\n",
       "      <td>46.627940</td>\n",
       "      <td>14.308990</td>\n",
       "      <td>Unable To Verify</td>\n",
       "      <td>Austria</td>\n",
       "    </tr>\n",
       "    <tr>\n",
       "      <th>432</th>\n",
       "      <td>10/11/2008 17:30</td>\n",
       "      <td>bellmere (australia)</td>\n",
       "      <td>NaN</td>\n",
       "      <td>NaN</td>\n",
       "      <td>cylinder</td>\n",
       "      <td>Very large long white cylinder object travelin...</td>\n",
       "      <td>1/10/2009</td>\n",
       "      <td>-27.088079</td>\n",
       "      <td>152.928057</td>\n",
       "      <td>Unable To Verify</td>\n",
       "      <td>Australia</td>\n",
       "    </tr>\n",
       "  </tbody>\n",
       "</table>\n",
       "</div>"
      ],
      "text/plain": [
       "             datetime                                city state country  \\\n",
       "36   10/10/1982 07:00              gisborne (new zealand)   NaN     NaN   \n",
       "58   10/10/1993 03:00                   zlatoust (russia)   NaN     NaN   \n",
       "69   10/10/1996 20:00  lake macquarie (nsw&#44 australia)   NaN     NaN   \n",
       "147  10/10/2004 15:20               kedainiai (lithuania)   NaN     NaN   \n",
       "199  10/10/2007 23:20                      stord (norway)   NaN     NaN   \n",
       "321  10/11/1997 22:00             hafnarfjordur (iceland)   NaN     NaN   \n",
       "380  10/11/2004 10:00               nuevo laredo (mexico)   NaN     NaN   \n",
       "421  10/11/2007 19:28                brassall (australia)   NaN     NaN   \n",
       "427  10/11/2008 00:00                klagenfurt (austria)   NaN     NaN   \n",
       "432  10/11/2008 17:30                bellmere (australia)   NaN     NaN   \n",
       "\n",
       "        shape                                           comments date posted  \\\n",
       "36       disk        gisborne nz 1982 wainui beach to sponge bay   1/11/2002   \n",
       "58     sphere  I woke up at night and looked out the window n...  12/14/2004   \n",
       "69      light  RED LIGHT WITH OTHER RED FLASHING LIGHT&#44 ON...   5/24/1999   \n",
       "147      oval  6 oval light objects very quickly rounded unde...  10/27/2004   \n",
       "199     light  Thise could be an ETV case&#44 but it could al...   1/21/2008   \n",
       "321    sphere                                 playing with a jet   6/12/2008   \n",
       "380     light  While I was driving I stopped at a traffic lig...   7/16/2006   \n",
       "421   unknown         Accidentally photographed very strange UFO  11/28/2007   \n",
       "427   chevron  It came from the direction of the city&#44 whe...   3/19/2009   \n",
       "432  cylinder  Very large long white cylinder object travelin...   1/10/2009   \n",
       "\n",
       "      latitude   longitude      temp_country geopandas_country  \n",
       "36  -38.662334  178.017649  Unable To Verify       New Zealand  \n",
       "58   55.183333   59.650000  Unable To Verify            Russia  \n",
       "69  -33.093373  151.588982  Unable To Verify         Australia  \n",
       "147  55.288131   23.957728  Unable To Verify         Lithuania  \n",
       "199  59.900209    5.282347  Unable To Verify            Norway  \n",
       "321  64.066667  -21.950000  Unable To Verify           Iceland  \n",
       "380  27.477936  -99.549573  Unable To Verify            Mexico  \n",
       "421 -27.597553  152.745500  Unable To Verify         Australia  \n",
       "427  46.627940   14.308990  Unable To Verify           Austria  \n",
       "432 -27.088079  152.928057  Unable To Verify         Australia  "
      ]
     },
     "execution_count": 33,
     "metadata": {},
     "output_type": "execute_result"
    }
   ],
   "source": [
    "axdf.loc[((axdf['temp_country']== 'Unable To Verify') & ~(axdf['geopandas_country'].isnull()))].head(10)"
   ]
  },
  {
   "cell_type": "markdown",
   "id": "c33d6d91-42aa-4348-b6ef-74378439516b",
   "metadata": {},
   "source": [
    "## And now rows that I either couldn't identify or geopandas could not but not both."
   ]
  },
  {
   "cell_type": "code",
   "execution_count": 34,
   "id": "62f6f2ee-aff6-43b8-b965-5f08804194ff",
   "metadata": {},
   "outputs": [
    {
     "data": {
      "text/html": [
       "<div>\n",
       "<style scoped>\n",
       "    .dataframe tbody tr th:only-of-type {\n",
       "        vertical-align: middle;\n",
       "    }\n",
       "\n",
       "    .dataframe tbody tr th {\n",
       "        vertical-align: top;\n",
       "    }\n",
       "\n",
       "    .dataframe thead th {\n",
       "        text-align: right;\n",
       "    }\n",
       "</style>\n",
       "<table border=\"1\" class=\"dataframe\">\n",
       "  <thead>\n",
       "    <tr style=\"text-align: right;\">\n",
       "      <th></th>\n",
       "      <th>datetime</th>\n",
       "      <th>city</th>\n",
       "      <th>state</th>\n",
       "      <th>country</th>\n",
       "      <th>shape</th>\n",
       "      <th>comments</th>\n",
       "      <th>date posted</th>\n",
       "      <th>latitude</th>\n",
       "      <th>longitude</th>\n",
       "      <th>temp_country</th>\n",
       "      <th>geopandas_country</th>\n",
       "    </tr>\n",
       "  </thead>\n",
       "  <tbody>\n",
       "    <tr>\n",
       "      <th>19</th>\n",
       "      <td>10/10/1974 17:00</td>\n",
       "      <td>willow beach</td>\n",
       "      <td>AZ</td>\n",
       "      <td>NaN</td>\n",
       "      <td>light</td>\n",
       "      <td>The object was a brillant white light standing...</td>\n",
       "      <td>2/18/2001</td>\n",
       "      <td>0.000000</td>\n",
       "      <td>0.000000</td>\n",
       "      <td>United States of America</td>\n",
       "      <td>NaN</td>\n",
       "    </tr>\n",
       "    <tr>\n",
       "      <th>36</th>\n",
       "      <td>10/10/1982 07:00</td>\n",
       "      <td>gisborne (new zealand)</td>\n",
       "      <td>NaN</td>\n",
       "      <td>NaN</td>\n",
       "      <td>disk</td>\n",
       "      <td>gisborne nz 1982 wainui beach to sponge bay</td>\n",
       "      <td>1/11/2002</td>\n",
       "      <td>-38.662334</td>\n",
       "      <td>178.017649</td>\n",
       "      <td>Unable To Verify</td>\n",
       "      <td>New Zealand</td>\n",
       "    </tr>\n",
       "    <tr>\n",
       "      <th>42</th>\n",
       "      <td>10/10/1987 20:00</td>\n",
       "      <td>manilla (rr#1) (canada)</td>\n",
       "      <td>ON</td>\n",
       "      <td>NaN</td>\n",
       "      <td>disk</td>\n",
       "      <td>We could clearly see the craft and observed in...</td>\n",
       "      <td>8/5/2001</td>\n",
       "      <td>0.000000</td>\n",
       "      <td>0.000000</td>\n",
       "      <td>Canada</td>\n",
       "      <td>NaN</td>\n",
       "    </tr>\n",
       "    <tr>\n",
       "      <th>50</th>\n",
       "      <td>10/10/1990 20:00</td>\n",
       "      <td>pense (canada)</td>\n",
       "      <td>SA</td>\n",
       "      <td>NaN</td>\n",
       "      <td>unknown</td>\n",
       "      <td>i saw something one rainy night&amp;#44 and i&amp;#39l...</td>\n",
       "      <td>10/12/2001</td>\n",
       "      <td>0.000000</td>\n",
       "      <td>0.000000</td>\n",
       "      <td>Canada</td>\n",
       "      <td>NaN</td>\n",
       "    </tr>\n",
       "    <tr>\n",
       "      <th>52</th>\n",
       "      <td>10/10/1991 22:00</td>\n",
       "      <td>frisco</td>\n",
       "      <td>NC</td>\n",
       "      <td>us</td>\n",
       "      <td>unknown</td>\n",
       "      <td>A friend and myself were standing on the shore...</td>\n",
       "      <td>1/28/1999</td>\n",
       "      <td>35.235000</td>\n",
       "      <td>-75.628889</td>\n",
       "      <td>United States of America</td>\n",
       "      <td>NaN</td>\n",
       "    </tr>\n",
       "    <tr>\n",
       "      <th>58</th>\n",
       "      <td>10/10/1993 03:00</td>\n",
       "      <td>zlatoust (russia)</td>\n",
       "      <td>NaN</td>\n",
       "      <td>NaN</td>\n",
       "      <td>sphere</td>\n",
       "      <td>I woke up at night and looked out the window n...</td>\n",
       "      <td>12/14/2004</td>\n",
       "      <td>55.183333</td>\n",
       "      <td>59.650000</td>\n",
       "      <td>Unable To Verify</td>\n",
       "      <td>Russia</td>\n",
       "    </tr>\n",
       "    <tr>\n",
       "      <th>69</th>\n",
       "      <td>10/10/1996 20:00</td>\n",
       "      <td>lake macquarie (nsw&amp;#44 australia)</td>\n",
       "      <td>NaN</td>\n",
       "      <td>NaN</td>\n",
       "      <td>light</td>\n",
       "      <td>RED LIGHT WITH OTHER RED FLASHING LIGHT&amp;#44 ON...</td>\n",
       "      <td>5/24/1999</td>\n",
       "      <td>-33.093373</td>\n",
       "      <td>151.588982</td>\n",
       "      <td>Unable To Verify</td>\n",
       "      <td>Australia</td>\n",
       "    </tr>\n",
       "    <tr>\n",
       "      <th>88</th>\n",
       "      <td>10/10/1999 03:00</td>\n",
       "      <td>st. agnes de dundee (canada)</td>\n",
       "      <td>PQ</td>\n",
       "      <td>NaN</td>\n",
       "      <td>egg</td>\n",
       "      <td>early morning bright object egg shape fully co...</td>\n",
       "      <td>12/2/2000</td>\n",
       "      <td>0.000000</td>\n",
       "      <td>0.000000</td>\n",
       "      <td>Canada</td>\n",
       "      <td>NaN</td>\n",
       "    </tr>\n",
       "    <tr>\n",
       "      <th>103</th>\n",
       "      <td>10/10/2000 06:15</td>\n",
       "      <td>boynton beach</td>\n",
       "      <td>FL</td>\n",
       "      <td>us</td>\n",
       "      <td>other</td>\n",
       "      <td>Unusual light formation moving extremely fast ...</td>\n",
       "      <td>12/2/2000</td>\n",
       "      <td>26.525000</td>\n",
       "      <td>-80.066667</td>\n",
       "      <td>United States of America</td>\n",
       "      <td>NaN</td>\n",
       "    </tr>\n",
       "    <tr>\n",
       "      <th>110</th>\n",
       "      <td>10/10/2000 22:00</td>\n",
       "      <td>port orchard</td>\n",
       "      <td>WA</td>\n",
       "      <td>us</td>\n",
       "      <td>diamond</td>\n",
       "      <td>One night my window started to flash</td>\n",
       "      <td>5/12/2009</td>\n",
       "      <td>47.540556</td>\n",
       "      <td>-122.635000</td>\n",
       "      <td>United States of America</td>\n",
       "      <td>NaN</td>\n",
       "    </tr>\n",
       "  </tbody>\n",
       "</table>\n",
       "</div>"
      ],
      "text/plain": [
       "             datetime                                city state country  \\\n",
       "19   10/10/1974 17:00                        willow beach    AZ     NaN   \n",
       "36   10/10/1982 07:00              gisborne (new zealand)   NaN     NaN   \n",
       "42   10/10/1987 20:00             manilla (rr#1) (canada)    ON     NaN   \n",
       "50   10/10/1990 20:00                      pense (canada)    SA     NaN   \n",
       "52   10/10/1991 22:00                              frisco    NC      us   \n",
       "58   10/10/1993 03:00                   zlatoust (russia)   NaN     NaN   \n",
       "69   10/10/1996 20:00  lake macquarie (nsw&#44 australia)   NaN     NaN   \n",
       "88   10/10/1999 03:00        st. agnes de dundee (canada)    PQ     NaN   \n",
       "103  10/10/2000 06:15                       boynton beach    FL      us   \n",
       "110  10/10/2000 22:00                        port orchard    WA      us   \n",
       "\n",
       "       shape                                           comments date posted  \\\n",
       "19     light  The object was a brillant white light standing...   2/18/2001   \n",
       "36      disk        gisborne nz 1982 wainui beach to sponge bay   1/11/2002   \n",
       "42      disk  We could clearly see the craft and observed in...    8/5/2001   \n",
       "50   unknown  i saw something one rainy night&#44 and i&#39l...  10/12/2001   \n",
       "52   unknown  A friend and myself were standing on the shore...   1/28/1999   \n",
       "58    sphere  I woke up at night and looked out the window n...  12/14/2004   \n",
       "69     light  RED LIGHT WITH OTHER RED FLASHING LIGHT&#44 ON...   5/24/1999   \n",
       "88       egg  early morning bright object egg shape fully co...   12/2/2000   \n",
       "103    other  Unusual light formation moving extremely fast ...   12/2/2000   \n",
       "110  diamond               One night my window started to flash   5/12/2009   \n",
       "\n",
       "      latitude   longitude              temp_country geopandas_country  \n",
       "19    0.000000    0.000000  United States of America               NaN  \n",
       "36  -38.662334  178.017649          Unable To Verify       New Zealand  \n",
       "42    0.000000    0.000000                    Canada               NaN  \n",
       "50    0.000000    0.000000                    Canada               NaN  \n",
       "52   35.235000  -75.628889  United States of America               NaN  \n",
       "58   55.183333   59.650000          Unable To Verify            Russia  \n",
       "69  -33.093373  151.588982          Unable To Verify         Australia  \n",
       "88    0.000000    0.000000                    Canada               NaN  \n",
       "103  26.525000  -80.066667  United States of America               NaN  \n",
       "110  47.540556 -122.635000  United States of America               NaN  "
      ]
     },
     "execution_count": 34,
     "metadata": {},
     "output_type": "execute_result"
    }
   ],
   "source": [
    "axdf.loc[(axdf['temp_country'] == 'Unable To Verify') ^ (axdf['geopandas_country'].isna())].head(10)"
   ]
  },
  {
   "cell_type": "markdown",
   "id": "6d75c15a-5bf3-4341-8870-ad67d99e0601",
   "metadata": {},
   "source": [
    "## Update temp_country with geopandas_country if temp_country is 'Unable to verify' but there is a valid country in geopandas_country."
   ]
  },
  {
   "cell_type": "code",
   "execution_count": 35,
   "id": "1ab1ea79-7da0-4e46-b47f-2f07aa104803",
   "metadata": {},
   "outputs": [],
   "source": [
    "axdf['temp_country'] = np.where(\n",
    "    (axdf['temp_country'] == 'Unable To Verify') & (axdf['geopandas_country'].notna()),\n",
    "    axdf['geopandas_country'], axdf['temp_country'])"
   ]
  },
  {
   "cell_type": "markdown",
   "id": "3b233c41-2013-4420-bfba-b688ca74a8d0",
   "metadata": {},
   "source": [
    "## Check on a sample of country counts"
   ]
  },
  {
   "cell_type": "code",
   "execution_count": 36,
   "id": "f9c07b67-6cbe-4d1c-bf2b-051b4082559c",
   "metadata": {},
   "outputs": [
    {
     "data": {
      "text/plain": [
       "temp_country\n",
       "United States of America    77361\n",
       "Canada                       4011\n",
       "United Kingdom               2622\n",
       "Unable To Verify             1327\n",
       "Australia                     685\n",
       "India                         239\n",
       "Mexico                        229\n",
       "Germany                       152\n",
       "Netherlands                   112\n",
       "New Zealand                    96\n",
       "Malaysia                       94\n",
       "France                         81\n",
       "Brazil                         77\n",
       "South Africa                   71\n",
       "Spain                          64\n",
       "China                          54\n",
       "Philippines                    44\n",
       "Portugal                       44\n",
       "Belgium                        43\n",
       "Japan                          43\n",
       "Iran                           39\n",
       "Sweden                         38\n",
       "Romania                        36\n",
       "Norway                         35\n",
       "Israel                         34\n",
       "Name: count, dtype: int64"
      ]
     },
     "execution_count": 36,
     "metadata": {},
     "output_type": "execute_result"
    }
   ],
   "source": [
    "axdf['temp_country'].value_counts().head(25)"
   ]
  },
  {
   "cell_type": "markdown",
   "id": "6c3600c5-adfb-4964-ba8f-7a7cddc2d60d",
   "metadata": {},
   "source": [
    "## Now lets look for rows still not identified with a country."
   ]
  },
  {
   "cell_type": "code",
   "execution_count": 37,
   "id": "f4e55c16-d288-4e15-9910-3fe2f4638692",
   "metadata": {},
   "outputs": [
    {
     "data": {
      "text/html": [
       "<div>\n",
       "<style scoped>\n",
       "    .dataframe tbody tr th:only-of-type {\n",
       "        vertical-align: middle;\n",
       "    }\n",
       "\n",
       "    .dataframe tbody tr th {\n",
       "        vertical-align: top;\n",
       "    }\n",
       "\n",
       "    .dataframe thead th {\n",
       "        text-align: right;\n",
       "    }\n",
       "</style>\n",
       "<table border=\"1\" class=\"dataframe\">\n",
       "  <thead>\n",
       "    <tr style=\"text-align: right;\">\n",
       "      <th></th>\n",
       "      <th>datetime</th>\n",
       "      <th>city</th>\n",
       "      <th>state</th>\n",
       "      <th>country</th>\n",
       "      <th>shape</th>\n",
       "      <th>comments</th>\n",
       "      <th>date posted</th>\n",
       "      <th>latitude</th>\n",
       "      <th>longitude</th>\n",
       "      <th>temp_country</th>\n",
       "      <th>geopandas_country</th>\n",
       "    </tr>\n",
       "  </thead>\n",
       "  <tbody>\n",
       "    <tr>\n",
       "      <th>18</th>\n",
       "      <td>10/10/1973 23:00</td>\n",
       "      <td>bermuda nas</td>\n",
       "      <td>NaN</td>\n",
       "      <td>NaN</td>\n",
       "      <td>light</td>\n",
       "      <td>saw fast moving blip on the radar scope thin w...</td>\n",
       "      <td>1/11/2002</td>\n",
       "      <td>32.364167</td>\n",
       "      <td>-64.678611</td>\n",
       "      <td>Unable To Verify</td>\n",
       "      <td>NaN</td>\n",
       "    </tr>\n",
       "    <tr>\n",
       "      <th>76</th>\n",
       "      <td>10/10/1998 02:00</td>\n",
       "      <td>turin (italy)</td>\n",
       "      <td>NaN</td>\n",
       "      <td>NaN</td>\n",
       "      <td>disk</td>\n",
       "      <td>We were doing a patrol during the night&amp;#44me ...</td>\n",
       "      <td>1/19/2005</td>\n",
       "      <td>0.000000</td>\n",
       "      <td>0.000000</td>\n",
       "      <td>Unable To Verify</td>\n",
       "      <td>NaN</td>\n",
       "    </tr>\n",
       "    <tr>\n",
       "      <th>97</th>\n",
       "      <td>10/10/1999 22:00</td>\n",
       "      <td>dorset (uk/england)</td>\n",
       "      <td>NaN</td>\n",
       "      <td>NaN</td>\n",
       "      <td>flash</td>\n",
       "      <td>Whilst out late night cycling (as i have done ...</td>\n",
       "      <td>2/14/2006</td>\n",
       "      <td>0.000000</td>\n",
       "      <td>0.000000</td>\n",
       "      <td>Unable To Verify</td>\n",
       "      <td>NaN</td>\n",
       "    </tr>\n",
       "    <tr>\n",
       "      <th>102</th>\n",
       "      <td>10/10/2000 03:45</td>\n",
       "      <td>carnival cruise ship (paradise) (caribbean)</td>\n",
       "      <td>NaN</td>\n",
       "      <td>NaN</td>\n",
       "      <td>flash</td>\n",
       "      <td>Motionless eratic flashing light.</td>\n",
       "      <td>12/9/2000</td>\n",
       "      <td>0.000000</td>\n",
       "      <td>0.000000</td>\n",
       "      <td>Unable To Verify</td>\n",
       "      <td>NaN</td>\n",
       "    </tr>\n",
       "    <tr>\n",
       "      <th>126</th>\n",
       "      <td>10/10/2002 22:00</td>\n",
       "      <td>bahamas</td>\n",
       "      <td>NaN</td>\n",
       "      <td>NaN</td>\n",
       "      <td>egg</td>\n",
       "      <td>we are sitting outside and commenting on all t...</td>\n",
       "      <td>10/15/2002</td>\n",
       "      <td>25.034280</td>\n",
       "      <td>-77.396280</td>\n",
       "      <td>Unable To Verify</td>\n",
       "      <td>NaN</td>\n",
       "    </tr>\n",
       "    <tr>\n",
       "      <th>...</th>\n",
       "      <td>...</td>\n",
       "      <td>...</td>\n",
       "      <td>...</td>\n",
       "      <td>...</td>\n",
       "      <td>...</td>\n",
       "      <td>...</td>\n",
       "      <td>...</td>\n",
       "      <td>...</td>\n",
       "      <td>...</td>\n",
       "      <td>...</td>\n",
       "      <td>...</td>\n",
       "    </tr>\n",
       "    <tr>\n",
       "      <th>88358</th>\n",
       "      <td>9/8/2011 22:00</td>\n",
       "      <td>watertown</td>\n",
       "      <td>NaN</td>\n",
       "      <td>NaN</td>\n",
       "      <td>sphere</td>\n",
       "      <td>Orb changing colors and staying in sight while...</td>\n",
       "      <td>10/10/2011</td>\n",
       "      <td>0.000000</td>\n",
       "      <td>0.000000</td>\n",
       "      <td>Unable To Verify</td>\n",
       "      <td>NaN</td>\n",
       "    </tr>\n",
       "    <tr>\n",
       "      <th>88436</th>\n",
       "      <td>9/9/1981 20:00</td>\n",
       "      <td>moca (puerto rico)</td>\n",
       "      <td>NaN</td>\n",
       "      <td>NaN</td>\n",
       "      <td>triangle</td>\n",
       "      <td>Huge triangle with three smaller saucers at th...</td>\n",
       "      <td>10/31/2008</td>\n",
       "      <td>0.000000</td>\n",
       "      <td>0.000000</td>\n",
       "      <td>Unable To Verify</td>\n",
       "      <td>NaN</td>\n",
       "    </tr>\n",
       "    <tr>\n",
       "      <th>88459</th>\n",
       "      <td>9/9/1999 23:00</td>\n",
       "      <td>cozumel (mexico) and ocho rios (jamaica) (betw...</td>\n",
       "      <td>NaN</td>\n",
       "      <td>NaN</td>\n",
       "      <td>triangle</td>\n",
       "      <td>My husband and I&amp;#44 while traveling on our ho...</td>\n",
       "      <td>10/2/1999</td>\n",
       "      <td>20.422984</td>\n",
       "      <td>-86.922343</td>\n",
       "      <td>Unable To Verify</td>\n",
       "      <td>NaN</td>\n",
       "    </tr>\n",
       "    <tr>\n",
       "      <th>88484</th>\n",
       "      <td>9/9/2002 02:25</td>\n",
       "      <td>lisbon (portugal)</td>\n",
       "      <td>NaN</td>\n",
       "      <td>NaN</td>\n",
       "      <td>chevron</td>\n",
       "      <td>chevron formed by dim white lights moving nort...</td>\n",
       "      <td>9/19/2002</td>\n",
       "      <td>0.000000</td>\n",
       "      <td>0.000000</td>\n",
       "      <td>Unable To Verify</td>\n",
       "      <td>NaN</td>\n",
       "    </tr>\n",
       "    <tr>\n",
       "      <th>88623</th>\n",
       "      <td>9/9/2011 22:45</td>\n",
       "      <td>denmark</td>\n",
       "      <td>NaN</td>\n",
       "      <td>NaN</td>\n",
       "      <td>light</td>\n",
       "      <td>slow moving light about 5 meters up in the skye.</td>\n",
       "      <td>10/10/2011</td>\n",
       "      <td>0.000000</td>\n",
       "      <td>0.000000</td>\n",
       "      <td>Unable To Verify</td>\n",
       "      <td>NaN</td>\n",
       "    </tr>\n",
       "  </tbody>\n",
       "</table>\n",
       "<p>1327 rows × 11 columns</p>\n",
       "</div>"
      ],
      "text/plain": [
       "               datetime                                               city  \\\n",
       "18     10/10/1973 23:00                                        bermuda nas   \n",
       "76     10/10/1998 02:00                                      turin (italy)   \n",
       "97     10/10/1999 22:00                                dorset (uk/england)   \n",
       "102    10/10/2000 03:45        carnival cruise ship (paradise) (caribbean)   \n",
       "126    10/10/2002 22:00                                            bahamas   \n",
       "...                 ...                                                ...   \n",
       "88358    9/8/2011 22:00                                          watertown   \n",
       "88436    9/9/1981 20:00                                 moca (puerto rico)   \n",
       "88459    9/9/1999 23:00  cozumel (mexico) and ocho rios (jamaica) (betw...   \n",
       "88484    9/9/2002 02:25                                  lisbon (portugal)   \n",
       "88623    9/9/2011 22:45                                            denmark   \n",
       "\n",
       "      state country     shape  \\\n",
       "18      NaN     NaN     light   \n",
       "76      NaN     NaN      disk   \n",
       "97      NaN     NaN     flash   \n",
       "102     NaN     NaN     flash   \n",
       "126     NaN     NaN       egg   \n",
       "...     ...     ...       ...   \n",
       "88358   NaN     NaN    sphere   \n",
       "88436   NaN     NaN  triangle   \n",
       "88459   NaN     NaN  triangle   \n",
       "88484   NaN     NaN   chevron   \n",
       "88623   NaN     NaN     light   \n",
       "\n",
       "                                                comments date posted  \\\n",
       "18     saw fast moving blip on the radar scope thin w...   1/11/2002   \n",
       "76     We were doing a patrol during the night&#44me ...   1/19/2005   \n",
       "97     Whilst out late night cycling (as i have done ...   2/14/2006   \n",
       "102                    Motionless eratic flashing light.   12/9/2000   \n",
       "126    we are sitting outside and commenting on all t...  10/15/2002   \n",
       "...                                                  ...         ...   \n",
       "88358  Orb changing colors and staying in sight while...  10/10/2011   \n",
       "88436  Huge triangle with three smaller saucers at th...  10/31/2008   \n",
       "88459  My husband and I&#44 while traveling on our ho...   10/2/1999   \n",
       "88484  chevron formed by dim white lights moving nort...   9/19/2002   \n",
       "88623   slow moving light about 5 meters up in the skye.  10/10/2011   \n",
       "\n",
       "        latitude  longitude      temp_country geopandas_country  \n",
       "18     32.364167 -64.678611  Unable To Verify               NaN  \n",
       "76      0.000000   0.000000  Unable To Verify               NaN  \n",
       "97      0.000000   0.000000  Unable To Verify               NaN  \n",
       "102     0.000000   0.000000  Unable To Verify               NaN  \n",
       "126    25.034280 -77.396280  Unable To Verify               NaN  \n",
       "...          ...        ...               ...               ...  \n",
       "88358   0.000000   0.000000  Unable To Verify               NaN  \n",
       "88436   0.000000   0.000000  Unable To Verify               NaN  \n",
       "88459  20.422984 -86.922343  Unable To Verify               NaN  \n",
       "88484   0.000000   0.000000  Unable To Verify               NaN  \n",
       "88623   0.000000   0.000000  Unable To Verify               NaN  \n",
       "\n",
       "[1327 rows x 11 columns]"
      ]
     },
     "execution_count": 37,
     "metadata": {},
     "output_type": "execute_result"
    }
   ],
   "source": [
    "axdf.loc[axdf['temp_country']== 'Unable To Verify']"
   ]
  },
  {
   "cell_type": "markdown",
   "id": "991440e7-429b-4943-8a0c-f2c6bf598444",
   "metadata": {},
   "source": [
    "## So I'm going to lose the rows whose country I could not identify"
   ]
  },
  {
   "cell_type": "code",
   "execution_count": 38,
   "id": "ccbbef9c-7e27-4192-ba6b-5c538e59f667",
   "metadata": {},
   "outputs": [],
   "source": [
    "IndexLat = axdf[axdf['temp_country'] == 'Unable To Verify'].index\n",
    "axdf.drop(IndexLat , inplace=True)"
   ]
  },
  {
   "cell_type": "markdown",
   "id": "882d661f-1c7c-4ee5-9e00-1dbf3b08730d",
   "metadata": {},
   "source": [
    "## So lets populate the country column values with the values found by the searches."
   ]
  },
  {
   "cell_type": "code",
   "execution_count": 39,
   "id": "bbfe61ff-2760-4fcd-99f3-dd49207cc1a1",
   "metadata": {},
   "outputs": [],
   "source": [
    "axdf['country'] = axdf['temp_country']"
   ]
  },
  {
   "cell_type": "code",
   "execution_count": 40,
   "id": "36f10ba1-a530-4672-8ae6-58f499df9aff",
   "metadata": {},
   "outputs": [
    {
     "data": {
      "text/html": [
       "<div>\n",
       "<style scoped>\n",
       "    .dataframe tbody tr th:only-of-type {\n",
       "        vertical-align: middle;\n",
       "    }\n",
       "\n",
       "    .dataframe tbody tr th {\n",
       "        vertical-align: top;\n",
       "    }\n",
       "\n",
       "    .dataframe thead th {\n",
       "        text-align: right;\n",
       "    }\n",
       "</style>\n",
       "<table border=\"1\" class=\"dataframe\">\n",
       "  <thead>\n",
       "    <tr style=\"text-align: right;\">\n",
       "      <th></th>\n",
       "      <th>datetime</th>\n",
       "      <th>city</th>\n",
       "      <th>state</th>\n",
       "      <th>country</th>\n",
       "      <th>shape</th>\n",
       "      <th>comments</th>\n",
       "      <th>date posted</th>\n",
       "      <th>latitude</th>\n",
       "      <th>longitude</th>\n",
       "      <th>temp_country</th>\n",
       "      <th>geopandas_country</th>\n",
       "    </tr>\n",
       "  </thead>\n",
       "  <tbody>\n",
       "    <tr>\n",
       "      <th>0</th>\n",
       "      <td>10/10/1949 20:30</td>\n",
       "      <td>san marcos</td>\n",
       "      <td>TX</td>\n",
       "      <td>United States of America</td>\n",
       "      <td>cylinder</td>\n",
       "      <td>This event took place in early fall around 194...</td>\n",
       "      <td>4/27/2004</td>\n",
       "      <td>29.883056</td>\n",
       "      <td>-97.941111</td>\n",
       "      <td>United States of America</td>\n",
       "      <td>United States of America</td>\n",
       "    </tr>\n",
       "    <tr>\n",
       "      <th>1</th>\n",
       "      <td>10/10/1949 21:00</td>\n",
       "      <td>lackland afb</td>\n",
       "      <td>TX</td>\n",
       "      <td>United States of America</td>\n",
       "      <td>light</td>\n",
       "      <td>1949 Lackland AFB&amp;#44 TX.  Lights racing acros...</td>\n",
       "      <td>12/16/2005</td>\n",
       "      <td>29.384210</td>\n",
       "      <td>-98.581082</td>\n",
       "      <td>United States of America</td>\n",
       "      <td>United States of America</td>\n",
       "    </tr>\n",
       "    <tr>\n",
       "      <th>2</th>\n",
       "      <td>10/10/1955 17:00</td>\n",
       "      <td>chester (uk/england)</td>\n",
       "      <td>NaN</td>\n",
       "      <td>United Kingdom</td>\n",
       "      <td>circle</td>\n",
       "      <td>Green/Orange circular disc over Chester&amp;#44 En...</td>\n",
       "      <td>1/21/2008</td>\n",
       "      <td>53.200000</td>\n",
       "      <td>-2.916667</td>\n",
       "      <td>United Kingdom</td>\n",
       "      <td>United Kingdom</td>\n",
       "    </tr>\n",
       "    <tr>\n",
       "      <th>3</th>\n",
       "      <td>10/10/1956 21:00</td>\n",
       "      <td>edna</td>\n",
       "      <td>TX</td>\n",
       "      <td>United States of America</td>\n",
       "      <td>circle</td>\n",
       "      <td>My older brother and twin sister were leaving ...</td>\n",
       "      <td>1/17/2004</td>\n",
       "      <td>28.978333</td>\n",
       "      <td>-96.645833</td>\n",
       "      <td>United States of America</td>\n",
       "      <td>United States of America</td>\n",
       "    </tr>\n",
       "    <tr>\n",
       "      <th>4</th>\n",
       "      <td>10/10/1960 20:00</td>\n",
       "      <td>kaneohe</td>\n",
       "      <td>HI</td>\n",
       "      <td>United States of America</td>\n",
       "      <td>light</td>\n",
       "      <td>AS a Marine 1st Lt. flying an FJ4B fighter/att...</td>\n",
       "      <td>1/22/2004</td>\n",
       "      <td>21.418056</td>\n",
       "      <td>-157.803611</td>\n",
       "      <td>United States of America</td>\n",
       "      <td>United States of America</td>\n",
       "    </tr>\n",
       "  </tbody>\n",
       "</table>\n",
       "</div>"
      ],
      "text/plain": [
       "           datetime                  city state                   country  \\\n",
       "0  10/10/1949 20:30            san marcos    TX  United States of America   \n",
       "1  10/10/1949 21:00          lackland afb    TX  United States of America   \n",
       "2  10/10/1955 17:00  chester (uk/england)   NaN            United Kingdom   \n",
       "3  10/10/1956 21:00                  edna    TX  United States of America   \n",
       "4  10/10/1960 20:00               kaneohe    HI  United States of America   \n",
       "\n",
       "      shape                                           comments date posted  \\\n",
       "0  cylinder  This event took place in early fall around 194...   4/27/2004   \n",
       "1     light  1949 Lackland AFB&#44 TX.  Lights racing acros...  12/16/2005   \n",
       "2    circle  Green/Orange circular disc over Chester&#44 En...   1/21/2008   \n",
       "3    circle  My older brother and twin sister were leaving ...   1/17/2004   \n",
       "4     light  AS a Marine 1st Lt. flying an FJ4B fighter/att...   1/22/2004   \n",
       "\n",
       "    latitude   longitude              temp_country         geopandas_country  \n",
       "0  29.883056  -97.941111  United States of America  United States of America  \n",
       "1  29.384210  -98.581082  United States of America  United States of America  \n",
       "2  53.200000   -2.916667            United Kingdom            United Kingdom  \n",
       "3  28.978333  -96.645833  United States of America  United States of America  \n",
       "4  21.418056 -157.803611  United States of America  United States of America  "
      ]
     },
     "execution_count": 40,
     "metadata": {},
     "output_type": "execute_result"
    }
   ],
   "source": [
    "axdf.head()"
   ]
  },
  {
   "cell_type": "code",
   "execution_count": null,
   "id": "b90e0ca9-df41-4c06-9608-af59d0343b27",
   "metadata": {},
   "outputs": [],
   "source": []
  },
  {
   "cell_type": "markdown",
   "id": "60c34e54-a8c9-4266-b3e2-13ae13a6e742",
   "metadata": {},
   "source": [
    "## Lets check our null values again."
   ]
  },
  {
   "cell_type": "code",
   "execution_count": 41,
   "id": "0dfe566a-e203-4ffb-8108-230bef07cc08",
   "metadata": {
    "scrolled": true
   },
   "outputs": [
    {
     "data": {
      "text/plain": [
       "datetime                0\n",
       "city                    0\n",
       "state                6082\n",
       "country                 0\n",
       "shape                2866\n",
       "comments               34\n",
       "date posted             0\n",
       "latitude                0\n",
       "longitude               0\n",
       "temp_country            0\n",
       "geopandas_country    2665\n",
       "dtype: int64"
      ]
     },
     "execution_count": 41,
     "metadata": {},
     "output_type": "execute_result"
    }
   ],
   "source": [
    "axdf.isnull().sum()"
   ]
  },
  {
   "cell_type": "markdown",
   "id": "b82a5a73-0a04-46b8-9742-c5d30417e933",
   "metadata": {},
   "source": [
    "## So lets fill in null values with either a blank or, in the case of shape of UFO, lets leave it as 'Unknow'. I'm sure the shock was just too much for anyone to pay that much attention."
   ]
  },
  {
   "cell_type": "code",
   "execution_count": 42,
   "id": "f953ce4d-4fc9-4976-83ca-7d2be5472cca",
   "metadata": {},
   "outputs": [],
   "source": [
    "axdf['comments'] = axdf['comments'].fillna('')\n",
    "axdf['state'] = axdf['state'].fillna('')\n",
    "axdf['shape'] = axdf['shape'].fillna('Unknown')\n"
   ]
  },
  {
   "cell_type": "markdown",
   "id": "95dc8268-93d8-43ff-b973-3f2cc01822d1",
   "metadata": {},
   "source": [
    "## So lets have a look to see how many null values we have"
   ]
  },
  {
   "cell_type": "code",
   "execution_count": 43,
   "id": "c08475f3-2cbe-4d47-b0e5-4928dec89e6d",
   "metadata": {
    "scrolled": true
   },
   "outputs": [
    {
     "data": {
      "text/plain": [
       "datetime                0\n",
       "city                    0\n",
       "state                   0\n",
       "country                 0\n",
       "shape                   0\n",
       "comments                0\n",
       "date posted             0\n",
       "latitude                0\n",
       "longitude               0\n",
       "temp_country            0\n",
       "geopandas_country    2665\n",
       "dtype: int64"
      ]
     },
     "execution_count": 43,
     "metadata": {},
     "output_type": "execute_result"
    }
   ],
   "source": [
    "axdf.isnull().sum()"
   ]
  },
  {
   "cell_type": "code",
   "execution_count": 44,
   "id": "837c51a3-781e-4ef4-947d-a94599cf5285",
   "metadata": {},
   "outputs": [
    {
     "name": "stdout",
     "output_type": "stream",
     "text": [
      "<class 'pandas.core.frame.DataFrame'>\n",
      "Index: 87350 entries, 0 to 88678\n",
      "Data columns (total 11 columns):\n",
      " #   Column             Non-Null Count  Dtype  \n",
      "---  ------             --------------  -----  \n",
      " 0   datetime           87350 non-null  object \n",
      " 1   city               87350 non-null  object \n",
      " 2   state              87350 non-null  object \n",
      " 3   country            87350 non-null  object \n",
      " 4   shape              87350 non-null  object \n",
      " 5   comments           87350 non-null  object \n",
      " 6   date posted        87350 non-null  object \n",
      " 7   latitude           87350 non-null  float64\n",
      " 8   longitude          87350 non-null  float64\n",
      " 9   temp_country       87350 non-null  object \n",
      " 10  geopandas_country  84685 non-null  object \n",
      "dtypes: float64(2), object(9)\n",
      "memory usage: 8.0+ MB\n"
     ]
    }
   ],
   "source": [
    "axdf.info()"
   ]
  },
  {
   "cell_type": "markdown",
   "id": "0d05ca56-33a9-499c-8fed-b1ecc6e1ad3d",
   "metadata": {},
   "source": [
    "## So now that the data is cleaned up somewhat I'm going get more functional with it. <br> First I'll break the datetime column up into its various pieces. <br><br>I want to convert the datetime cells into actual datetime format so that if any have a time of 24:00 I will replace the time with 00:00 and add a day. I'm assuming here that the day ends at 24:00 and begins at 00:00."
   ]
  },
  {
   "cell_type": "code",
   "execution_count": 45,
   "id": "6768d7af-b155-4e02-8ed5-422eb1e553fe",
   "metadata": {},
   "outputs": [
    {
     "data": {
      "text/plain": [
       "datetime                                              10/10/2005 24:00\n",
       "city                                                          franklin\n",
       "state                                                               IN\n",
       "country                                       United States of America\n",
       "shape                                                             disk\n",
       "comments             two yellow objects sitting over the corn field...\n",
       "date posted                                                 10/20/2005\n",
       "latitude                                                     39.480556\n",
       "longitude                                                      -86.055\n",
       "temp_country                                  United States of America\n",
       "geopandas_country                             United States of America\n",
       "Name: 166, dtype: object"
      ]
     },
     "execution_count": 45,
     "metadata": {},
     "output_type": "execute_result"
    }
   ],
   "source": [
    "axdf.loc[166]"
   ]
  },
  {
   "cell_type": "code",
   "execution_count": 46,
   "id": "a5b8b1bc-8779-4be4-b79d-d36a7d4d118b",
   "metadata": {},
   "outputs": [
    {
     "name": "stdout",
     "output_type": "stream",
     "text": [
      "balls\n",
      "Dawn\n"
     ]
    }
   ],
   "source": [
    "axdf['date_observed'] = pd.to_datetime(\n",
    "    axdf['datetime'].str.replace(' 24:00', ' 00:00', regex=False), errors='coerce'\n",
    ")\n",
    "\n",
    "print('balls')\n",
    "axdf['date_observed'] += np.where(\n",
    "    axdf['date_observed'].dt.hour == 0, pd.Timedelta(days=1), pd.Timedelta(0)\n",
    ")\n",
    "\n",
    "print('Dawn')"
   ]
  },
  {
   "cell_type": "code",
   "execution_count": 47,
   "id": "72985c33-3cb8-40d9-816b-d8a0cc1c747e",
   "metadata": {},
   "outputs": [
    {
     "data": {
      "text/plain": [
       "datetime                                              10/10/2005 24:00\n",
       "city                                                          franklin\n",
       "state                                                               IN\n",
       "country                                       United States of America\n",
       "shape                                                             disk\n",
       "comments             two yellow objects sitting over the corn field...\n",
       "date posted                                                 10/20/2005\n",
       "latitude                                                     39.480556\n",
       "longitude                                                      -86.055\n",
       "temp_country                                  United States of America\n",
       "geopandas_country                             United States of America\n",
       "date_observed                                      2005-10-11 00:00:00\n",
       "Name: 166, dtype: object"
      ]
     },
     "execution_count": 47,
     "metadata": {},
     "output_type": "execute_result"
    }
   ],
   "source": [
    "axdf.loc[166]"
   ]
  },
  {
   "cell_type": "markdown",
   "id": "1e27e5ec-c330-42df-ab3f-3787cc8ee650",
   "metadata": {},
   "source": [
    "## remove unneccessary columns"
   ]
  },
  {
   "cell_type": "code",
   "execution_count": 48,
   "id": "654d8e0b-ee6f-48da-8ff0-3700a15922af",
   "metadata": {},
   "outputs": [],
   "source": [
    "axdf.drop(['temp_country', 'geopandas_country', 'datetime', 'date posted', 'comments'], axis=1, inplace=True)"
   ]
  },
  {
   "cell_type": "code",
   "execution_count": 49,
   "id": "b8c97c3c-d1db-41ca-9c1f-f96277a77240",
   "metadata": {
    "scrolled": true
   },
   "outputs": [
    {
     "name": "stdout",
     "output_type": "stream",
     "text": [
      "<class 'pandas.core.frame.DataFrame'>\n",
      "Index: 87350 entries, 0 to 88678\n",
      "Data columns (total 7 columns):\n",
      " #   Column         Non-Null Count  Dtype  \n",
      "---  ------         --------------  -----  \n",
      " 0   city           87350 non-null  object \n",
      " 1   state          87350 non-null  object \n",
      " 2   country        87350 non-null  object \n",
      " 3   shape          87350 non-null  object \n",
      " 4   latitude       87350 non-null  float64\n",
      " 5   longitude      87350 non-null  float64\n",
      " 6   date_observed  87350 non-null  object \n",
      "dtypes: float64(2), object(5)\n",
      "memory usage: 7.3+ MB\n"
     ]
    }
   ],
   "source": [
    "axdf.info()"
   ]
  },
  {
   "cell_type": "markdown",
   "id": "2bfffd8e-b28d-4872-a8c4-71bd34b23bfe",
   "metadata": {},
   "source": [
    "## Convert date observed to datetime and break into individual componenets."
   ]
  },
  {
   "cell_type": "code",
   "execution_count": 50,
   "id": "a18f84b8-9fd8-47eb-9fd0-e2d581781942",
   "metadata": {},
   "outputs": [],
   "source": [
    "axdf['date_observed'] = pd.to_datetime(axdf['date_observed'])"
   ]
  },
  {
   "cell_type": "code",
   "execution_count": 51,
   "id": "f57e1ef0-5622-4330-a217-029d7f02b214",
   "metadata": {},
   "outputs": [],
   "source": [
    "axdf['year_seen'] = axdf['date_observed'].dt.year\n",
    "axdf['month_seen'] = axdf['date_observed'].dt.month\n",
    "axdf['day_seen'] = axdf['date_observed'].dt.day\n",
    "axdf['hour_seen'] = axdf['date_observed'].dt.hour"
   ]
  },
  {
   "cell_type": "code",
   "execution_count": 52,
   "id": "1c166a16-0a9d-407e-9c60-61447253c12a",
   "metadata": {
    "scrolled": true
   },
   "outputs": [
    {
     "data": {
      "text/html": [
       "<div>\n",
       "<style scoped>\n",
       "    .dataframe tbody tr th:only-of-type {\n",
       "        vertical-align: middle;\n",
       "    }\n",
       "\n",
       "    .dataframe tbody tr th {\n",
       "        vertical-align: top;\n",
       "    }\n",
       "\n",
       "    .dataframe thead th {\n",
       "        text-align: right;\n",
       "    }\n",
       "</style>\n",
       "<table border=\"1\" class=\"dataframe\">\n",
       "  <thead>\n",
       "    <tr style=\"text-align: right;\">\n",
       "      <th></th>\n",
       "      <th>city</th>\n",
       "      <th>state</th>\n",
       "      <th>country</th>\n",
       "      <th>shape</th>\n",
       "      <th>latitude</th>\n",
       "      <th>longitude</th>\n",
       "      <th>date_observed</th>\n",
       "      <th>year_seen</th>\n",
       "      <th>month_seen</th>\n",
       "      <th>day_seen</th>\n",
       "      <th>hour_seen</th>\n",
       "    </tr>\n",
       "  </thead>\n",
       "  <tbody>\n",
       "    <tr>\n",
       "      <th>88675</th>\n",
       "      <td>vienna</td>\n",
       "      <td>VA</td>\n",
       "      <td>United States of America</td>\n",
       "      <td>circle</td>\n",
       "      <td>38.901111</td>\n",
       "      <td>-77.265556</td>\n",
       "      <td>2013-09-09 22:20:00</td>\n",
       "      <td>2013</td>\n",
       "      <td>9</td>\n",
       "      <td>9</td>\n",
       "      <td>22</td>\n",
       "    </tr>\n",
       "    <tr>\n",
       "      <th>88676</th>\n",
       "      <td>edmond</td>\n",
       "      <td>OK</td>\n",
       "      <td>United States of America</td>\n",
       "      <td>cigar</td>\n",
       "      <td>35.652778</td>\n",
       "      <td>-97.477778</td>\n",
       "      <td>2013-09-09 23:00:00</td>\n",
       "      <td>2013</td>\n",
       "      <td>9</td>\n",
       "      <td>9</td>\n",
       "      <td>23</td>\n",
       "    </tr>\n",
       "    <tr>\n",
       "      <th>88677</th>\n",
       "      <td>starr</td>\n",
       "      <td>SC</td>\n",
       "      <td>United States of America</td>\n",
       "      <td>diamond</td>\n",
       "      <td>34.376944</td>\n",
       "      <td>-82.695833</td>\n",
       "      <td>2013-09-09 23:00:00</td>\n",
       "      <td>2013</td>\n",
       "      <td>9</td>\n",
       "      <td>9</td>\n",
       "      <td>23</td>\n",
       "    </tr>\n",
       "    <tr>\n",
       "      <th>88678</th>\n",
       "      <td>ft. lauderdale</td>\n",
       "      <td>FL</td>\n",
       "      <td>United States of America</td>\n",
       "      <td>oval</td>\n",
       "      <td>26.121944</td>\n",
       "      <td>-80.143611</td>\n",
       "      <td>2013-09-09 23:30:00</td>\n",
       "      <td>2013</td>\n",
       "      <td>9</td>\n",
       "      <td>9</td>\n",
       "      <td>23</td>\n",
       "    </tr>\n",
       "  </tbody>\n",
       "</table>\n",
       "</div>"
      ],
      "text/plain": [
       "                 city state                   country    shape   latitude  \\\n",
       "88675          vienna    VA  United States of America   circle  38.901111   \n",
       "88676          edmond    OK  United States of America    cigar  35.652778   \n",
       "88677           starr    SC  United States of America  diamond  34.376944   \n",
       "88678  ft. lauderdale    FL  United States of America     oval  26.121944   \n",
       "\n",
       "       longitude       date_observed  year_seen  month_seen  day_seen  \\\n",
       "88675 -77.265556 2013-09-09 22:20:00       2013           9         9   \n",
       "88676 -97.477778 2013-09-09 23:00:00       2013           9         9   \n",
       "88677 -82.695833 2013-09-09 23:00:00       2013           9         9   \n",
       "88678 -80.143611 2013-09-09 23:30:00       2013           9         9   \n",
       "\n",
       "       hour_seen  \n",
       "88675         22  \n",
       "88676         23  \n",
       "88677         23  \n",
       "88678         23  "
      ]
     },
     "execution_count": 52,
     "metadata": {},
     "output_type": "execute_result"
    }
   ],
   "source": [
    "axdf.tail(4)"
   ]
  },
  {
   "cell_type": "code",
   "execution_count": 53,
   "id": "fed070f2-943f-4626-827c-abee349ba861",
   "metadata": {},
   "outputs": [
    {
     "data": {
      "text/plain": [
       "array(['cylinder', 'light', 'circle', 'sphere', 'disk', 'fireball',\n",
       "       'unknown', 'oval', 'other', 'cigar', 'rectangle', 'chevron',\n",
       "       'triangle', 'formation', 'Unknown', 'delta', 'changing', 'egg',\n",
       "       'diamond', 'flash', 'cross', 'teardrop', 'cone', 'pyramid',\n",
       "       'round', 'crescent', 'flare', 'hexagon', 'dome', 'changed'],\n",
       "      dtype=object)"
      ]
     },
     "execution_count": 53,
     "metadata": {},
     "output_type": "execute_result"
    }
   ],
   "source": [
    "axdf['shape'].unique()"
   ]
  },
  {
   "cell_type": "markdown",
   "id": "39efbb04-5bd5-44f2-80d2-507bd31d77b6",
   "metadata": {},
   "source": [
    "## There's a few reported shapes that are similar so I want to group some together."
   ]
  },
  {
   "cell_type": "code",
   "execution_count": 54,
   "id": "c17b0c2c-391c-494d-a2f8-00ff2f83ff0f",
   "metadata": {},
   "outputs": [
    {
     "name": "stdout",
     "output_type": "stream",
     "text": [
      "bkf\n"
     ]
    }
   ],
   "source": [
    "mapped_shapes = {\"circle\": \"round\",\n",
    "                 \"sphere\": \"round\",\n",
    "                 \"disk\": \"round\",\n",
    "                 \"round\": \"round\",\n",
    "                 \"cylinder\": \"cylinder\",\n",
    "                 \"cigar\": \"cylinder\",\n",
    "                 \"oval\": \"cylinder\",\n",
    "                 \"triangle\": \"triangle\",\n",
    "                 \"delta\": \"triangle\",\n",
    "                 \"cone\": \"triangle\",\n",
    "                 \"pyramid\": \"triangle\",\n",
    "                 \"light\": \"light\",\n",
    "                 \"fireball\": \"light\",\n",
    "                 \"flash\": \"light\",\n",
    "                 \"flare\": \"light\",\n",
    "                 \"square\": \"angular\",\n",
    "                 \"hexagon\": \"angular\",\n",
    "                 \"rectangle\": \"angular\",\n",
    "                 \"egg\": \"egg\",\n",
    "                 \"teardrop\": \"egg\",\n",
    "                 \"unknown\": \"unknown\",\n",
    "                 \"Unknown\": \"unknown\",\n",
    "                 \"changed\": \"changing\",\n",
    "                 \"changing\": \"changing\"\n",
    "                 }\n",
    "\n",
    "axdf['new_shape'] = axdf['shape'].map(mapped_shapes)\n",
    "\n",
    "print('bkf')\n",
    "                              "
   ]
  },
  {
   "cell_type": "code",
   "execution_count": 55,
   "id": "08711457-4d48-4ab7-96e7-1f8c65e7a7fe",
   "metadata": {},
   "outputs": [
    {
     "data": {
      "text/html": [
       "<div>\n",
       "<style scoped>\n",
       "    .dataframe tbody tr th:only-of-type {\n",
       "        vertical-align: middle;\n",
       "    }\n",
       "\n",
       "    .dataframe tbody tr th {\n",
       "        vertical-align: top;\n",
       "    }\n",
       "\n",
       "    .dataframe thead th {\n",
       "        text-align: right;\n",
       "    }\n",
       "</style>\n",
       "<table border=\"1\" class=\"dataframe\">\n",
       "  <thead>\n",
       "    <tr style=\"text-align: right;\">\n",
       "      <th></th>\n",
       "      <th>city</th>\n",
       "      <th>state</th>\n",
       "      <th>country</th>\n",
       "      <th>shape</th>\n",
       "      <th>latitude</th>\n",
       "      <th>longitude</th>\n",
       "      <th>date_observed</th>\n",
       "      <th>year_seen</th>\n",
       "      <th>month_seen</th>\n",
       "      <th>day_seen</th>\n",
       "      <th>hour_seen</th>\n",
       "      <th>new_shape</th>\n",
       "    </tr>\n",
       "  </thead>\n",
       "  <tbody>\n",
       "    <tr>\n",
       "      <th>0</th>\n",
       "      <td>san marcos</td>\n",
       "      <td>TX</td>\n",
       "      <td>United States of America</td>\n",
       "      <td>cylinder</td>\n",
       "      <td>29.883056</td>\n",
       "      <td>-97.941111</td>\n",
       "      <td>1949-10-10 20:30:00</td>\n",
       "      <td>1949</td>\n",
       "      <td>10</td>\n",
       "      <td>10</td>\n",
       "      <td>20</td>\n",
       "      <td>cylinder</td>\n",
       "    </tr>\n",
       "    <tr>\n",
       "      <th>1</th>\n",
       "      <td>lackland afb</td>\n",
       "      <td>TX</td>\n",
       "      <td>United States of America</td>\n",
       "      <td>light</td>\n",
       "      <td>29.384210</td>\n",
       "      <td>-98.581082</td>\n",
       "      <td>1949-10-10 21:00:00</td>\n",
       "      <td>1949</td>\n",
       "      <td>10</td>\n",
       "      <td>10</td>\n",
       "      <td>21</td>\n",
       "      <td>light</td>\n",
       "    </tr>\n",
       "    <tr>\n",
       "      <th>2</th>\n",
       "      <td>chester (uk/england)</td>\n",
       "      <td></td>\n",
       "      <td>United Kingdom</td>\n",
       "      <td>circle</td>\n",
       "      <td>53.200000</td>\n",
       "      <td>-2.916667</td>\n",
       "      <td>1955-10-10 17:00:00</td>\n",
       "      <td>1955</td>\n",
       "      <td>10</td>\n",
       "      <td>10</td>\n",
       "      <td>17</td>\n",
       "      <td>round</td>\n",
       "    </tr>\n",
       "    <tr>\n",
       "      <th>3</th>\n",
       "      <td>edna</td>\n",
       "      <td>TX</td>\n",
       "      <td>United States of America</td>\n",
       "      <td>circle</td>\n",
       "      <td>28.978333</td>\n",
       "      <td>-96.645833</td>\n",
       "      <td>1956-10-10 21:00:00</td>\n",
       "      <td>1956</td>\n",
       "      <td>10</td>\n",
       "      <td>10</td>\n",
       "      <td>21</td>\n",
       "      <td>round</td>\n",
       "    </tr>\n",
       "    <tr>\n",
       "      <th>4</th>\n",
       "      <td>kaneohe</td>\n",
       "      <td>HI</td>\n",
       "      <td>United States of America</td>\n",
       "      <td>light</td>\n",
       "      <td>21.418056</td>\n",
       "      <td>-157.803611</td>\n",
       "      <td>1960-10-10 20:00:00</td>\n",
       "      <td>1960</td>\n",
       "      <td>10</td>\n",
       "      <td>10</td>\n",
       "      <td>20</td>\n",
       "      <td>light</td>\n",
       "    </tr>\n",
       "  </tbody>\n",
       "</table>\n",
       "</div>"
      ],
      "text/plain": [
       "                   city state                   country     shape   latitude  \\\n",
       "0            san marcos    TX  United States of America  cylinder  29.883056   \n",
       "1          lackland afb    TX  United States of America     light  29.384210   \n",
       "2  chester (uk/england)                  United Kingdom    circle  53.200000   \n",
       "3                  edna    TX  United States of America    circle  28.978333   \n",
       "4               kaneohe    HI  United States of America     light  21.418056   \n",
       "\n",
       "    longitude       date_observed  year_seen  month_seen  day_seen  hour_seen  \\\n",
       "0  -97.941111 1949-10-10 20:30:00       1949          10        10         20   \n",
       "1  -98.581082 1949-10-10 21:00:00       1949          10        10         21   \n",
       "2   -2.916667 1955-10-10 17:00:00       1955          10        10         17   \n",
       "3  -96.645833 1956-10-10 21:00:00       1956          10        10         21   \n",
       "4 -157.803611 1960-10-10 20:00:00       1960          10        10         20   \n",
       "\n",
       "  new_shape  \n",
       "0  cylinder  \n",
       "1     light  \n",
       "2     round  \n",
       "3     round  \n",
       "4     light  "
      ]
     },
     "execution_count": 55,
     "metadata": {},
     "output_type": "execute_result"
    }
   ],
   "source": [
    "axdf.head()"
   ]
  },
  {
   "cell_type": "code",
   "execution_count": 56,
   "id": "b3e8b195-0343-4be7-93cc-11e227d78f75",
   "metadata": {},
   "outputs": [
    {
     "data": {
      "text/plain": [
       "array(['cylinder', 'light', 'circle', 'sphere', 'disk', 'fireball',\n",
       "       'unknown', 'oval', 'other', 'cigar', 'rectangle', 'chevron',\n",
       "       'triangle', 'formation', 'Unknown', 'delta', 'changing', 'egg',\n",
       "       'diamond', 'flash', 'cross', 'teardrop', 'cone', 'pyramid',\n",
       "       'round', 'crescent', 'flare', 'hexagon', 'dome', 'changed'],\n",
       "      dtype=object)"
      ]
     },
     "execution_count": 56,
     "metadata": {},
     "output_type": "execute_result"
    }
   ],
   "source": [
    "axdf['shape'].unique()"
   ]
  },
  {
   "cell_type": "code",
   "execution_count": 57,
   "id": "9c688671-be25-40d1-a8db-1e47b3b01505",
   "metadata": {},
   "outputs": [
    {
     "data": {
      "text/plain": [
       "array(['cylinder', 'light', 'round', 'unknown', nan, 'angular',\n",
       "       'triangle', 'changing', 'egg'], dtype=object)"
      ]
     },
     "execution_count": 57,
     "metadata": {},
     "output_type": "execute_result"
    }
   ],
   "source": [
    "axdf['new_shape'].unique()"
   ]
  },
  {
   "cell_type": "markdown",
   "id": "9dbcf1d3-8668-47e0-98b9-06c5ff761c77",
   "metadata": {},
   "source": [
    "### So lets update the 'shape' column."
   ]
  },
  {
   "cell_type": "code",
   "execution_count": 58,
   "id": "a14b336a-6764-4508-b8ab-dda80c6fd84e",
   "metadata": {},
   "outputs": [],
   "source": [
    "axdf['shape'] = np.where(axdf['new_shape'].notna(), axdf['new_shape'], axdf['shape'])"
   ]
  },
  {
   "cell_type": "code",
   "execution_count": 59,
   "id": "719a0d1a-7241-4ce7-bf9e-739166f2070c",
   "metadata": {},
   "outputs": [],
   "source": [
    "axdf.drop(['new_shape'], axis=1, inplace=True)"
   ]
  },
  {
   "cell_type": "code",
   "execution_count": null,
   "id": "6ed875c0-386b-4bb3-ae6f-96ff3f5495b9",
   "metadata": {},
   "outputs": [],
   "source": []
  },
  {
   "cell_type": "markdown",
   "id": "1527bd56-f19d-4ca7-8a3d-9e7b92e1511c",
   "metadata": {},
   "source": [
    "## Now lets try to get the hemisphere these sightings occured in. <br> First I want to see what countries represent a row with no latitude value."
   ]
  },
  {
   "cell_type": "code",
   "execution_count": 60,
   "id": "7ddbfd97-06a8-4b39-8d10-b0ccc1b16c96",
   "metadata": {},
   "outputs": [
    {
     "data": {
      "text/plain": [
       "array(['United States of America', 'Canada'], dtype=object)"
      ]
     },
     "execution_count": 60,
     "metadata": {},
     "output_type": "execute_result"
    }
   ],
   "source": [
    "No_latitude = axdf[(axdf['latitude'] ==0) & ~(axdf['country'] == 'Unable To Verify')]\n",
    "\n",
    "No_latitude['country'].unique()"
   ]
  },
  {
   "cell_type": "markdown",
   "id": "6a75b8a2-3eae-4675-bd69-392db7586b75",
   "metadata": {},
   "source": [
    "## So just the U.S.A. and Canada, which I can mark down as being in the Northern hemisphere. <br> I will remove the rows that do not have a latitude or a recognised country."
   ]
  },
  {
   "cell_type": "code",
   "execution_count": 61,
   "id": "e1e432a4-c486-40ae-b77d-dcdba444c52d",
   "metadata": {},
   "outputs": [
    {
     "name": "stdout",
     "output_type": "stream",
     "text": [
      "boing\n"
     ]
    }
   ],
   "source": [
    "# Set mapping for countries with a latitude that can define which hemisphere it is in.\n",
    "country_hemisphere = {\n",
    "    'United States of America': 'North',\n",
    "    'Canada': 'North'\n",
    "}\n",
    "\n",
    "# Function to determine hemisphere\n",
    "def determine_hemisphere(row):\n",
    "    if row['latitude'] > 0:\n",
    "        return 'North'\n",
    "    elif row['latitude'] < 0:\n",
    "        return 'South'\n",
    "    elif row['latitude'] == 0 and row['country'] in country_hemisphere:\n",
    "        return country_hemisphere[row['country']]\n",
    "    else:\n",
    "        return 'Unknown'  # For any cases that don’t fit the criteria\n",
    "\n",
    "# Apply the function to each row in the dataframe\n",
    "axdf['hemisphere'] = axdf.apply(determine_hemisphere, axis=1)\n",
    "\n",
    "print('boing')"
   ]
  },
  {
   "cell_type": "code",
   "execution_count": 62,
   "id": "c7434bd8-ddd8-49fe-bc1a-a764ab3a682a",
   "metadata": {},
   "outputs": [
    {
     "data": {
      "text/plain": [
       "2"
      ]
     },
     "execution_count": 62,
     "metadata": {},
     "output_type": "execute_result"
    }
   ],
   "source": [
    "axdf['hemisphere'].nunique()"
   ]
  },
  {
   "cell_type": "markdown",
   "id": "6d47ae7e-15df-4007-9047-6d7d48151a3c",
   "metadata": {},
   "source": [
    "### There are a few as you will see below that did have latitude but as they are in North American countries I suspect an incorrect value."
   ]
  },
  {
   "cell_type": "code",
   "execution_count": 63,
   "id": "bd75afd2-38e7-42cc-a941-642ed7d40cb3",
   "metadata": {},
   "outputs": [
    {
     "data": {
      "text/html": [
       "<div>\n",
       "<style scoped>\n",
       "    .dataframe tbody tr th:only-of-type {\n",
       "        vertical-align: middle;\n",
       "    }\n",
       "\n",
       "    .dataframe tbody tr th {\n",
       "        vertical-align: top;\n",
       "    }\n",
       "\n",
       "    .dataframe thead th {\n",
       "        text-align: right;\n",
       "    }\n",
       "</style>\n",
       "<table border=\"1\" class=\"dataframe\">\n",
       "  <thead>\n",
       "    <tr style=\"text-align: right;\">\n",
       "      <th></th>\n",
       "      <th>city</th>\n",
       "      <th>state</th>\n",
       "      <th>country</th>\n",
       "      <th>shape</th>\n",
       "      <th>latitude</th>\n",
       "      <th>longitude</th>\n",
       "      <th>date_observed</th>\n",
       "      <th>year_seen</th>\n",
       "      <th>month_seen</th>\n",
       "      <th>day_seen</th>\n",
       "      <th>hour_seen</th>\n",
       "      <th>hemisphere</th>\n",
       "    </tr>\n",
       "  </thead>\n",
       "  <tbody>\n",
       "    <tr>\n",
       "      <th>4499</th>\n",
       "      <td>remote</td>\n",
       "      <td>WY</td>\n",
       "      <td>United States of America</td>\n",
       "      <td>light</td>\n",
       "      <td>-46.163992</td>\n",
       "      <td>169.875050</td>\n",
       "      <td>2008-10-23 04:45:00</td>\n",
       "      <td>2008</td>\n",
       "      <td>10</td>\n",
       "      <td>23</td>\n",
       "      <td>4</td>\n",
       "      <td>South</td>\n",
       "    </tr>\n",
       "    <tr>\n",
       "      <th>4714</th>\n",
       "      <td>na</td>\n",
       "      <td>OH</td>\n",
       "      <td>United States of America</td>\n",
       "      <td>cylinder</td>\n",
       "      <td>-21.846665</td>\n",
       "      <td>19.188005</td>\n",
       "      <td>2004-10-24 23:27:00</td>\n",
       "      <td>2004</td>\n",
       "      <td>10</td>\n",
       "      <td>24</td>\n",
       "      <td>23</td>\n",
       "      <td>South</td>\n",
       "    </tr>\n",
       "    <tr>\n",
       "      <th>5993</th>\n",
       "      <td>unknown</td>\n",
       "      <td>WA</td>\n",
       "      <td>United States of America</td>\n",
       "      <td>triangle</td>\n",
       "      <td>-26.316667</td>\n",
       "      <td>113.333333</td>\n",
       "      <td>1995-10-30 21:30:00</td>\n",
       "      <td>1995</td>\n",
       "      <td>10</td>\n",
       "      <td>30</td>\n",
       "      <td>21</td>\n",
       "      <td>South</td>\n",
       "    </tr>\n",
       "    <tr>\n",
       "      <th>10347</th>\n",
       "      <td>atlantic ocean</td>\n",
       "      <td>MA</td>\n",
       "      <td>United States of America</td>\n",
       "      <td>round</td>\n",
       "      <td>-14.599413</td>\n",
       "      <td>-28.673147</td>\n",
       "      <td>1992-11-15 23:00:00</td>\n",
       "      <td>1992</td>\n",
       "      <td>11</td>\n",
       "      <td>15</td>\n",
       "      <td>23</td>\n",
       "      <td>South</td>\n",
       "    </tr>\n",
       "    <tr>\n",
       "      <th>10411</th>\n",
       "      <td>southwest</td>\n",
       "      <td>AR</td>\n",
       "      <td>United States of America</td>\n",
       "      <td>triangle</td>\n",
       "      <td>-38.416097</td>\n",
       "      <td>-63.616672</td>\n",
       "      <td>2000-11-15 08:30:00</td>\n",
       "      <td>2000</td>\n",
       "      <td>11</td>\n",
       "      <td>15</td>\n",
       "      <td>8</td>\n",
       "      <td>South</td>\n",
       "    </tr>\n",
       "  </tbody>\n",
       "</table>\n",
       "</div>"
      ],
      "text/plain": [
       "                 city state                   country     shape   latitude  \\\n",
       "4499           remote    WY  United States of America     light -46.163992   \n",
       "4714               na    OH  United States of America  cylinder -21.846665   \n",
       "5993          unknown    WA  United States of America  triangle -26.316667   \n",
       "10347  atlantic ocean    MA  United States of America     round -14.599413   \n",
       "10411       southwest    AR  United States of America  triangle -38.416097   \n",
       "\n",
       "        longitude       date_observed  year_seen  month_seen  day_seen  \\\n",
       "4499   169.875050 2008-10-23 04:45:00       2008          10        23   \n",
       "4714    19.188005 2004-10-24 23:27:00       2004          10        24   \n",
       "5993   113.333333 1995-10-30 21:30:00       1995          10        30   \n",
       "10347  -28.673147 1992-11-15 23:00:00       1992          11        15   \n",
       "10411  -63.616672 2000-11-15 08:30:00       2000          11        15   \n",
       "\n",
       "       hour_seen hemisphere  \n",
       "4499           4      South  \n",
       "4714          23      South  \n",
       "5993          21      South  \n",
       "10347         23      South  \n",
       "10411          8      South  "
      ]
     },
     "execution_count": 63,
     "metadata": {},
     "output_type": "execute_result"
    }
   ],
   "source": [
    "err = axdf[(axdf['country'].isin(['Canada', 'United States of America'])) & (axdf['hemisphere'] == 'South')]\n",
    "#axdf.loc[(axdf['country'].isin(['Canada', 'United States of America'])) & (axdf['hemisphere'] == 'South')]\n",
    "err.head()"
   ]
  },
  {
   "cell_type": "code",
   "execution_count": 64,
   "id": "68529240-cf7b-4774-9f5f-5629b03530b9",
   "metadata": {},
   "outputs": [],
   "source": [
    "axdf['hemisphere'] = np.where(axdf['country'].isin(['Canada', 'United States of America']), 'North', axdf['hemisphere'])"
   ]
  },
  {
   "cell_type": "code",
   "execution_count": 65,
   "id": "74188b8a-b9aa-4e84-8edd-e8de4e10c7ad",
   "metadata": {},
   "outputs": [
    {
     "data": {
      "text/html": [
       "<div>\n",
       "<style scoped>\n",
       "    .dataframe tbody tr th:only-of-type {\n",
       "        vertical-align: middle;\n",
       "    }\n",
       "\n",
       "    .dataframe tbody tr th {\n",
       "        vertical-align: top;\n",
       "    }\n",
       "\n",
       "    .dataframe thead th {\n",
       "        text-align: right;\n",
       "    }\n",
       "</style>\n",
       "<table border=\"1\" class=\"dataframe\">\n",
       "  <thead>\n",
       "    <tr style=\"text-align: right;\">\n",
       "      <th></th>\n",
       "      <th>city</th>\n",
       "      <th>state</th>\n",
       "      <th>country</th>\n",
       "      <th>shape</th>\n",
       "      <th>latitude</th>\n",
       "      <th>longitude</th>\n",
       "      <th>date_observed</th>\n",
       "      <th>year_seen</th>\n",
       "      <th>month_seen</th>\n",
       "      <th>day_seen</th>\n",
       "      <th>hour_seen</th>\n",
       "      <th>hemisphere</th>\n",
       "    </tr>\n",
       "  </thead>\n",
       "  <tbody>\n",
       "    <tr>\n",
       "      <th>0</th>\n",
       "      <td>san marcos</td>\n",
       "      <td>TX</td>\n",
       "      <td>United States of America</td>\n",
       "      <td>cylinder</td>\n",
       "      <td>29.883056</td>\n",
       "      <td>-97.941111</td>\n",
       "      <td>1949-10-10 20:30:00</td>\n",
       "      <td>1949</td>\n",
       "      <td>10</td>\n",
       "      <td>10</td>\n",
       "      <td>20</td>\n",
       "      <td>North</td>\n",
       "    </tr>\n",
       "    <tr>\n",
       "      <th>1</th>\n",
       "      <td>lackland afb</td>\n",
       "      <td>TX</td>\n",
       "      <td>United States of America</td>\n",
       "      <td>light</td>\n",
       "      <td>29.384210</td>\n",
       "      <td>-98.581082</td>\n",
       "      <td>1949-10-10 21:00:00</td>\n",
       "      <td>1949</td>\n",
       "      <td>10</td>\n",
       "      <td>10</td>\n",
       "      <td>21</td>\n",
       "      <td>North</td>\n",
       "    </tr>\n",
       "    <tr>\n",
       "      <th>3</th>\n",
       "      <td>edna</td>\n",
       "      <td>TX</td>\n",
       "      <td>United States of America</td>\n",
       "      <td>round</td>\n",
       "      <td>28.978333</td>\n",
       "      <td>-96.645833</td>\n",
       "      <td>1956-10-10 21:00:00</td>\n",
       "      <td>1956</td>\n",
       "      <td>10</td>\n",
       "      <td>10</td>\n",
       "      <td>21</td>\n",
       "      <td>North</td>\n",
       "    </tr>\n",
       "    <tr>\n",
       "      <th>4</th>\n",
       "      <td>kaneohe</td>\n",
       "      <td>HI</td>\n",
       "      <td>United States of America</td>\n",
       "      <td>light</td>\n",
       "      <td>21.418056</td>\n",
       "      <td>-157.803611</td>\n",
       "      <td>1960-10-10 20:00:00</td>\n",
       "      <td>1960</td>\n",
       "      <td>10</td>\n",
       "      <td>10</td>\n",
       "      <td>20</td>\n",
       "      <td>North</td>\n",
       "    </tr>\n",
       "    <tr>\n",
       "      <th>5</th>\n",
       "      <td>bristol</td>\n",
       "      <td>TN</td>\n",
       "      <td>United States of America</td>\n",
       "      <td>round</td>\n",
       "      <td>36.595000</td>\n",
       "      <td>-82.188889</td>\n",
       "      <td>1961-10-10 19:00:00</td>\n",
       "      <td>1961</td>\n",
       "      <td>10</td>\n",
       "      <td>10</td>\n",
       "      <td>19</td>\n",
       "      <td>North</td>\n",
       "    </tr>\n",
       "    <tr>\n",
       "      <th>...</th>\n",
       "      <td>...</td>\n",
       "      <td>...</td>\n",
       "      <td>...</td>\n",
       "      <td>...</td>\n",
       "      <td>...</td>\n",
       "      <td>...</td>\n",
       "      <td>...</td>\n",
       "      <td>...</td>\n",
       "      <td>...</td>\n",
       "      <td>...</td>\n",
       "      <td>...</td>\n",
       "      <td>...</td>\n",
       "    </tr>\n",
       "    <tr>\n",
       "      <th>88674</th>\n",
       "      <td>napa</td>\n",
       "      <td>CA</td>\n",
       "      <td>United States of America</td>\n",
       "      <td>other</td>\n",
       "      <td>38.297222</td>\n",
       "      <td>-122.284444</td>\n",
       "      <td>2013-09-09 22:00:00</td>\n",
       "      <td>2013</td>\n",
       "      <td>9</td>\n",
       "      <td>9</td>\n",
       "      <td>22</td>\n",
       "      <td>North</td>\n",
       "    </tr>\n",
       "    <tr>\n",
       "      <th>88675</th>\n",
       "      <td>vienna</td>\n",
       "      <td>VA</td>\n",
       "      <td>United States of America</td>\n",
       "      <td>round</td>\n",
       "      <td>38.901111</td>\n",
       "      <td>-77.265556</td>\n",
       "      <td>2013-09-09 22:20:00</td>\n",
       "      <td>2013</td>\n",
       "      <td>9</td>\n",
       "      <td>9</td>\n",
       "      <td>22</td>\n",
       "      <td>North</td>\n",
       "    </tr>\n",
       "    <tr>\n",
       "      <th>88676</th>\n",
       "      <td>edmond</td>\n",
       "      <td>OK</td>\n",
       "      <td>United States of America</td>\n",
       "      <td>cylinder</td>\n",
       "      <td>35.652778</td>\n",
       "      <td>-97.477778</td>\n",
       "      <td>2013-09-09 23:00:00</td>\n",
       "      <td>2013</td>\n",
       "      <td>9</td>\n",
       "      <td>9</td>\n",
       "      <td>23</td>\n",
       "      <td>North</td>\n",
       "    </tr>\n",
       "    <tr>\n",
       "      <th>88677</th>\n",
       "      <td>starr</td>\n",
       "      <td>SC</td>\n",
       "      <td>United States of America</td>\n",
       "      <td>diamond</td>\n",
       "      <td>34.376944</td>\n",
       "      <td>-82.695833</td>\n",
       "      <td>2013-09-09 23:00:00</td>\n",
       "      <td>2013</td>\n",
       "      <td>9</td>\n",
       "      <td>9</td>\n",
       "      <td>23</td>\n",
       "      <td>North</td>\n",
       "    </tr>\n",
       "    <tr>\n",
       "      <th>88678</th>\n",
       "      <td>ft. lauderdale</td>\n",
       "      <td>FL</td>\n",
       "      <td>United States of America</td>\n",
       "      <td>cylinder</td>\n",
       "      <td>26.121944</td>\n",
       "      <td>-80.143611</td>\n",
       "      <td>2013-09-09 23:30:00</td>\n",
       "      <td>2013</td>\n",
       "      <td>9</td>\n",
       "      <td>9</td>\n",
       "      <td>23</td>\n",
       "      <td>North</td>\n",
       "    </tr>\n",
       "  </tbody>\n",
       "</table>\n",
       "<p>81372 rows × 12 columns</p>\n",
       "</div>"
      ],
      "text/plain": [
       "                 city state                   country     shape   latitude  \\\n",
       "0          san marcos    TX  United States of America  cylinder  29.883056   \n",
       "1        lackland afb    TX  United States of America     light  29.384210   \n",
       "3                edna    TX  United States of America     round  28.978333   \n",
       "4             kaneohe    HI  United States of America     light  21.418056   \n",
       "5             bristol    TN  United States of America     round  36.595000   \n",
       "...               ...   ...                       ...       ...        ...   \n",
       "88674            napa    CA  United States of America     other  38.297222   \n",
       "88675          vienna    VA  United States of America     round  38.901111   \n",
       "88676          edmond    OK  United States of America  cylinder  35.652778   \n",
       "88677           starr    SC  United States of America   diamond  34.376944   \n",
       "88678  ft. lauderdale    FL  United States of America  cylinder  26.121944   \n",
       "\n",
       "        longitude       date_observed  year_seen  month_seen  day_seen  \\\n",
       "0      -97.941111 1949-10-10 20:30:00       1949          10        10   \n",
       "1      -98.581082 1949-10-10 21:00:00       1949          10        10   \n",
       "3      -96.645833 1956-10-10 21:00:00       1956          10        10   \n",
       "4     -157.803611 1960-10-10 20:00:00       1960          10        10   \n",
       "5      -82.188889 1961-10-10 19:00:00       1961          10        10   \n",
       "...           ...                 ...        ...         ...       ...   \n",
       "88674 -122.284444 2013-09-09 22:00:00       2013           9         9   \n",
       "88675  -77.265556 2013-09-09 22:20:00       2013           9         9   \n",
       "88676  -97.477778 2013-09-09 23:00:00       2013           9         9   \n",
       "88677  -82.695833 2013-09-09 23:00:00       2013           9         9   \n",
       "88678  -80.143611 2013-09-09 23:30:00       2013           9         9   \n",
       "\n",
       "       hour_seen hemisphere  \n",
       "0             20      North  \n",
       "1             21      North  \n",
       "3             21      North  \n",
       "4             20      North  \n",
       "5             19      North  \n",
       "...          ...        ...  \n",
       "88674         22      North  \n",
       "88675         22      North  \n",
       "88676         23      North  \n",
       "88677         23      North  \n",
       "88678         23      North  \n",
       "\n",
       "[81372 rows x 12 columns]"
      ]
     },
     "execution_count": 65,
     "metadata": {},
     "output_type": "execute_result"
    }
   ],
   "source": [
    "axdf.loc[axdf['country'].isin(['Canada', 'United States of America'])]\n",
    "#& axdf['hemisphere'] == 'South'"
   ]
  },
  {
   "cell_type": "code",
   "execution_count": 66,
   "id": "51ea3e63-0b90-4f09-998a-6f4faae5f771",
   "metadata": {},
   "outputs": [
    {
     "data": {
      "text/plain": [
       "array(['New Zealand', 'Australia', 'Peru', 'Chile', 'Indonesia',\n",
       "       'eSwatini', 'Brazil', 'South Africa', 'Argentina', 'Bolivia',\n",
       "       'Fiji', 'Zimbabwe', 'Kenya', 'Solomon Islands', 'Papua New Guinea',\n",
       "       'Paraguay', 'Lesotho', 'Ecuador', 'United Republic of Tanzania',\n",
       "       'Namibia', 'Zambia', 'East Timor', 'Botswana', 'Uruguay',\n",
       "       'Antarctica', 'Uganda', 'Democratic Republic of the Congo'],\n",
       "      dtype=object)"
      ]
     },
     "execution_count": 66,
     "metadata": {},
     "output_type": "execute_result"
    }
   ],
   "source": [
    "axdf[axdf['hemisphere'] == 'South']['country'].unique()"
   ]
  },
  {
   "cell_type": "code",
   "execution_count": 67,
   "id": "662db2f3-8b78-4446-b537-d0500dd62862",
   "metadata": {},
   "outputs": [
    {
     "name": "stdout",
     "output_type": "stream",
     "text": [
      "Bennners\n"
     ]
    }
   ],
   "source": [
    "print('Bennners')"
   ]
  },
  {
   "cell_type": "code",
   "execution_count": null,
   "id": "5ef83237-3994-4a2e-a54a-fccf036e6293",
   "metadata": {},
   "outputs": [],
   "source": []
  },
  {
   "cell_type": "code",
   "execution_count": 68,
   "id": "fc15bdfd-fa2a-4f65-b0a4-9be8aacabf7e",
   "metadata": {},
   "outputs": [
    {
     "name": "stdout",
     "output_type": "stream",
     "text": [
      "87350\n"
     ]
    }
   ],
   "source": [
    "print(len(axdf))"
   ]
  },
  {
   "cell_type": "code",
   "execution_count": 69,
   "id": "286a6679-e99d-4ef2-83dc-828da4c85f93",
   "metadata": {},
   "outputs": [
    {
     "data": {
      "text/html": [
       "<div>\n",
       "<style scoped>\n",
       "    .dataframe tbody tr th:only-of-type {\n",
       "        vertical-align: middle;\n",
       "    }\n",
       "\n",
       "    .dataframe tbody tr th {\n",
       "        vertical-align: top;\n",
       "    }\n",
       "\n",
       "    .dataframe thead th {\n",
       "        text-align: right;\n",
       "    }\n",
       "</style>\n",
       "<table border=\"1\" class=\"dataframe\">\n",
       "  <thead>\n",
       "    <tr style=\"text-align: right;\">\n",
       "      <th></th>\n",
       "      <th>city</th>\n",
       "      <th>state</th>\n",
       "      <th>country</th>\n",
       "      <th>shape</th>\n",
       "      <th>latitude</th>\n",
       "      <th>longitude</th>\n",
       "      <th>date_observed</th>\n",
       "      <th>year_seen</th>\n",
       "      <th>month_seen</th>\n",
       "      <th>day_seen</th>\n",
       "      <th>hour_seen</th>\n",
       "      <th>hemisphere</th>\n",
       "    </tr>\n",
       "  </thead>\n",
       "  <tbody>\n",
       "  </tbody>\n",
       "</table>\n",
       "</div>"
      ],
      "text/plain": [
       "Empty DataFrame\n",
       "Columns: [city, state, country, shape, latitude, longitude, date_observed, year_seen, month_seen, day_seen, hour_seen, hemisphere]\n",
       "Index: []"
      ]
     },
     "execution_count": 69,
     "metadata": {},
     "output_type": "execute_result"
    }
   ],
   "source": [
    "axdf.loc[(axdf['latitude'] == 0) & ~(axdf['country'].isin(['United States of America', 'Canada']))]\n"
   ]
  },
  {
   "cell_type": "markdown",
   "id": "be0dea73-a2e8-4d11-afdc-c035ee50c08f",
   "metadata": {},
   "source": [
    "## Try to get the season from the day and month, taking hemisphere into account."
   ]
  },
  {
   "cell_type": "code",
   "execution_count": 70,
   "id": "eac34c1a-bacf-48a6-a413-d7a08886c649",
   "metadata": {},
   "outputs": [
    {
     "name": "stdout",
     "output_type": "stream",
     "text": [
      "I penum\n"
     ]
    }
   ],
   "source": [
    "def get_season(row):\n",
    "    month = row['month_seen']\n",
    "    day = row['day_seen']\n",
    "    hemisphere = row['hemisphere']\n",
    "\n",
    "        \n",
    "    #hemi = np.where(row['country'] in (countries_in_north), 'North', 'South')    #if row['latitude'] > 0 or (row['latitude'] == 0 and row['country'].isin(countries_in_north)):\n",
    "    if hemisphere == 'North':        #Northern hemisphere\n",
    "        if (month == 12 and day >= 21) or (month <= 3 and day <=21):\n",
    "            return 'Winter'\n",
    "        elif (month == 3 and day > 21) or (month <= 6 and day <=21):\n",
    "            return 'Spring'\n",
    "        elif (month == 6 and day > 21) or (month <= 9 and day <=21):\n",
    "            return 'Summer'\n",
    "        return 'Autumn'\n",
    "\n",
    "    \n",
    "    else:\n",
    "        if (month == 12 and day >= 21) or (month <= 3 and day <=21):\n",
    "            return 'Summer'\n",
    "        elif (month == 3 and day > 21) or (month <= 6 and day <=21):\n",
    "            return 'Autumn'\n",
    "        elif (month == 6 and day > 21) or (month <= 9 and day <=21):\n",
    "            return 'Winter'\n",
    "        return 'Spring'\n",
    "        \n",
    "    \n",
    "#axdf['temp_country'] = np.where((axdf['state'].isin(statelist)), 'USA', axdf['temp_country'])\n",
    "\n",
    "axdf['season'] = axdf.apply(get_season, axis=1)\n",
    "\n",
    "print('I penum')"
   ]
  },
  {
   "cell_type": "code",
   "execution_count": 71,
   "id": "5e3c99b8-7ab9-4a6b-a0dd-6d7fad16450f",
   "metadata": {},
   "outputs": [
    {
     "data": {
      "text/plain": [
       "season\n",
       "Autumn    32450\n",
       "Summer    23299\n",
       "Spring    16544\n",
       "Winter    15057\n",
       "Name: count, dtype: int64"
      ]
     },
     "execution_count": 71,
     "metadata": {},
     "output_type": "execute_result"
    }
   ],
   "source": [
    "axdf['season'].value_counts()"
   ]
  },
  {
   "cell_type": "code",
   "execution_count": null,
   "id": "750e1e79-5f6b-4ca1-afa6-aa2e77fd3e97",
   "metadata": {},
   "outputs": [],
   "source": []
  },
  {
   "cell_type": "code",
   "execution_count": 72,
   "id": "fbe57f26-05f5-460e-8273-f1c695cea797",
   "metadata": {},
   "outputs": [
    {
     "name": "stdout",
     "output_type": "stream",
     "text": [
      "<class 'pandas.core.frame.DataFrame'>\n",
      "Index: 87350 entries, 0 to 88678\n",
      "Data columns (total 13 columns):\n",
      " #   Column         Non-Null Count  Dtype         \n",
      "---  ------         --------------  -----         \n",
      " 0   city           87350 non-null  object        \n",
      " 1   state          87350 non-null  object        \n",
      " 2   country        87350 non-null  object        \n",
      " 3   shape          87350 non-null  object        \n",
      " 4   latitude       87350 non-null  float64       \n",
      " 5   longitude      87350 non-null  float64       \n",
      " 6   date_observed  87350 non-null  datetime64[ns]\n",
      " 7   year_seen      87350 non-null  int32         \n",
      " 8   month_seen     87350 non-null  int32         \n",
      " 9   day_seen       87350 non-null  int32         \n",
      " 10  hour_seen      87350 non-null  int32         \n",
      " 11  hemisphere     87350 non-null  object        \n",
      " 12  season         87350 non-null  object        \n",
      "dtypes: datetime64[ns](1), float64(2), int32(4), object(6)\n",
      "memory usage: 10.0+ MB\n"
     ]
    }
   ],
   "source": [
    "axdf.info()"
   ]
  },
  {
   "cell_type": "code",
   "execution_count": 73,
   "id": "9cf489b9-fa4c-4e8f-98ad-3b4e39cfd29b",
   "metadata": {
    "scrolled": true
   },
   "outputs": [
    {
     "data": {
      "text/plain": [
       "(87350, 13)"
      ]
     },
     "execution_count": 73,
     "metadata": {},
     "output_type": "execute_result"
    }
   ],
   "source": [
    "axdf.shape"
   ]
  },
  {
   "cell_type": "markdown",
   "id": "4dcfc032-b4c4-4260-9dd4-44744ba4400f",
   "metadata": {},
   "source": [
    "## I want to see if there are any significant over or under representations of particular shape sightings in any county. That is compare the percentage of a specific shape in a country compared to the total sightings of that shape worldwide."
   ]
  },
  {
   "cell_type": "code",
   "execution_count": 74,
   "id": "88e8f1ad-ab93-4e5f-a374-a361a80f48ec",
   "metadata": {},
   "outputs": [
    {
     "name": "stdout",
     "output_type": "stream",
     "text": [
      "country    Australia    Canada   Germany     India    Mexico  Netherlands  \\\n",
      "shape                                                                       \n",
      "angular     0.365224  0.077668  0.041505  0.013744 -0.118486     0.087297   \n",
      "changing   -0.168088 -0.373862 -0.079226 -0.131432 -0.025197    -0.033433   \n",
      "chevron    -0.484201 -0.191872 -0.074013 -0.173612  0.037836    -0.028220   \n",
      "crescent    0.000000  0.000000  0.000000  0.000000  0.000000     0.000000   \n",
      "cross       0.356483 -1.169819  0.000000  0.000000  0.878521     0.252008   \n",
      "cylinder    0.067811 -0.213841  0.075037 -0.037670  0.039317    -0.010249   \n",
      "diamond     0.068512  0.446888  0.136065  0.113985  0.047914     0.026819   \n",
      "dome        0.000000  0.000000  0.000000  0.000000  0.000000     0.000000   \n",
      "egg         0.684587 -0.369106 -0.051614 -0.151213  0.043834    -0.067020   \n",
      "formation   0.060004  0.128005  0.017852 -0.158493 -0.031926     0.178764   \n",
      "light      -0.060697  0.206720  0.021529 -0.023319 -0.039246     0.004749   \n",
      "other       0.075909  0.714847  0.004501  0.132101  0.078635    -0.014620   \n",
      "round       0.087862  0.070897 -0.002624  0.038920  0.095735    -0.007240   \n",
      "triangle   -0.077004 -0.474158 -0.059948  0.022955 -0.125287    -0.036969   \n",
      "unknown    -0.178875 -0.486655 -0.052947  0.012543 -0.075063     0.003852   \n",
      "\n",
      "country    United Kingdom  United States of America  \n",
      "shape                                                \n",
      "angular         -0.559188                  0.516064  \n",
      "changing        -0.015935                  0.819490  \n",
      "chevron         -1.401717                  2.935604  \n",
      "crescent         0.000000                 11.435604  \n",
      "cross            1.180792                 -0.731696  \n",
      "cylinder         0.144173                 -0.230407  \n",
      "diamond          1.339368                 -2.285326  \n",
      "dome             0.000000                 11.435604  \n",
      "egg              2.506239                 -2.701483  \n",
      "formation       -0.046997                  0.230692  \n",
      "light           -0.279777                  0.407055  \n",
      "other            0.114154                 -1.449823  \n",
      "round            0.471415                 -1.095901  \n",
      "triangle        -0.286992                  1.340931  \n",
      "unknown         -0.580410                  1.299130  \n"
     ]
    },
    {
     "data": {
      "image/png": "[encoded data removed]",
      "text/plain": [
       "<Figure size 1200x800 with 2 Axes>"
      ]
     },
     "metadata": {},
     "output_type": "display_data"
    }
   ],
   "source": [
    "# Count the number of sightings for each combination of shape and country\n",
    "shape_by_country_counts = axdf.groupby(['shape', 'country']).size().reset_index(name='combo_count')\n",
    "\n",
    "# Calculate the total global number of sightings for each shape and merge into shape_by_country_counts\n",
    "shape_counts = axdf['shape'].value_counts()\n",
    "shape_by_country_counts = shape_by_country_counts.merge(\n",
    "    shape_counts.rename('total_shape_count'),\n",
    "    left_on='shape',\n",
    "    right_index=True\n",
    ")\n",
    "\n",
    "# Get the percentage of sightings for each shape in a specific country relative to the total sightings of that shape.\n",
    "shape_by_country_counts['shape_pct'] = (\n",
    "    shape_by_country_counts['combo_count'] / shape_by_country_counts['total_shape_count']\n",
    ") * 100\n",
    "\n",
    "# Now I want to compare the ratio of sightings of a specific shape in a country against the countries total representation\n",
    "# To start I will get the total sightings for each country and merge with shape_by_country_counts\n",
    "country_counts = axdf['country'].value_counts()\n",
    "\n",
    "shape_by_country_counts = shape_by_country_counts.merge(\n",
    "    country_counts.rename('total_country_count'),\n",
    "    left_on='country',\n",
    "    right_index=True\n",
    ")\n",
    "\n",
    "# Get the percentage of total sightings for each country compared to total sightings\n",
    "shape_by_country_counts['Country_Pct_of_Total'] = (\n",
    "    shape_by_country_counts['total_country_count'] / axdf.shape[0]\n",
    ") * 100\n",
    "\n",
    "# Compare the percentages (shape-specific against overall country percentage)\n",
    "# A positive value indicate this shape is overrepresented in the country compared to the country's share of all sightings.\n",
    "# A negative value indicate this shape is underrepresented in the country compared to the country's share of all sightings.\n",
    "shape_by_country_counts['Shape_vs_Country_Trend'] = (\n",
    "    shape_by_country_counts['shape_pct'] - shape_by_country_counts['Country_Pct_of_Total']\n",
    ")\n",
    "\n",
    "# Filter to use countries with 100 or more sightings to get greater overall picture.\n",
    "valid_countries = country_counts[country_counts >= 100].index\n",
    "filtered_shape_country_counts = shape_by_country_counts[\n",
    "    shape_by_country_counts['country'].isin(valid_countries)\n",
    "]\n",
    "\n",
    "# Create a pivot table with filtered data\n",
    "filtered_pivot_table = filtered_shape_country_counts.pivot(\n",
    "    index='shape', \n",
    "    columns='country', \n",
    "    values='Shape_vs_Country_Trend'\n",
    ").fillna(0)\n",
    "\n",
    "# Display the filtered pivot table\n",
    "print(filtered_pivot_table)\n",
    "\n",
    "\n",
    "plt.figure(figsize=(12, 8))\n",
    "sns.heatmap(filtered_pivot_table, annot=True, cmap=\"coolwarm\", fmt=\".1f\", cbar=True)\n",
    "plt.title('Comparison of wankers Trends Across Countries (100+ sightings)')\n",
    "plt.xlabel('Country')\n",
    "plt.ylabel('Shape')\n",
    "plt.show()\n"
   ]
  },
  {
   "cell_type": "markdown",
   "id": "f79bf61a-aaef-47f2-a2b4-c68189b27786",
   "metadata": {
    "jp-MarkdownHeadingCollapsed": true
   },
   "source": [
    "## So no major discrepancies.\n",
    "## The huge positive trend in the USA with changed, crescent and dome shapes appear to be because it is the only country to have reported these particular occurences.\n",
    "## egg shapes appear more prevalent in the UK than they do the USA, but other than that it appears our alien friends are not that picky about vehicular selection based on the geograpy."
   ]
  },
  {
   "cell_type": "markdown",
   "id": "05fa97a8-12b7-4c97-92aa-ff953b60d31f",
   "metadata": {},
   "source": [
    "## I want to get the part of the day of the sighting. Morning, Afternoon, Night etc."
   ]
  },
  {
   "cell_type": "code",
   "execution_count": 75,
   "id": "1e663de0-f008-41fa-ba5b-2c899adea9a5",
   "metadata": {
    "scrolled": true
   },
   "outputs": [
    {
     "data": {
      "text/html": [
       "<div>\n",
       "<style scoped>\n",
       "    .dataframe tbody tr th:only-of-type {\n",
       "        vertical-align: middle;\n",
       "    }\n",
       "\n",
       "    .dataframe tbody tr th {\n",
       "        vertical-align: top;\n",
       "    }\n",
       "\n",
       "    .dataframe thead th {\n",
       "        text-align: right;\n",
       "    }\n",
       "</style>\n",
       "<table border=\"1\" class=\"dataframe\">\n",
       "  <thead>\n",
       "    <tr style=\"text-align: right;\">\n",
       "      <th></th>\n",
       "      <th>city</th>\n",
       "      <th>state</th>\n",
       "      <th>country</th>\n",
       "      <th>shape</th>\n",
       "      <th>latitude</th>\n",
       "      <th>longitude</th>\n",
       "      <th>date_observed</th>\n",
       "      <th>year_seen</th>\n",
       "      <th>month_seen</th>\n",
       "      <th>day_seen</th>\n",
       "      <th>hour_seen</th>\n",
       "      <th>hemisphere</th>\n",
       "      <th>season</th>\n",
       "      <th>time_of_day</th>\n",
       "    </tr>\n",
       "  </thead>\n",
       "  <tbody>\n",
       "    <tr>\n",
       "      <th>0</th>\n",
       "      <td>san marcos</td>\n",
       "      <td>TX</td>\n",
       "      <td>United States of America</td>\n",
       "      <td>cylinder</td>\n",
       "      <td>29.883056</td>\n",
       "      <td>-97.941111</td>\n",
       "      <td>1949-10-10 20:30:00</td>\n",
       "      <td>1949</td>\n",
       "      <td>10</td>\n",
       "      <td>10</td>\n",
       "      <td>20</td>\n",
       "      <td>North</td>\n",
       "      <td>Autumn</td>\n",
       "      <td>Evening</td>\n",
       "    </tr>\n",
       "    <tr>\n",
       "      <th>1</th>\n",
       "      <td>lackland afb</td>\n",
       "      <td>TX</td>\n",
       "      <td>United States of America</td>\n",
       "      <td>light</td>\n",
       "      <td>29.384210</td>\n",
       "      <td>-98.581082</td>\n",
       "      <td>1949-10-10 21:00:00</td>\n",
       "      <td>1949</td>\n",
       "      <td>10</td>\n",
       "      <td>10</td>\n",
       "      <td>21</td>\n",
       "      <td>North</td>\n",
       "      <td>Autumn</td>\n",
       "      <td>Evening</td>\n",
       "    </tr>\n",
       "    <tr>\n",
       "      <th>2</th>\n",
       "      <td>chester (uk/england)</td>\n",
       "      <td></td>\n",
       "      <td>United Kingdom</td>\n",
       "      <td>round</td>\n",
       "      <td>53.200000</td>\n",
       "      <td>-2.916667</td>\n",
       "      <td>1955-10-10 17:00:00</td>\n",
       "      <td>1955</td>\n",
       "      <td>10</td>\n",
       "      <td>10</td>\n",
       "      <td>17</td>\n",
       "      <td>North</td>\n",
       "      <td>Autumn</td>\n",
       "      <td>Evening</td>\n",
       "    </tr>\n",
       "    <tr>\n",
       "      <th>3</th>\n",
       "      <td>edna</td>\n",
       "      <td>TX</td>\n",
       "      <td>United States of America</td>\n",
       "      <td>round</td>\n",
       "      <td>28.978333</td>\n",
       "      <td>-96.645833</td>\n",
       "      <td>1956-10-10 21:00:00</td>\n",
       "      <td>1956</td>\n",
       "      <td>10</td>\n",
       "      <td>10</td>\n",
       "      <td>21</td>\n",
       "      <td>North</td>\n",
       "      <td>Autumn</td>\n",
       "      <td>Evening</td>\n",
       "    </tr>\n",
       "    <tr>\n",
       "      <th>4</th>\n",
       "      <td>kaneohe</td>\n",
       "      <td>HI</td>\n",
       "      <td>United States of America</td>\n",
       "      <td>light</td>\n",
       "      <td>21.418056</td>\n",
       "      <td>-157.803611</td>\n",
       "      <td>1960-10-10 20:00:00</td>\n",
       "      <td>1960</td>\n",
       "      <td>10</td>\n",
       "      <td>10</td>\n",
       "      <td>20</td>\n",
       "      <td>North</td>\n",
       "      <td>Autumn</td>\n",
       "      <td>Evening</td>\n",
       "    </tr>\n",
       "    <tr>\n",
       "      <th>5</th>\n",
       "      <td>bristol</td>\n",
       "      <td>TN</td>\n",
       "      <td>United States of America</td>\n",
       "      <td>round</td>\n",
       "      <td>36.595000</td>\n",
       "      <td>-82.188889</td>\n",
       "      <td>1961-10-10 19:00:00</td>\n",
       "      <td>1961</td>\n",
       "      <td>10</td>\n",
       "      <td>10</td>\n",
       "      <td>19</td>\n",
       "      <td>North</td>\n",
       "      <td>Autumn</td>\n",
       "      <td>Evening</td>\n",
       "    </tr>\n",
       "    <tr>\n",
       "      <th>6</th>\n",
       "      <td>penarth (uk/wales)</td>\n",
       "      <td></td>\n",
       "      <td>United Kingdom</td>\n",
       "      <td>round</td>\n",
       "      <td>51.434722</td>\n",
       "      <td>-3.180000</td>\n",
       "      <td>1965-10-10 21:00:00</td>\n",
       "      <td>1965</td>\n",
       "      <td>10</td>\n",
       "      <td>10</td>\n",
       "      <td>21</td>\n",
       "      <td>North</td>\n",
       "      <td>Autumn</td>\n",
       "      <td>Evening</td>\n",
       "    </tr>\n",
       "    <tr>\n",
       "      <th>7</th>\n",
       "      <td>norwalk</td>\n",
       "      <td>CT</td>\n",
       "      <td>United States of America</td>\n",
       "      <td>round</td>\n",
       "      <td>41.117500</td>\n",
       "      <td>-73.408333</td>\n",
       "      <td>1965-10-10 23:45:00</td>\n",
       "      <td>1965</td>\n",
       "      <td>10</td>\n",
       "      <td>10</td>\n",
       "      <td>23</td>\n",
       "      <td>North</td>\n",
       "      <td>Autumn</td>\n",
       "      <td>Night</td>\n",
       "    </tr>\n",
       "    <tr>\n",
       "      <th>8</th>\n",
       "      <td>pell city</td>\n",
       "      <td>AL</td>\n",
       "      <td>United States of America</td>\n",
       "      <td>round</td>\n",
       "      <td>33.586111</td>\n",
       "      <td>-86.286111</td>\n",
       "      <td>1966-10-10 20:00:00</td>\n",
       "      <td>1966</td>\n",
       "      <td>10</td>\n",
       "      <td>10</td>\n",
       "      <td>20</td>\n",
       "      <td>North</td>\n",
       "      <td>Autumn</td>\n",
       "      <td>Evening</td>\n",
       "    </tr>\n",
       "    <tr>\n",
       "      <th>9</th>\n",
       "      <td>live oak</td>\n",
       "      <td>FL</td>\n",
       "      <td>United States of America</td>\n",
       "      <td>round</td>\n",
       "      <td>30.294722</td>\n",
       "      <td>-82.984167</td>\n",
       "      <td>1966-10-10 21:00:00</td>\n",
       "      <td>1966</td>\n",
       "      <td>10</td>\n",
       "      <td>10</td>\n",
       "      <td>21</td>\n",
       "      <td>North</td>\n",
       "      <td>Autumn</td>\n",
       "      <td>Evening</td>\n",
       "    </tr>\n",
       "  </tbody>\n",
       "</table>\n",
       "</div>"
      ],
      "text/plain": [
       "                   city state                   country     shape   latitude  \\\n",
       "0            san marcos    TX  United States of America  cylinder  29.883056   \n",
       "1          lackland afb    TX  United States of America     light  29.384210   \n",
       "2  chester (uk/england)                  United Kingdom     round  53.200000   \n",
       "3                  edna    TX  United States of America     round  28.978333   \n",
       "4               kaneohe    HI  United States of America     light  21.418056   \n",
       "5               bristol    TN  United States of America     round  36.595000   \n",
       "6    penarth (uk/wales)                  United Kingdom     round  51.434722   \n",
       "7               norwalk    CT  United States of America     round  41.117500   \n",
       "8             pell city    AL  United States of America     round  33.586111   \n",
       "9              live oak    FL  United States of America     round  30.294722   \n",
       "\n",
       "    longitude       date_observed  year_seen  month_seen  day_seen  hour_seen  \\\n",
       "0  -97.941111 1949-10-10 20:30:00       1949          10        10         20   \n",
       "1  -98.581082 1949-10-10 21:00:00       1949          10        10         21   \n",
       "2   -2.916667 1955-10-10 17:00:00       1955          10        10         17   \n",
       "3  -96.645833 1956-10-10 21:00:00       1956          10        10         21   \n",
       "4 -157.803611 1960-10-10 20:00:00       1960          10        10         20   \n",
       "5  -82.188889 1961-10-10 19:00:00       1961          10        10         19   \n",
       "6   -3.180000 1965-10-10 21:00:00       1965          10        10         21   \n",
       "7  -73.408333 1965-10-10 23:45:00       1965          10        10         23   \n",
       "8  -86.286111 1966-10-10 20:00:00       1966          10        10         20   \n",
       "9  -82.984167 1966-10-10 21:00:00       1966          10        10         21   \n",
       "\n",
       "  hemisphere  season time_of_day  \n",
       "0      North  Autumn     Evening  \n",
       "1      North  Autumn     Evening  \n",
       "2      North  Autumn     Evening  \n",
       "3      North  Autumn     Evening  \n",
       "4      North  Autumn     Evening  \n",
       "5      North  Autumn     Evening  \n",
       "6      North  Autumn     Evening  \n",
       "7      North  Autumn       Night  \n",
       "8      North  Autumn     Evening  \n",
       "9      North  Autumn     Evening  "
      ]
     },
     "execution_count": 75,
     "metadata": {},
     "output_type": "execute_result"
    }
   ],
   "source": [
    "# Define conditions for each time of day\n",
    "hour = [\n",
    "    (axdf['hour_seen'] >= 22) | (axdf['hour_seen'] < 5),  # Night: 22–23 and 0–4\n",
    "    (axdf['hour_seen'] >= 5) & (axdf['hour_seen'] < 8),  # Dawn: 5–7\n",
    "    (axdf['hour_seen'] >= 8) & (axdf['hour_seen'] < 12),  # Morning: 8–11\n",
    "    (axdf['hour_seen'] >= 12) & (axdf['hour_seen'] < 17), # Afternoon: 12–16\n",
    "    (axdf['hour_seen'] >= 17) & (axdf['hour_seen'] < 22)  # Evening/Dusk: 17–21\n",
    "]\n",
    "\n",
    "# Define corresponding labels\n",
    "labels = ['Night', 'Dawn', 'Morning', 'Afternoon', 'Evening']\n",
    "\n",
    "# Assign the labels based on the conditions\n",
    "axdf['time_of_day'] = np.select(hour, labels, default='Unknown')\n",
    "axdf.head(10)"
   ]
  },
  {
   "cell_type": "code",
   "execution_count": 76,
   "id": "8f90b602-32cd-4225-9cc3-b390c0b65531",
   "metadata": {},
   "outputs": [
    {
     "data": {
      "text/html": [
       "<div>\n",
       "<style scoped>\n",
       "    .dataframe tbody tr th:only-of-type {\n",
       "        vertical-align: middle;\n",
       "    }\n",
       "\n",
       "    .dataframe tbody tr th {\n",
       "        vertical-align: top;\n",
       "    }\n",
       "\n",
       "    .dataframe thead th {\n",
       "        text-align: right;\n",
       "    }\n",
       "</style>\n",
       "<table border=\"1\" class=\"dataframe\">\n",
       "  <thead>\n",
       "    <tr style=\"text-align: right;\">\n",
       "      <th></th>\n",
       "      <th>city</th>\n",
       "      <th>state</th>\n",
       "      <th>country</th>\n",
       "      <th>shape</th>\n",
       "      <th>latitude</th>\n",
       "      <th>longitude</th>\n",
       "      <th>date_observed</th>\n",
       "      <th>year_seen</th>\n",
       "      <th>month_seen</th>\n",
       "      <th>day_seen</th>\n",
       "      <th>hour_seen</th>\n",
       "      <th>hemisphere</th>\n",
       "      <th>season</th>\n",
       "      <th>time_of_day</th>\n",
       "    </tr>\n",
       "  </thead>\n",
       "  <tbody>\n",
       "    <tr>\n",
       "      <th>0</th>\n",
       "      <td>san marcos</td>\n",
       "      <td>TX</td>\n",
       "      <td>United States of America</td>\n",
       "      <td>cylinder</td>\n",
       "      <td>29.883056</td>\n",
       "      <td>-97.941111</td>\n",
       "      <td>1949-10-10 20:30:00</td>\n",
       "      <td>1949</td>\n",
       "      <td>10</td>\n",
       "      <td>10</td>\n",
       "      <td>20</td>\n",
       "      <td>North</td>\n",
       "      <td>Autumn</td>\n",
       "      <td>Evening</td>\n",
       "    </tr>\n",
       "    <tr>\n",
       "      <th>1</th>\n",
       "      <td>lackland afb</td>\n",
       "      <td>TX</td>\n",
       "      <td>United States of America</td>\n",
       "      <td>light</td>\n",
       "      <td>29.384210</td>\n",
       "      <td>-98.581082</td>\n",
       "      <td>1949-10-10 21:00:00</td>\n",
       "      <td>1949</td>\n",
       "      <td>10</td>\n",
       "      <td>10</td>\n",
       "      <td>21</td>\n",
       "      <td>North</td>\n",
       "      <td>Autumn</td>\n",
       "      <td>Evening</td>\n",
       "    </tr>\n",
       "    <tr>\n",
       "      <th>2</th>\n",
       "      <td>chester (uk/england)</td>\n",
       "      <td></td>\n",
       "      <td>United Kingdom</td>\n",
       "      <td>round</td>\n",
       "      <td>53.200000</td>\n",
       "      <td>-2.916667</td>\n",
       "      <td>1955-10-10 17:00:00</td>\n",
       "      <td>1955</td>\n",
       "      <td>10</td>\n",
       "      <td>10</td>\n",
       "      <td>17</td>\n",
       "      <td>North</td>\n",
       "      <td>Autumn</td>\n",
       "      <td>Evening</td>\n",
       "    </tr>\n",
       "    <tr>\n",
       "      <th>3</th>\n",
       "      <td>edna</td>\n",
       "      <td>TX</td>\n",
       "      <td>United States of America</td>\n",
       "      <td>round</td>\n",
       "      <td>28.978333</td>\n",
       "      <td>-96.645833</td>\n",
       "      <td>1956-10-10 21:00:00</td>\n",
       "      <td>1956</td>\n",
       "      <td>10</td>\n",
       "      <td>10</td>\n",
       "      <td>21</td>\n",
       "      <td>North</td>\n",
       "      <td>Autumn</td>\n",
       "      <td>Evening</td>\n",
       "    </tr>\n",
       "    <tr>\n",
       "      <th>4</th>\n",
       "      <td>kaneohe</td>\n",
       "      <td>HI</td>\n",
       "      <td>United States of America</td>\n",
       "      <td>light</td>\n",
       "      <td>21.418056</td>\n",
       "      <td>-157.803611</td>\n",
       "      <td>1960-10-10 20:00:00</td>\n",
       "      <td>1960</td>\n",
       "      <td>10</td>\n",
       "      <td>10</td>\n",
       "      <td>20</td>\n",
       "      <td>North</td>\n",
       "      <td>Autumn</td>\n",
       "      <td>Evening</td>\n",
       "    </tr>\n",
       "  </tbody>\n",
       "</table>\n",
       "</div>"
      ],
      "text/plain": [
       "                   city state                   country     shape   latitude  \\\n",
       "0            san marcos    TX  United States of America  cylinder  29.883056   \n",
       "1          lackland afb    TX  United States of America     light  29.384210   \n",
       "2  chester (uk/england)                  United Kingdom     round  53.200000   \n",
       "3                  edna    TX  United States of America     round  28.978333   \n",
       "4               kaneohe    HI  United States of America     light  21.418056   \n",
       "\n",
       "    longitude       date_observed  year_seen  month_seen  day_seen  hour_seen  \\\n",
       "0  -97.941111 1949-10-10 20:30:00       1949          10        10         20   \n",
       "1  -98.581082 1949-10-10 21:00:00       1949          10        10         21   \n",
       "2   -2.916667 1955-10-10 17:00:00       1955          10        10         17   \n",
       "3  -96.645833 1956-10-10 21:00:00       1956          10        10         21   \n",
       "4 -157.803611 1960-10-10 20:00:00       1960          10        10         20   \n",
       "\n",
       "  hemisphere  season time_of_day  \n",
       "0      North  Autumn     Evening  \n",
       "1      North  Autumn     Evening  \n",
       "2      North  Autumn     Evening  \n",
       "3      North  Autumn     Evening  \n",
       "4      North  Autumn     Evening  "
      ]
     },
     "execution_count": 76,
     "metadata": {},
     "output_type": "execute_result"
    }
   ],
   "source": [
    "select_country_df = axdf[axdf['country'].isin(['United States of America', 'United Kingdom', 'Canada', 'India', 'Brazil', 'Australia', 'Mexico', 'New Zealand', 'Netherlands'])]\n",
    "    \n",
    "day_part_counts = select_country_df.groupby(['country', 'time_of_day']).size().reset_index(name='count')\n",
    "\n",
    "# Calculate total sightings for each country\n",
    "country_totals = axdf['country'].value_counts()\n",
    "\n",
    "# Merge totals back into the grouped DataFrame\n",
    "day_part_counts = day_part_counts.merge(country_totals.rename('total'), left_on='country', right_index=True)\n",
    "\n",
    "# Calculate percentage of the part of the day\n",
    "day_part_counts['percentage'] = (day_part_counts['count'] / day_part_counts['total']) * 100\n",
    "#day_part_counts.head()\n",
    "# Going to convert this into a categorical type\n",
    "time_order = ['Night', 'Dawn', 'Morning', 'Afternoon', 'Evening']\n",
    "\n",
    "# Create a pivot table for counts of sightings by country and time of day\n",
    "select_country_df['time_of_day'] = pd.Categorical(select_country_df['time_of_day'], categories=time_order, ordered=True)\n",
    "# Pivot table for better visualization\n",
    "pivot_table = day_part_counts.pivot(index='country', columns='time_of_day', values='percentage').fillna(0)\n",
    "pivot_table = pivot_table[time_order]\n",
    "select_country_df.head()\n"
   ]
  },
  {
   "cell_type": "markdown",
   "id": "a2df557d-c414-4cc0-a0b7-89ec8af6fed2",
   "metadata": {},
   "source": [
    "## Now get the proportion each part of the day accounts for all sightings in the most active countries."
   ]
  },
  {
   "cell_type": "code",
   "execution_count": 77,
   "id": "d1bf2db9-8bbc-4b4d-a542-388b3dcec057",
   "metadata": {},
   "outputs": [
    {
     "data": {
      "image/png": "[encoded data removed]",
      "text/plain": [
       "<Figure size 1200x800 with 1 Axes>"
      ]
     },
     "metadata": {},
     "output_type": "display_data"
    }
   ],
   "source": [
    "select_country_df = axdf[axdf['country'].isin(['United States of America', 'United Kingdom', 'Canada', 'India', 'Brazil', 'Australia', 'Mexico', 'New Zealand', 'Netherlands'])]\n",
    "    \n",
    "day_part_counts = select_country_df.groupby(['country', 'time_of_day']).size().reset_index(name='count')\n",
    "\n",
    "# Calculate total sightings for each country\n",
    "country_totals = axdf['country'].value_counts()\n",
    "\n",
    "# Merge totals back into the grouped DataFrame\n",
    "day_part_counts = day_part_counts.merge(country_totals.rename('total'), left_on='country', right_index=True)\n",
    "\n",
    "# Calculate percentage of the part of the day\n",
    "day_part_counts['percentage'] = (day_part_counts['count'] / day_part_counts['total']) * 100\n",
    "#day_part_counts.head()\n",
    "# Going to convert this into a categorical type\n",
    "time_order = ['Night', 'Dawn', 'Morning', 'Afternoon', 'Evening']\n",
    "\n",
    "# Create a pivot table for counts of sightings by country and time of day\n",
    "#select_country_df['time_of_day'] = pd.Categorical(select_country_df['time_of_day'], categories=time_order, ordered=True)\n",
    "# Pivot table for better visualization\n",
    "pivot_table = day_part_counts.pivot(index='country', columns='time_of_day', values='percentage').fillna(0)\n",
    "pivot_table = pivot_table[time_order]\n",
    "\n",
    "\n",
    "# Plot a stacked bar chart\n",
    "pivot_table.plot(kind='bar', stacked=True, figsize=(12, 8), colormap='viridis')\n",
    "plt.ylabel('Percentage of Sightings')\n",
    "plt.xlabel('Country')\n",
    "plt.title('Percentage of Sightings by Time of Day for Each Country')\n",
    "plt.legend(title='Time of Day', bbox_to_anchor=(1.05, 1), loc='upper left')\n",
    "plt.tight_layout()\n",
    "#plt.show()"
   ]
  },
  {
   "cell_type": "markdown",
   "id": "3a44799d-2ee8-43ba-80f8-1e0aff2fdd51",
   "metadata": {},
   "source": [
    "## So the evening and night time the most prosperous. Perhaps unsurprising as bright objects in the sky would be more visible."
   ]
  },
  {
   "cell_type": "markdown",
   "id": "28869188-cb94-453d-9cae-b6222bef974f",
   "metadata": {},
   "source": [
    "## Lets look at how the annual number of sightings changes over the years."
   ]
  },
  {
   "cell_type": "code",
   "execution_count": 78,
   "id": "4a0cc43e-4ae8-40c0-88d8-cb016949a874",
   "metadata": {},
   "outputs": [
    {
     "data": {
      "image/png": "[encoded data removed]",
      "text/plain": [
       "<Figure size 1000x600 with 1 Axes>"
      ]
     },
     "metadata": {},
     "output_type": "display_data"
    }
   ],
   "source": [
    "\n",
    "yearly_sightings = axdf['year_seen'].value_counts()\n",
    "\n",
    "sns.set(style=\"whitegrid\")\n",
    "\n",
    "plt.figure(figsize=(10, 6))\n",
    "sns.lineplot(yearly_sightings, marker='o', color='dodgerblue')\n",
    "\n",
    "# Set x-axis to display every 10 years\n",
    "plt.xticks(ticks=range(yearly_sightings.index.min(), yearly_sightings.index.max() + 1, 10))\n",
    "plt.xticks(rotation = 60)\n",
    "\n",
    "plt.xlabel('Year', fontsize=14)\n",
    "plt.ylabel('Number of Sightings', fontsize=14)\n",
    "plt.title('Number of UFO Sightings per Year', fontsize=16)\n",
    "\n",
    "plt.show()"
   ]
  },
  {
   "cell_type": "markdown",
   "id": "78d6e78c-9fae-4bd8-8242-464fb7d195b5",
   "metadata": {},
   "source": [
    "## Things seem pretty stable, a slight increase over the years, up until the mid 90's where it really starts to heat up.  \n",
    "### This may be because:  \n",
    "  -  reporting sightings became easier with access to the Internet and portable technology\n",
    "  -  people's perception especially with media coverage and just taking time to observe whats going on.\n",
    "  - More secret or classified military exercises and overflights are occurring over populated areas\n",
    "  - Just more aliens paying a visit.\n",
    "\n",
    "## Because things seem like a slow steady rise for the most part I'm going to focus on sightings from the 90's onwards."
   ]
  },
  {
   "cell_type": "code",
   "execution_count": 79,
   "id": "d44df998-48b5-466a-882e-1d4bf1ecf2f9",
   "metadata": {
    "scrolled": true
   },
   "outputs": [
    {
     "data": {
      "image/png": "[encoded data removed]",
      "text/plain": [
       "<Figure size 1000x600 with 1 Axes>"
      ]
     },
     "metadata": {},
     "output_type": "display_data"
    }
   ],
   "source": [
    "post90_df = axdf[axdf['year_seen'] >= 1990]\n",
    "\n",
    "# Count sightings per year\n",
    "sightings_per_year = post90_df['year_seen'].value_counts().reset_index()\n",
    "sightings_per_year.columns = ['Year', 'Count']\n",
    "sightings_per_year = sightings_per_year.sort_values('Year')\n",
    "\n",
    "plt.figure(figsize=(10, 6))\n",
    "sns.barplot(data=sightings_per_year, x='Year', y='Count', palette='coolwarm')\n",
    "\n",
    "plt.xlabel('Year', fontsize=14)\n",
    "plt.ylabel('Number of Sightings', fontsize=14)\n",
    "plt.title('UFO Sightings per Year (1990 onwards)', fontsize=16)\n",
    "plt.xticks(rotation=45)  # Rotate x-axis labels for better readability\n",
    "plt.show()"
   ]
  },
  {
   "cell_type": "code",
   "execution_count": 80,
   "id": "4df001a8-96da-49df-816a-d0195d2c1e8c",
   "metadata": {},
   "outputs": [
    {
     "name": "stdout",
     "output_type": "stream",
     "text": [
      "eggy bacurp\n"
     ]
    }
   ],
   "source": [
    "print('eggy bacurp')"
   ]
  },
  {
   "cell_type": "markdown",
   "id": "91a99179-70c5-4435-b460-5912f9d663d9",
   "metadata": {},
   "source": [
    "## Something of a spike in 1995 (maybe something to do with a few alien based films coming out that year). Then steadily rising until a sharp spike in 2012 which was of course the end of the world, except it wasn't because the next year was also pretty high. Still a certain degree of paranoia may have set in."
   ]
  },
  {
   "cell_type": "markdown",
   "id": "d3998bac-4411-4e22-aec3-090d0dda4ff2",
   "metadata": {},
   "source": [
    "## Let me focus briefly on the more prolific countries outside the U.S."
   ]
  },
  {
   "cell_type": "code",
   "execution_count": 81,
   "id": "50a37170-93cc-4a55-9ff1-7e08321ebb77",
   "metadata": {
    "scrolled": true
   },
   "outputs": [
    {
     "data": {
      "image/png": "[encoded data removed]",
      "text/plain": [
       "<Figure size 1000x800 with 1 Axes>"
      ]
     },
     "metadata": {},
     "output_type": "display_data"
    }
   ],
   "source": [
    "countries = ['United Kingdom', 'Canada', 'India', 'Brazil', 'Australia', 'Mexico', 'New Zealand', 'Netherlands']\n",
    "post90_df = axdf[axdf['year_seen'] >= 1990]\n",
    "yearly_sightings = post90_df['year_seen'].value_counts()\n",
    "sns.set(style=\"whitegrid\")\n",
    "\n",
    "plt.figure(figsize=(10, 8))\n",
    "\n",
    "for i in range(len(countries)):\n",
    "    ufo_country = post90_df[post90_df['country'] == countries[i]]\n",
    "    ufo_per_year_country = ufo_country['year_seen'].value_counts().sort_index()\n",
    "    sns.lineplot(x = ufo_per_year_country.index, y = ufo_per_year_country.values, label = countries[i])\n",
    "\n",
    "# Set x-axis to display every 10 years\n",
    "plt.xticks(ticks=range(1990, yearly_sightings.index.max() + 1, 10))\n",
    "plt.xticks(rotation = 60)\n",
    "\n",
    "plt.xlabel('Year', fontsize=14)\n",
    "plt.ylabel('Number of Sightings', fontsize=14)\n",
    "plt.title('Number of UFO Sightings per Year', fontsize=16)\n",
    "\n",
    "plt.show()"
   ]
  },
  {
   "cell_type": "markdown",
   "id": "dbb3f230-ef1c-4eab-ac67-28ebfd246dba",
   "metadata": {},
   "source": [
    "## The trends are pretty much the same apart from Canada which had a  spike in 2002 and 2012. <br>  See https://ufobc.ca/Reports/banneryear.htm <br> and the U.K in 2008 <br> see https://www.upi.com/Top_News/2008/08/09/UFO-sightings-at-peak-in-Britain/21751218298699/."
   ]
  },
  {
   "cell_type": "markdown",
   "id": "c3b21544-f7a2-4582-8f3d-5a8f79c38905",
   "metadata": {},
   "source": [
    "## Lets take a look at the geographical distribution."
   ]
  },
  {
   "cell_type": "code",
   "execution_count": 82,
   "id": "7112b35d-833a-4b85-b9c1-53b675c3b9fa",
   "metadata": {},
   "outputs": [
    {
     "data": {
      "image/png": "[encoded data removed]",
      "text/plain": [
       "<Figure size 1200x800 with 1 Axes>"
      ]
     },
     "metadata": {},
     "output_type": "display_data"
    }
   ],
   "source": [
    "sightings_by_country = axdf['country'].value_counts().head(10)\n",
    "\n",
    "plt.figure(figsize=(12, 8))\n",
    "sightings_by_country.plot(kind='barh', color='skyblue')\n",
    "plt.xlabel('Number of Sightings')\n",
    "plt.ylabel('Country')\n",
    "plt.title('UFO Sightings by Country')\n",
    "plt.gca().invert_yaxis()  # Optional: makes the countries with more sightings appear on top\n",
    "plt.show()"
   ]
  },
  {
   "cell_type": "markdown",
   "id": "07afbe10-ac56-43d0-bf91-fff5c7902356",
   "metadata": {},
   "source": [
    "## So no surprise the USA has by far and away the most sightings, bloody freaks, athough it may be that this data comes from NUFORC which is based in Washington state. So I'm going to take a look at countries outside the top 5 (U.S.A., Canada, U.K., Australia, India)."
   ]
  },
  {
   "cell_type": "code",
   "execution_count": 83,
   "id": "36eb31d9-bc02-4ae5-8815-7152931172ac",
   "metadata": {},
   "outputs": [
    {
     "data": {
      "image/png": "[encoded data removed]",
      "text/plain": [
       "<Figure size 1200x800 with 1 Axes>"
      ]
     },
     "metadata": {},
     "output_type": "display_data"
    }
   ],
   "source": [
    "sightings_by_country = axdf['country'].value_counts()\n",
    "sightings_slice = sightings_by_country.iloc[5:30]\n",
    "\n",
    "plt.figure(figsize=(12, 8))\n",
    "sightings_slice.plot(kind='bar', color='skyblue')\n",
    "plt.xlabel('Number of Sightings')\n",
    "plt.ylabel('Country')\n",
    "plt.title('UFO Sightings by Country')\n",
    "plt.xticks(rotation=45) \n",
    "#plt.gca().invert_yaxis()  # Optional: makes the countries with more sightings appear on top\n",
    "plt.show()"
   ]
  },
  {
   "cell_type": "markdown",
   "id": "f2279224-730a-4324-badf-715d5fd083f5",
   "metadata": {},
   "source": [
    "## So an eclectic mix of countries visitied by aliens."
   ]
  },
  {
   "cell_type": "markdown",
   "id": "824666dc-f416-4968-b2aa-076f3327bfc8",
   "metadata": {},
   "source": [
    "## I want to see in any specific shapes had dominance at any particular time. This will show the ratio each shape had over the years. 0 means no presence and 1 means thats all there was."
   ]
  },
  {
   "cell_type": "code",
   "execution_count": 84,
   "id": "b6a005bd-bbe8-4fec-bd56-f24d309e246c",
   "metadata": {},
   "outputs": [
    {
     "ename": "NameError",
     "evalue": "name 'shape_year_counts' is not defined",
     "output_type": "error",
     "traceback": [
      "\u001b[1;31m---------------------------------------------------------------------------\u001b[0m",
      "\u001b[1;31mNameError\u001b[0m                                 Traceback (most recent call last)",
      "Cell \u001b[1;32mIn[84], line 9\u001b[0m\n\u001b[0;32m      6\u001b[0m complete_index \u001b[38;5;241m=\u001b[39m pd\u001b[38;5;241m.\u001b[39mMultiIndex\u001b[38;5;241m.\u001b[39mfrom_product([all_shapes, all_years], names\u001b[38;5;241m=\u001b[39m[\u001b[38;5;124m'\u001b[39m\u001b[38;5;124mshape\u001b[39m\u001b[38;5;124m'\u001b[39m, \u001b[38;5;124m'\u001b[39m\u001b[38;5;124myear_seen\u001b[39m\u001b[38;5;124m'\u001b[39m])\n\u001b[0;32m      8\u001b[0m \u001b[38;5;66;03m# Going to reindex shape_year_counts to include all combinations, filling missing values with 0 and have index values as columns.\u001b[39;00m\n\u001b[1;32m----> 9\u001b[0m shape_year_counts \u001b[38;5;241m=\u001b[39m \u001b[43mshape_year_counts\u001b[49m\u001b[38;5;241m.\u001b[39mset_index([\u001b[38;5;124m'\u001b[39m\u001b[38;5;124mshape\u001b[39m\u001b[38;5;124m'\u001b[39m, \u001b[38;5;124m'\u001b[39m\u001b[38;5;124myear_seen\u001b[39m\u001b[38;5;124m'\u001b[39m])\n\u001b[0;32m     10\u001b[0m shape_year_counts \u001b[38;5;241m=\u001b[39m shape_year_counts\u001b[38;5;241m.\u001b[39mreindex(complete_index, fill_value\u001b[38;5;241m=\u001b[39m\u001b[38;5;241m0\u001b[39m)\u001b[38;5;241m.\u001b[39mreset_index()\n\u001b[0;32m     12\u001b[0m \u001b[38;5;66;03m# Rename columns appropriately\u001b[39;00m\n\u001b[0;32m     13\u001b[0m \u001b[38;5;66;03m#shape_year_counts.rename(columns={0: 'shape', 1: 'year_seen', 2: 'shape_count'}, inplace=True)\u001b[39;00m\n\u001b[0;32m     14\u001b[0m \n\u001b[0;32m     15\u001b[0m \u001b[38;5;66;03m# Drop the 'total_count' column from shape_year_counts if it exists to avoid duplication error.\u001b[39;00m\n",
      "\u001b[1;31mNameError\u001b[0m: name 'shape_year_counts' is not defined"
     ]
    }
   ],
   "source": [
    "# Get all unique shapes and years\n",
    "all_shapes = axdf['shape'].unique()\n",
    "all_years = axdf['year_seen'].unique()\n",
    "\n",
    "# Create a cartesian join of shapes and years to get all possible combinations. This is so that I can correctly display missing values with 0.\n",
    "complete_index = pd.MultiIndex.from_product([all_shapes, all_years], names=['shape', 'year_seen'])\n",
    "\n",
    "# Going to reindex shape_year_counts to include all combinations, filling missing values with 0 and have index values as columns.\n",
    "shape_year_counts = shape_year_counts.set_index(['shape', 'year_seen'])\n",
    "shape_year_counts = shape_year_counts.reindex(complete_index, fill_value=0).reset_index()\n",
    "\n",
    "# Rename columns appropriately\n",
    "#shape_year_counts.rename(columns={0: 'shape', 1: 'year_seen', 2: 'shape_count'}, inplace=True)\n",
    "\n",
    "# Drop the 'total_count' column from shape_year_counts if it exists to avoid duplication error.\n",
    "if 'total_count' in shape_year_counts.columns:\n",
    "    shape_year_counts = shape_year_counts.drop(columns=['total_count'])\n",
    "\n",
    "\n",
    "# Ensure total_count is correctly merged\n",
    "shape_year_counts = shape_year_counts.merge(yearly_counts, on='year_seen', how='left')\n",
    "\n",
    "# Handle missing total_count values by filling with a zero.\n",
    "shape_year_counts['total_count'].fillna(0, inplace=True)\n",
    "\n",
    "# Recalculate proportions (handle division by zero by replacing NaN with 0)\n",
    "shape_year_counts['proportion'] = shape_year_counts['shape_count'] / shape_year_counts['total_count']\n",
    "shape_year_counts['proportion'].fillna(0, inplace=True)\n",
    "\n",
    "plt.figure(figsize=(20, 8))\n",
    "sns.lineplot(data=shape_year_counts, x='year_seen', y='proportion', hue='shape')\n",
    "\n",
    "years = sorted(shape_year_counts['year_seen'].unique())\n",
    "plt.xticks(ticks=years[::5], rotation=45)\n",
    "\n",
    "plt.xlabel('Year')\n",
    "plt.ylabel('Proportion of Sightings')\n",
    "plt.title('Proportion of Sightings by Shape Over the Years')\n",
    "plt.legend(title='Shape', bbox_to_anchor=(1.05, 1), loc='upper left')\n",
    "plt.tight_layout()\n",
    "plt.show()\n"
   ]
  },
  {
   "cell_type": "markdown",
   "id": "80a4c9c4-5f3c-451a-b67f-a2ad217d0183",
   "metadata": {},
   "source": [
    "## A little difficult to make out but in the early years, with fewer sightings, there were years when only one shape had been observed. Around the early 50's it seems to settle into a general mish-mash apart from an erratic 'round' shape and a huge spike for 'unknown' in 1997? A few shapes seem to be more popular than the others though."
   ]
  },
  {
   "cell_type": "code",
   "execution_count": null,
   "id": "2b0dddc9-13fd-4f24-bdf4-f9107c800418",
   "metadata": {},
   "outputs": [],
   "source": [
    "shapes = axdf['shape'].value_counts().head(10)\n",
    "\n",
    "# Plot bar chart\n",
    "plt.figure(figsize=(12, 8))\n",
    "shapes.plot(kind='barh', color='skyblue')\n",
    "plt.xlabel('Shape count')\n",
    "plt.ylabel('Shape')\n",
    "plt.title('Shape counts')\n",
    "plt.gca().invert_yaxis() \n",
    "plt.show()"
   ]
  },
  {
   "cell_type": "markdown",
   "id": "7eb88207-7915-425a-95e6-7f7f7649042b",
   "metadata": {},
   "source": [
    "## Looks like 'light' and 'round' are the two most observed shapes. A 'light' shape could of course be any shape if it was at too great a distance to make out any detail. And 'round' is the conventional shape I suppose. If those cartoons are to be believed anyway."
   ]
  },
  {
   "cell_type": "markdown",
   "id": "b43b46d9-0efa-428b-a32f-a25f0370da0c",
   "metadata": {},
   "source": [
    "## lets see when these shapes were first observed."
   ]
  },
  {
   "cell_type": "code",
   "execution_count": null,
   "id": "a1e18b22-9510-4c3d-a4a9-d4c3d36e6834",
   "metadata": {},
   "outputs": [],
   "source": [
    "#import matplotlib.pyplot as plt  # Re-importing to reset shadowed plt.grid\n",
    "\n",
    "\n",
    "first_occurrence = axdf.groupby('shape')['year_seen'].min().reset_index()\n",
    "first_occurrence.columns = ['shape', 'first_year']\n",
    "\n",
    "first_occurrence = first_occurrence.sort_values(by='first_year')  # Sort shapes alphabetically\n",
    "\n",
    "# Plot\n",
    "plt.figure(figsize=(12, 6))\n",
    "plt.plot(first_occurrence['shape'], first_occurrence['first_year'], marker='o', linestyle='-', color='skyblue')\n",
    "plt.xticks(rotation=45, ha='right')  # Rotate x-axis labels for better visibility\n",
    "plt.xlabel('UFO Shape')\n",
    "plt.ylabel('Year of First Occurrence')\n",
    "plt.title('Year of First UFO Sighting by Shape')\n",
    "plt.grid(axis='y', linestyle='--', alpha=0.7)\n",
    "plt.tight_layout()\n",
    "plt.show()"
   ]
  },
  {
   "cell_type": "markdown",
   "id": "cf733b4c-8b4a-4ffa-8daa-5cc780fdc645",
   "metadata": {},
   "source": [
    "## Looks like the 50's were a good time for first time space vehicle types. The most popular shapes 'light' and 'round' were first observed early on, although 'other' is the first observation. There are two new shapes in quick succession in the late 90's after a large gap."
   ]
  },
  {
   "cell_type": "markdown",
   "id": "020e6510-1b3d-4684-b5fb-13154acebd50",
   "metadata": {},
   "source": [
    "## Lets see how the number of different shapes observed changed throughout the years."
   ]
  },
  {
   "cell_type": "code",
   "execution_count": null,
   "id": "94ddd5a0-2b57-40f2-aa8a-4ab01d2a711a",
   "metadata": {
    "scrolled": true
   },
   "outputs": [],
   "source": [
    "# Get a cumulative count of distinct shapes by year\n",
    "cumulative_shapes = first_occurrence.groupby('first_year').size().cumsum().reset_index()\n",
    "cumulative_shapes.columns = ['year', 'cumulative_count']\n",
    "\n",
    "# Step 3: Plot the cumulative trend\n",
    "plt.figure(figsize=(18, 6), dpi=100)\n",
    "plt.plot(cumulative_shapes['year'], cumulative_shapes['cumulative_count'], marker='o', linestyle='-', color='skyblue')\n",
    "plt.xticks(cumulative_shapes['year'], rotation=45, ha='right')\n",
    "plt.xlabel('Year')\n",
    "plt.ylabel('Cumulative Count of UFO Shapes')\n",
    "plt.title('Cumulative Introduction of New UFO Shapes Over Time')\n",
    "plt.grid(axis='y', linestyle='--', alpha=0.7)\n",
    "plt.tight_layout()\n",
    "plt.show()"
   ]
  },
  {
   "cell_type": "markdown",
   "id": "cd8437ab-4e06-4deb-a1dd-f66b2c8f3cc7",
   "metadata": {},
   "source": [
    "## Again it shows the 50's being a good time for first time viewing of a particular shape."
   ]
  },
  {
   "cell_type": "markdown",
   "id": "f6b0a496-d381-42b5-9ccf-1f629ee0e686",
   "metadata": {},
   "source": [
    "## I want to see if the time of day bears any correlation to the months."
   ]
  },
  {
   "cell_type": "code",
   "execution_count": null,
   "id": "1554f34f-299d-4e0e-a1ee-0146249840d0",
   "metadata": {},
   "outputs": [],
   "source": [
    "\n",
    "# Define the correct order for months\n",
    "month_order = ['Jan', 'Feb', 'Mar', 'Apr', 'May', 'Jun', \n",
    "               'Jul', 'Aug', 'Sep', 'Oct', 'Nov', 'Dec']\n",
    "\n",
    "\n",
    "\n",
    "\n",
    "def plot_time_of_day_distribution(data, hemisphere, ax, colormap):\n",
    "\n",
    "    data['month_seen'] = data['month_seen'].map({\n",
    "        1: 'Jan', 2: 'Feb', 3: 'Mar', 4: 'Apr', 5: 'May', 6: 'Jun', \n",
    "        7: 'Jul', 8: 'Aug', 9: 'Sep', 10: 'Oct', 11: 'Nov', 12: 'Dec'\n",
    "        })\n",
    "    \n",
    "    # Group by month_seen and time_of_day\n",
    "    month_time_counts = data.groupby(['month_seen', 'time_of_day']).size().reset_index(name='count')\n",
    "    \n",
    "    # Make sure the month_seen column is a categorical variable in the correct order\n",
    "    month_time_counts['month_seen'] = pd.Categorical(\n",
    "        month_time_counts['month_seen'], categories=month_order, ordered=True\n",
    "    )\n",
    "\n",
    "    #print(f\"Unique months ({hemisphere} Hemisphere):\", month_time_counts['month_seen'].unique())\n",
    "    month_time_counts = month_time_counts.groupby(['month_seen', 'time_of_day'], as_index=False)['count'].sum()\n",
    "    \n",
    "    pivot_table = month_time_counts.pivot(index='month_seen', columns='time_of_day', values='count').fillna(0)\n",
    "    \n",
    "    # Calculate values to percentages\n",
    "    pivot_table_percentage = pivot_table.div(pivot_table.sum(axis=1), axis=0) * 100\n",
    "    pivot_table_percentage.head()\n",
    "\n",
    "    pivot_table_percentage.plot(kind='bar', stacked=True, colormap=colormap, ax=ax)\n",
    "    ax.set_title(f'Percentage of Sightings by Time of Day ({hemisphere} Hemisphere)', fontsize=14)\n",
    "    ax.set_xlabel('Month', fontsize=12)\n",
    "    ax.set_ylabel('Percentage of Sightings', fontsize=12)\n",
    "    ax.set_xticklabels(month_order, rotation=45)\n",
    "    ax.legend(title='Time of Day', bbox_to_anchor=(1.05, 1), loc='upper left')\n",
    "    ax.grid(axis='y', linestyle='--', alpha=0.7)\n",
    "\n",
    "# Filter data for Northern and Southern hemispheres\n",
    "north_data = axdf[axdf['hemisphere'] == 'North']\n",
    "south_data = axdf[axdf['hemisphere'] == 'South']\n",
    "\n",
    "# Create a plot for each hemisphere.\n",
    "fig, axes = plt.subplots(2, 1, figsize=(12, 16), sharex=True)\n",
    "\n",
    "# Plot for the Northern Hemisphere\n",
    "plot_time_of_day_distribution(north_data, 'Northern', axes[0], 'viridis')\n",
    "\n",
    "# Plot for the Southern Hemisphere\n",
    "plot_time_of_day_distribution(south_data, 'Southern', axes[1], 'plasma')\n",
    "\n",
    "# Adjust layout\n",
    "plt.tight_layout()\n",
    "plt.show()\n"
   ]
  },
  {
   "cell_type": "code",
   "execution_count": null,
   "id": "d7d00038-50ce-449e-80da-9058e43c6abe",
   "metadata": {},
   "outputs": [],
   "source": []
  },
  {
   "cell_type": "markdown",
   "id": "204bcce5-f1d2-415b-b2f2-7788029b58cd",
   "metadata": {},
   "source": [
    "## For the northern hemisphere evening and night obviously the most opportunistic. Especially during the summer and also, but not as much, in the autumn and spring which is where dawn sightings are at their highest. <br> <br> In the southern hemisphere again evening and night time are the most popular times. Particularly it appears at the heinght of both summer and winter. <br> <br>  Note that evening and night time popularity are somewhat inverse between the two hemispheres with the seasons being reversed."
   ]
  },
  {
   "cell_type": "code",
   "execution_count": null,
   "id": "809ac399-7af4-48a0-92c5-95140dadfda5",
   "metadata": {},
   "outputs": [],
   "source": [
    "month_order = ['Jan', 'Feb', 'Mar', 'Apr', 'May', 'Jun', \n",
    "               'Jul', 'Aug', 'Sep', 'Oct', 'Nov', 'Dec']\n",
    "\n",
    "# Change month_seen to show month abbreviation.\n",
    "axdf['month_seen'] = axdf['month_seen'].map({\n",
    "    1: 'Jan', 2: 'Feb', 3: 'Mar', 4: 'Apr', 5: 'May', 6: 'Jun', \n",
    "    7: 'Jul', 8: 'Aug', 9: 'Sep', 10: 'Oct', 11: 'Nov', 12: 'Dec',\n",
    "    'January': 'Jan', 'February': 'Feb', 'March': 'Mar', 'April': 'Apr',\n",
    "    'May': 'May', 'June': 'Jun', 'July': 'Jul', 'August': 'Aug',\n",
    "    'September': 'Sep', 'October': 'Oct', 'November': 'Nov', 'December': 'Dec'\n",
    "})\n",
    "\n",
    "\n",
    "# Filter data for Northern and Southern hemispheres\n",
    "north_data = axdf[axdf['hemisphere'] == 'North']\n",
    "south_data = axdf[axdf['hemisphere'] == 'South']\n",
    "\n",
    "north_data.tail(5)"
   ]
  },
  {
   "cell_type": "code",
   "execution_count": 85,
   "id": "26d9a440-9ee8-4067-ba78-3be5d2379888",
   "metadata": {
    "scrolled": true
   },
   "outputs": [
    {
     "data": {
      "image/png": "[encoded data removed]",
      "text/plain": [
       "<Figure size 1600x1200 with 2 Axes>"
      ]
     },
     "metadata": {},
     "output_type": "display_data"
    }
   ],
   "source": [
    "# Define the correct month order\n",
    "month_order = ['Jan', 'Feb', 'Mar', 'Apr', 'May', 'Jun', \n",
    "               'Jul', 'Aug', 'Sep', 'Oct', 'Nov', 'Dec']\n",
    "\n",
    " # Change month_seen to show month abbreviation.\n",
    "axdf['month_seen'] = axdf['month_seen'].map({\n",
    "    1: 'Jan', 2: 'Feb', 3: 'Mar', 4: 'Apr', 5: 'May', 6: 'Jun', \n",
    "    7: 'Jul', 8: 'Aug', 9: 'Sep', 10: 'Oct', 11: 'Nov', 12: 'Dec',\n",
    "    'January': 'Jan', 'February': 'Feb', 'March': 'Mar', 'April': 'Apr',\n",
    "    'May': 'May', 'June': 'Jun', 'July': 'Jul', 'August': 'Aug',\n",
    "    'September': 'Sep', 'October': 'Oct', 'November': 'Nov', 'December': 'Dec'\n",
    "})\n",
    "\n",
    "\n",
    "# Filter data for Northern and Southern hemispheres\n",
    "north_data = axdf[axdf['hemisphere'] == 'North']\n",
    "south_data = axdf[axdf['hemisphere'] == 'South']\n",
    "\n",
    "# Group and count sightings for each month for Northern Hemisphere\n",
    "north_monthly_counts = north_data['month_seen'].value_counts()\n",
    "north_monthly_counts = north_monthly_counts.reindex(month_order, fill_value=0)\n",
    "\n",
    "# Group and count sightings for each month for Southern Hemisphere\n",
    "south_monthly_counts = south_data['month_seen'].value_counts()\n",
    "south_monthly_counts = south_monthly_counts.reindex(month_order, fill_value=0)\n",
    "\n",
    "# Create the subplots\n",
    "fig, axes = plt.subplots(2, 1, figsize=(16, 12), sharex=True)\n",
    "\n",
    "# Northern Hemisphere plot\n",
    "axes[0].bar(north_monthly_counts.index, north_monthly_counts.values, color='skyblue', edgecolor='black')\n",
    "axes[0].set_title('Total Number of Sightings by Month (Northern Hemisphere)', fontsize=14)\n",
    "axes[0].set_ylabel('Number of Sightings', fontsize=12)\n",
    "axes[0].grid(axis='y', linestyle='--', alpha=0.7)\n",
    "\n",
    "# Southern Hemisphere plot\n",
    "axes[1].bar(south_monthly_counts.index, south_monthly_counts.values, color='salmon', edgecolor='black')\n",
    "axes[1].set_title('Total Number of Sightings by Month (Southern Hemisphere)', fontsize=14)\n",
    "axes[1].set_xlabel('Month', fontsize=12)\n",
    "axes[1].set_ylabel('Number of Sightings', fontsize=12)\n",
    "axes[1].grid(axis='y', linestyle='--', alpha=0.7)\n",
    "\n",
    "# Adjust layout\n",
    "plt.xticks(rotation=45, fontsize=10)\n",
    "plt.tight_layout()\n",
    "plt.show()\n"
   ]
  },
  {
   "cell_type": "markdown",
   "id": "efb8469f-ff01-4f8a-a149-0fc2d2e024e9",
   "metadata": {},
   "source": [
    "### Summer months show the more sightings in the northern hemisphere and I was expecting the same for the southern but June shows the highest number which is the start of the winter."
   ]
  },
  {
   "cell_type": "markdown",
   "id": "d99042c3-2b4f-4be4-93d8-edb9eaa8239a",
   "metadata": {},
   "source": [
    "### I would like to see if the seasons bear any relation to sighting frequency.  I will break down the number of sightings for each season and hemisphere."
   ]
  },
  {
   "cell_type": "code",
   "execution_count": 86,
   "id": "7ccdbebe-8139-49a1-ab61-5d88663d9038",
   "metadata": {},
   "outputs": [
    {
     "data": {
      "image/png": "[encoded data removed]",
      "text/plain": [
       "<Figure size 1500x800 with 1 Axes>"
      ]
     },
     "metadata": {},
     "output_type": "display_data"
    }
   ],
   "source": [
    "North_Sightings = axdf[axdf['hemisphere'] == 'North']\n",
    "South_Sightings = axdf[axdf['hemisphere'] == 'South']\n",
    "\n",
    "NorthPct = North_Sightings['season'].value_counts() / len(North_Sightings) * 100\n",
    "SouthPct = South_Sightings['season'].value_counts() / len(South_Sightings) * 100\n",
    "\n",
    "pos = list(range(len(NorthPct)))\n",
    "\n",
    "width = 0.4\n",
    "fig, ax = plt.subplots(figsize = (15,8))\n",
    "\n",
    "plt.bar(pos, NorthPct, width, alpha = .7, color='#0064A9')\n",
    "plt.bar([p + width*1.05 for p in pos], SouthPct, width, alpha = .65, color='#E1E066')\n",
    "\n",
    "ax.set_title('UFO Sightings by Season')\n",
    "ax.set_xlabel('Season')\n",
    "ax.set_ylabel('% of UFO Sightings')\n",
    "ax.set_xticks([p + .5 * width for p in pos])\n",
    "ax.set_xticklabels(NorthPct.index)\n",
    "plt.xticks(rotation=45)\n",
    "\n",
    "plt.ylim([0, 60])\n",
    "plt.legend(['Northern Hemisphere','Southern Hemisphere'], loc='upper left')\n",
    "plt.show()\n",
    "#print('Northern Hemisphere:\\n', NorthPct)\n",
    "#print('Southern Hemisphere:\\n',SouthPct)\n",
    "\n"
   ]
  },
  {
   "cell_type": "markdown",
   "id": "98418b7b-f3e9-473f-a8ea-20fff3337d85",
   "metadata": {},
   "source": [
    "### To summarize.  \n",
    "-  Where do the most UFO sightings occur.\n",
    " <br> The U.S. by a considerable margin mfollowed by the U.K. and Canada. There are many other countries visited though.\n",
    " - Sightings over the years.\n",
    "   <br> A slow but steady rise until the mid 90's where there is a huge spike. Possible reasons...\n",
    "      -  reporting sightings became easier with access to the Internet and portable technology\n",
    "      -  people's perception especially with media coverage and just taking time to observe whats going on.\n",
    "      - More secret or classified military exercises and overflights are occurring over populated areas\n",
    "      - Just more aliens paying a visit.\n",
    "  - Sightings over the years post 1990\n",
    "    <br> Steady rise but a bit of a spike in 1995 when UFO films were popular and 2012 which was the end of the world.\r",
    " - Are any particular shapes preferable for visting certain countries (trend between shapes and country)\n",
    "   <br> No there are no trends between shape and location.\n",
    " - Most popular shapes\n",
    "   <br> Looks like 'light' and 'round' are the two most observed shapes. A 'light' shape could of course be any shape if it was at too great a distance to make out any detail. And 'round' is the conventional shape I suppose. If those cartoons are to be believed anyway.\n",
    "- Distribution of shapes over the years\n",
    "  <br> In the early years, with fewer sightings, there were years when only one shape had been observed. Around the early 50's it seems to settle into a general mish-mash apart from an erratic 'round' shape and a huge spike for 'unknown' in 1997? A few shapes seem to be more popular than the others though.\n",
    " - Count of new shapes over the years\n",
    "   <br> The 50's were a good time for first time space vehicle types. The most popular shapes 'light' and 'round' were first observed early on, although 'other' is the first observation. There are three new shapes in quick succession in the late 90's.\n",
    " - Sightings percent time of day\n",
    "   <br> For the most part most fruitful at night. If not night then during the evening, especially closer to the equator.\n",
    " - Sightings percent of time of day between hemispheres\n",
    "   <br> For the northern hemisphere evening and night obviously the most opportunistic. Especially during the summer and also, but not as much, in the autumn and spring which is where dawn sightings are at their highest. <br> In the southern hemisphere again evening and night time are the most popular times. Particularly it appears at the height of both summer and winter. <br> Note that evening and night time popularity are somewhat inverse between the two hemispheres with the seasons being reversed.\n",
    " - Sightings per month of the years\n",
    "   <br> Summer months show the more sightings in the northern hemisphere and I was expecting the same for the southern but June shows the highest number which is the start of the winter.\n",
    " - Comparative sightings volume per season between the hemispheres.\n",
    "   <br> Pretty much the same except for spring which makes for better viewing in the south."
   ]
  },
  {
   "cell_type": "code",
   "execution_count": null,
   "id": "6cc15347-a67b-4649-b1cc-01f8427adaeb",
   "metadata": {},
   "outputs": [],
   "source": []
  },
  {
   "cell_type": "code",
   "execution_count": null,
   "id": "b2b854bb-5ef1-446e-ae83-258cf5ffcfc3",
   "metadata": {},
   "outputs": [],
   "source": []
  }
 ],
 "metadata": {
  "kernelspec": {
   "display_name": "Python 3 (ipykernel)",
   "language": "python",
   "name": "python3"
  },
  "language_info": {
   "codemirror_mode": {
    "name": "ipython",
    "version": 3
   },
   "file_extension": ".py",
   "mimetype": "text/x-python",
   "name": "python",
   "nbconvert_exporter": "python",
   "pygments_lexer": "ipython3",
   "version": "3.11.5"
  }
 },
 "nbformat": 4,
 "nbformat_minor": 5
}
